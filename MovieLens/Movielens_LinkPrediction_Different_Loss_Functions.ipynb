{
  "nbformat": 4,
  "nbformat_minor": 0,
  "metadata": {
    "colab": {
      "provenance": [],
      "machine_shape": "hm",
      "gpuType": "V100"
    },
    "kernelspec": {
      "name": "python3",
      "display_name": "Python 3"
    },
    "language_info": {
      "name": "python"
    },
    "accelerator": "GPU"
  },
  "cells": [
    {
      "cell_type": "code",
      "source": [
        "import os\n",
        "import torch\n",
        "print(\"Using torch\", torch.__version__)"
      ],
      "metadata": {
        "colab": {
          "base_uri": "https://localhost:8080/"
        },
        "id": "O2FxO45siN-k",
        "outputId": "348cae54-271f-401c-ed47-df6ef743d97c"
      },
      "execution_count": 1,
      "outputs": [
        {
          "output_type": "stream",
          "name": "stdout",
          "text": [
            "Using torch 2.1.0+cu118\n"
          ]
        }
      ]
    },
    {
      "cell_type": "code",
      "source": [
        "!pip install torch-scatter torch-sparse torch-cluster torch-spline-conv torch-geometric -f https://data.pyg.org/whl/torch-2.1.0+cu118.html\n",
        "!pip install pyg-library"
      ],
      "metadata": {
        "colab": {
          "base_uri": "https://localhost:8080/"
        },
        "id": "8NsaGZNFiS7X",
        "outputId": "c6eea9bc-595e-4cda-9736-2770a241d3e9"
      },
      "execution_count": 2,
      "outputs": [
        {
          "output_type": "stream",
          "name": "stdout",
          "text": [
            "Looking in links: https://data.pyg.org/whl/torch-2.1.0+cu118.html\n",
            "Requirement already satisfied: torch-scatter in /usr/local/lib/python3.10/dist-packages (2.1.2+pt21cu118)\n",
            "Requirement already satisfied: torch-sparse in /usr/local/lib/python3.10/dist-packages (0.6.18+pt21cu118)\n",
            "Requirement already satisfied: torch-cluster in /usr/local/lib/python3.10/dist-packages (1.6.3+pt21cu118)\n",
            "Requirement already satisfied: torch-spline-conv in /usr/local/lib/python3.10/dist-packages (1.2.2+pt21cu118)\n",
            "Requirement already satisfied: torch-geometric in /usr/local/lib/python3.10/dist-packages (2.4.0)\n",
            "Requirement already satisfied: scipy in /usr/local/lib/python3.10/dist-packages (from torch-sparse) (1.11.4)\n",
            "Requirement already satisfied: tqdm in /usr/local/lib/python3.10/dist-packages (from torch-geometric) (4.66.1)\n",
            "Requirement already satisfied: numpy in /usr/local/lib/python3.10/dist-packages (from torch-geometric) (1.23.5)\n",
            "Requirement already satisfied: jinja2 in /usr/local/lib/python3.10/dist-packages (from torch-geometric) (3.1.2)\n",
            "Requirement already satisfied: requests in /usr/local/lib/python3.10/dist-packages (from torch-geometric) (2.31.0)\n",
            "Requirement already satisfied: pyparsing in /usr/local/lib/python3.10/dist-packages (from torch-geometric) (3.1.1)\n",
            "Requirement already satisfied: scikit-learn in /usr/local/lib/python3.10/dist-packages (from torch-geometric) (1.2.2)\n",
            "Requirement already satisfied: psutil>=5.8.0 in /usr/local/lib/python3.10/dist-packages (from torch-geometric) (5.9.5)\n",
            "Requirement already satisfied: MarkupSafe>=2.0 in /usr/local/lib/python3.10/dist-packages (from jinja2->torch-geometric) (2.1.3)\n",
            "Requirement already satisfied: charset-normalizer<4,>=2 in /usr/local/lib/python3.10/dist-packages (from requests->torch-geometric) (3.3.2)\n",
            "Requirement already satisfied: idna<4,>=2.5 in /usr/local/lib/python3.10/dist-packages (from requests->torch-geometric) (3.6)\n",
            "Requirement already satisfied: urllib3<3,>=1.21.1 in /usr/local/lib/python3.10/dist-packages (from requests->torch-geometric) (2.0.7)\n",
            "Requirement already satisfied: certifi>=2017.4.17 in /usr/local/lib/python3.10/dist-packages (from requests->torch-geometric) (2023.11.17)\n",
            "Requirement already satisfied: joblib>=1.1.1 in /usr/local/lib/python3.10/dist-packages (from scikit-learn->torch-geometric) (1.3.2)\n",
            "Requirement already satisfied: threadpoolctl>=2.0.0 in /usr/local/lib/python3.10/dist-packages (from scikit-learn->torch-geometric) (3.2.0)\n",
            "Requirement already satisfied: pyg-library in /usr/local/lib/python3.10/dist-packages (0.2.0)\n"
          ]
        }
      ]
    },
    {
      "cell_type": "code",
      "execution_count": 3,
      "metadata": {
        "id": "6qIvPcJKiBrk"
      },
      "outputs": [],
      "source": [
        "from torch_geometric.data import Data\n",
        "from torch_geometric.datasets import MovieLens100K\n",
        "from torch_geometric import nn\n",
        "import torch_geometric.transforms as T"
      ]
    },
    {
      "cell_type": "code",
      "source": [
        "dataset = MovieLens100K(root='/tmp/movielens')"
      ],
      "metadata": {
        "id": "lLL0SQpViz3E"
      },
      "execution_count": 4,
      "outputs": []
    },
    {
      "cell_type": "code",
      "source": [
        "movielens_raw = dataset[0]\n",
        "movielens_raw"
      ],
      "metadata": {
        "colab": {
          "base_uri": "https://localhost:8080/"
        },
        "id": "ceTXkEA-jLzv",
        "outputId": "dd8f34e2-04ad-4477-dd5c-a53d2779a670"
      },
      "execution_count": 5,
      "outputs": [
        {
          "output_type": "execute_result",
          "data": {
            "text/plain": [
              "HeteroData(\n",
              "  movie={ x=[1682, 18] },\n",
              "  user={ x=[943, 24] },\n",
              "  (user, rates, movie)={\n",
              "    edge_index=[2, 80000],\n",
              "    rating=[80000],\n",
              "    time=[80000],\n",
              "    edge_label_index=[2, 20000],\n",
              "    edge_label=[20000],\n",
              "  },\n",
              "  (movie, rated_by, user)={\n",
              "    edge_index=[2, 80000],\n",
              "    rating=[80000],\n",
              "    time=[80000],\n",
              "  }\n",
              ")"
            ]
          },
          "metadata": {},
          "execution_count": 5
        }
      ]
    },
    {
      "cell_type": "code",
      "source": [
        "del movielens_raw[(\"user\", \"rates\", \"movie\")].edge_label_index\n",
        "del movielens_raw[(\"user\", \"rates\", \"movie\")].edge_label"
      ],
      "metadata": {
        "id": "cUjCUcJiyOXf"
      },
      "execution_count": 6,
      "outputs": []
    },
    {
      "cell_type": "code",
      "source": [
        "movielens_raw"
      ],
      "metadata": {
        "colab": {
          "base_uri": "https://localhost:8080/"
        },
        "id": "-QgwUtF4ygRr",
        "outputId": "1c75ebe4-ae0e-425a-e46e-148931b323e5"
      },
      "execution_count": 7,
      "outputs": [
        {
          "output_type": "execute_result",
          "data": {
            "text/plain": [
              "HeteroData(\n",
              "  movie={ x=[1682, 18] },\n",
              "  user={ x=[943, 24] },\n",
              "  (user, rates, movie)={\n",
              "    edge_index=[2, 80000],\n",
              "    rating=[80000],\n",
              "    time=[80000],\n",
              "  },\n",
              "  (movie, rated_by, user)={\n",
              "    edge_index=[2, 80000],\n",
              "    rating=[80000],\n",
              "    time=[80000],\n",
              "  }\n",
              ")"
            ]
          },
          "metadata": {},
          "execution_count": 7
        }
      ]
    },
    {
      "cell_type": "code",
      "source": [
        "node_types, edge_types = movielens_raw.metadata()\n",
        "print(node_types)\n",
        "print(edge_types)"
      ],
      "metadata": {
        "colab": {
          "base_uri": "https://localhost:8080/"
        },
        "id": "rU4Y8rtJlAcK",
        "outputId": "e7d7691b-1e04-429a-f2a4-b5e378d7b70e"
      },
      "execution_count": 8,
      "outputs": [
        {
          "output_type": "stream",
          "name": "stdout",
          "text": [
            "['movie', 'user']\n",
            "[('user', 'rates', 'movie'), ('movie', 'rated_by', 'user')]\n"
          ]
        }
      ]
    },
    {
      "cell_type": "code",
      "source": [
        "transform = T.Compose([\n",
        "    T.RandomLinkSplit(\n",
        "        num_val=0.05,\n",
        "        num_test=0.1,\n",
        "        disjoint_train_ratio=0.2,   # supervision\n",
        "        add_negative_train_samples=False,\n",
        "        neg_sampling_ratio=1.0,\n",
        "        edge_types=(\"user\", \"rates\", \"movie\"),\n",
        "        rev_edge_types=('movie', 'rated_by', 'user')\n",
        "    )\n",
        "])"
      ],
      "metadata": {
        "id": "Um7TkWqup3e_"
      },
      "execution_count": 9,
      "outputs": []
    },
    {
      "cell_type": "code",
      "source": [
        "train_data, val_data, test_data = transform(movielens_raw)"
      ],
      "metadata": {
        "id": "mxXmL0gSrKT5"
      },
      "execution_count": 10,
      "outputs": []
    },
    {
      "cell_type": "code",
      "source": [
        "def user_importance(num_users, edge_index):\n",
        "    \"\"\"\n",
        "    Calculates and normalizes the importance score for each user based on the average number of edges they are involved in.\n",
        "\n",
        "    Parameters:\n",
        "    num_users (int): The number of users.\n",
        "    edge_index (Tensor): 2D tensor of edge indices, where the first element of each pair is a user label.\n",
        "\n",
        "    Returns:\n",
        "    Tensor: 1D tensor of importance scores for each user.\n",
        "    \"\"\"\n",
        "    # Create a range of user labels based on the number of users\n",
        "    user_labels = torch.arange(num_users)\n",
        "\n",
        "    # Count the edges for each user\n",
        "    edge_counts = torch.zeros(num_users, dtype=torch.float32)\n",
        "    for user in edge_index[0, :]:\n",
        "        if user < num_users:\n",
        "            edge_counts[user] += 1\n",
        "\n",
        "\n",
        "    # Calculate the importance score for each user\n",
        "    # Users closer to the average have a higher score\n",
        "    importance_scores = 1 / (1 + torch.abs(edge_counts - torch.mean(edge_counts))/torch.std(edge_counts))\n",
        "\n",
        "\n",
        "    return importance_scores\n",
        "\n",
        "user_score=user_importance(movielens_raw[\"user\"].num_nodes, movielens_raw[(\"user\", \"rates\", \"movie\")].edge_index)"
      ],
      "metadata": {
        "id": "u3cDn7l_ZPKy"
      },
      "execution_count": 11,
      "outputs": []
    },
    {
      "cell_type": "code",
      "source": [
        "print(user_score)"
      ],
      "metadata": {
        "colab": {
          "base_uri": "https://localhost:8080/"
        },
        "id": "PChPDXtiTyOP",
        "outputId": "9d3203f5-984f-4338-c643-d845411c9ad6"
      },
      "execution_count": 12,
      "outputs": [
        {
          "output_type": "stream",
          "name": "stdout",
          "text": [
            "tensor([0.6256, 0.6515, 0.5959, 0.5419, 0.9315, 0.7691, 0.3954, 0.6045, 0.5350,\n",
            "        0.9014, 0.8061, 0.5834, 0.2253, 0.6566, 0.7714, 0.8411, 0.5600, 0.5305,\n",
            "        0.5283, 0.5875, 0.8918, 0.8496, 0.9636, 0.6566, 0.6566, 0.8165, 0.5283,\n",
            "        0.6464, 0.5527, 0.5834, 0.5754, 0.5715, 0.5419, 0.5283, 0.5527, 0.5250,\n",
            "        0.6366, 0.7933, 0.5385, 0.5715, 0.6089, 0.9636, 0.7552, 0.9454, 0.6002,\n",
            "        0.5316, 0.5490, 0.6178, 0.7908, 0.5385, 0.5490, 0.6271, 0.5490, 0.6045,\n",
            "        0.5283, 0.9212, 0.7310, 0.9454, 0.3917, 0.7104, 0.5350, 0.6871, 0.6947,\n",
            "        0.7762, 0.6947, 0.5676, 0.5350, 0.5563, 0.6415, 0.9145, 0.5715, 0.8763,\n",
            "        0.6224, 0.5676, 0.6724, 0.6778, 0.6464, 0.5419, 0.5917, 0.5419, 0.6045,\n",
            "        0.9863, 0.9246, 0.6670, 0.5305, 0.5316, 0.7485, 0.5316, 0.6515, 0.5142,\n",
            "        0.7064, 0.4129, 0.5250, 0.3810, 0.5373, 0.5959, 0.6271, 0.5490, 0.7933,\n",
            "        0.6224, 0.6415, 0.7552, 0.5455, 0.7933, 0.5490, 0.5959, 0.5385, 0.5527,\n",
            "        0.6303, 0.9673, 0.5350, 0.5794, 0.6089, 0.5917, 0.7005, 0.9636, 0.6318,\n",
            "        0.6618, 0.8642, 0.5419, 0.6833, 0.6224, 0.6002, 0.5419, 0.9420, 0.5754,\n",
            "        0.5316, 0.8300, 0.5455, 0.4736, 0.5455, 0.5527, 0.5563, 0.5350, 0.5638,\n",
            "        0.5638, 0.5794, 0.5917, 0.5455, 0.5283, 0.8086, 0.5638, 0.5455, 0.7835,\n",
            "        0.4555, 0.5600, 0.5283, 0.6178, 0.5834, 0.5283, 0.5080, 0.8496, 0.5385,\n",
            "        0.5917, 0.5316, 0.5563, 0.5917, 0.8554, 0.8411, 0.8165, 0.6224, 0.5638,\n",
            "        0.5385, 0.6178, 0.5563, 0.5283, 0.6415, 0.6271, 0.5754, 0.5455, 0.5600,\n",
            "        0.5250, 0.5917, 0.8824, 0.5754, 0.6618, 0.7933, 0.5515, 0.5754, 0.6224,\n",
            "        0.3863, 0.5419, 0.6045, 0.6350, 0.5794, 0.6947, 0.6224, 0.7575, 0.7762,\n",
            "        0.6318, 0.5283, 0.5638, 0.7786, 0.5206, 0.7005, 0.5676, 0.7185, 0.7984,\n",
            "        0.5600, 0.7552, 0.3917, 0.5385, 0.5715, 0.5600, 0.5283, 0.6178, 0.6350,\n",
            "        0.5316, 0.5490, 0.8496, 0.5676, 0.5527, 0.8245, 0.7933, 0.7064, 0.8763,\n",
            "        0.6366, 0.6178, 0.5490, 0.5283, 0.9786, 0.3954, 0.7185, 0.8009, 0.5455,\n",
            "        0.6089, 0.6318, 0.5185, 0.5455, 0.8950, 0.5283, 0.6890, 0.8327, 0.3026,\n",
            "        0.6890, 0.8496, 0.5917, 0.5419, 0.9863, 0.5455, 0.5350, 0.5316, 0.6778,\n",
            "        0.7227, 0.5385, 0.7621, 0.5455, 0.5676, 0.9527, 0.8086, 0.6724, 0.5316,\n",
            "        0.7440, 0.9980, 0.6833, 0.7353, 0.6089, 0.5217, 0.5917, 0.5350, 0.5283,\n",
            "        0.9673, 0.7714, 0.7933, 0.5917, 0.5490, 0.7984, 0.4709, 0.5049, 0.8672,\n",
            "        0.5239, 0.6089, 0.5350, 0.6464, 0.6947, 0.2941, 0.5959, 0.5350, 0.3478,\n",
            "        0.5741, 0.5527, 0.5283, 0.5959, 0.5959, 0.5490, 0.5339, 0.5959, 0.6670,\n",
            "        0.5385, 0.9349, 0.4873, 0.7440, 0.3917, 0.9901, 0.8468, 0.8855, 0.9112,\n",
            "        0.9246, 0.5479, 0.5350, 0.5588, 0.5283, 0.3048, 0.5385, 0.6760, 0.5455,\n",
            "        0.7310, 0.3863, 0.5316, 0.5090, 0.5702, 0.6498, 0.5515, 0.6031, 0.6778,\n",
            "        0.6724, 0.5350, 0.8824, 0.5490, 0.9349, 0.8672, 0.5917, 0.6724, 0.7124,\n",
            "        0.9046, 0.7485, 0.4817, 0.4989, 0.6366, 0.9980, 0.6515, 0.7289, 0.5419,\n",
            "        0.3863, 0.5385, 0.9980, 0.5676, 0.6566, 0.5339, 0.5917, 0.5350, 0.6600,\n",
            "        0.5373, 0.7762, 0.6303, 0.6303, 0.6986, 0.6089, 0.5959, 0.6271, 0.6045,\n",
            "        0.6002, 0.5676, 0.5551, 0.5638, 0.5455, 0.7185, 0.6271, 0.5419, 0.8411,\n",
            "        0.9246, 0.5563, 0.4030, 0.5419, 0.6415, 0.5527, 0.6271, 0.6133, 0.5527,\n",
            "        0.7440, 0.6464, 0.6724, 0.5408, 0.4343, 0.5490, 0.5715, 0.5638, 0.3187,\n",
            "        0.6209, 0.7289, 0.9527, 0.6178, 0.7185, 0.5490, 0.4170, 0.5563, 0.4010,\n",
            "        0.6618, 0.4170, 0.5638, 0.8918, 0.9562, 0.2669, 0.6760, 0.6833, 0.6464,\n",
            "        0.9454, 0.6498, 0.3366, 0.5527, 0.7485, 0.7310, 0.6890, 0.6318, 0.1443,\n",
            "        0.3070, 0.4482, 0.5754, 0.5443, 0.5754, 0.7064, 0.6366, 0.6515, 0.5715,\n",
            "        0.5676, 0.2015, 0.2775, 0.5455, 0.6002, 0.6133, 0.7375, 0.9454, 0.7124,\n",
            "        0.6515, 0.4736, 0.9748, 0.5794, 0.6947, 0.2309, 0.7786, 0.5563, 0.7124,\n",
            "        0.6366, 0.6566, 0.2422, 0.6706, 0.3537, 0.6002, 0.5959, 0.6947, 0.5638,\n",
            "        0.6815, 0.5794, 0.5676, 0.6928, 0.6271, 0.6653, 0.6271, 0.8245, 0.1700,\n",
            "        0.9315, 0.4298, 0.5664, 0.3742, 0.4580, 0.3954, 0.3127, 0.4683, 0.7227,\n",
            "        0.8245, 0.5754, 0.6133, 0.6350, 0.7247, 0.9454, 0.8383, 0.6724, 0.5903,\n",
            "        0.6670, 0.7507, 0.6089, 0.3199, 0.6271, 0.2571, 0.5638, 0.9786, 0.6271,\n",
            "        0.7485, 0.4170, 0.7714, 0.7440, 0.5875, 0.7644, 0.6074, 0.5875, 0.4458,\n",
            "        0.3644, 0.5479, 0.7762, 0.7507, 0.6178, 0.7375, 0.6256, 0.6890, 0.3954,\n",
            "        0.6549, 0.3015, 0.5664, 0.8300, 0.3742, 0.8763, 0.6366, 0.5272, 0.3353,\n",
            "        0.7552, 0.3478, 0.7575, 0.9748, 0.6178, 0.6045, 0.5794, 0.5676, 0.5715,\n",
            "        0.4343, 0.6515, 0.5676, 0.6366, 0.8763, 0.7005, 0.5754, 0.5626, 0.6045,\n",
            "        0.8468, 0.2748, 0.7310, 0.8327, 0.6164, 0.7247, 0.6670, 0.6778, 0.6045,\n",
            "        0.3070, 0.3236, 0.9454, 0.3863, 0.5174, 0.1714, 0.9562, 0.7440, 0.7933,\n",
            "        0.6350, 0.6256, 0.4276, 0.6089, 0.5206, 0.7644, 0.5754, 0.5443, 0.5834,\n",
            "        0.6515, 0.2517, 0.9901, 0.8468, 0.7418, 0.7185, 0.6724, 0.7247, 0.5638,\n",
            "        0.9046, 0.8383, 0.2354, 0.8672, 0.6045, 0.6224, 0.6271, 0.5664, 0.5443,\n",
            "        0.9562, 0.8496, 0.5715, 0.5638, 0.5638, 0.7124, 0.6833, 0.5875, 0.6318,\n",
            "        0.4482, 0.5794, 0.8855, 0.6890, 0.5959, 0.7859, 0.5917, 0.5794, 0.9454,\n",
            "        0.5080, 0.8642, 0.3742, 0.6670, 0.6947, 0.9901, 0.2335, 0.5408, 0.5834,\n",
            "        0.8824, 0.5638, 0.6566, 0.5834, 0.6890, 0.9527, 0.5702, 0.6002, 0.6890,\n",
            "        0.5917, 0.9420, 0.3567, 0.6366, 0.5174, 0.5959, 0.8950, 0.6618, 0.5917,\n",
            "        0.5959, 0.6464, 0.8219, 0.6670, 0.7835, 0.3899, 0.9527, 0.7691, 0.4931,\n",
            "        0.3692, 0.6778, 0.5987, 0.7984, 0.6133, 0.4657, 0.5917, 0.6986, 0.7835,\n",
            "        0.5638, 0.7165, 0.7575, 0.6256, 0.6224, 0.5638, 0.8139, 0.8245, 0.5702,\n",
            "        0.7762, 0.6515, 0.2644, 0.4089, 0.6618, 0.6928, 0.6415, 0.7575, 0.2832,\n",
            "        0.5794, 0.2704, 0.5676, 0.5715, 0.2972, 0.5741, 0.1225, 0.5794, 0.6002,\n",
            "        0.8583, 0.4412, 0.3759, 0.6986, 0.5754, 0.5339, 0.5080, 0.5945, 0.3435,\n",
            "        0.6890, 0.6833, 0.8468, 0.6833, 0.6815, 0.6002, 0.6271, 0.6566, 0.6224,\n",
            "        0.9145, 0.7005, 0.5959, 0.7859, 0.6415, 0.5715, 0.2106, 0.8950, 0.9863,\n",
            "        0.5638, 0.8583, 0.5676, 0.5794, 0.6318, 0.7353, 0.6133, 0.6515, 0.5479,\n",
            "        0.5373, 0.6415, 0.6002, 0.8061, 0.6653, 0.5664, 0.5676, 0.6178, 0.6089,\n",
            "        0.6890, 0.9420, 0.7418, 0.6002, 0.3567, 0.8061, 0.6119, 0.9863, 0.3810,\n",
            "        0.5206, 0.6045, 0.6724, 0.5049, 0.3127, 0.9112, 0.6464, 0.8245, 0.6045,\n",
            "        0.5019, 0.6618, 0.5715, 0.9980, 0.5834, 0.5794, 0.2611, 0.5875, 0.5676,\n",
            "        0.6415, 0.9786, 0.5638, 0.7908, 0.8009, 0.7247, 0.5794, 0.6178, 0.5702,\n",
            "        0.6271, 0.5638, 0.8139, 0.5875, 0.6271, 0.5917, 0.7714, 0.8245, 0.2870,\n",
            "        0.7835, 0.2757, 0.6178, 0.5019, 0.8763, 0.7507, 0.6224, 0.6415, 0.7762,\n",
            "        0.5080, 0.2354, 0.6133, 0.6566, 0.8165, 0.5676, 0.6549, 0.7762, 0.5754,\n",
            "        0.4817, 0.6366, 0.8009, 0.6002, 0.8009, 0.8496, 0.6178, 0.5239, 0.3759,\n",
            "        0.5959, 0.8061, 0.6318, 0.8086, 0.6366, 0.7375, 0.6618, 0.3628, 0.6045,\n",
            "        0.6464, 0.5917, 0.7227, 0.7507, 0.3380, 0.6178, 0.3644, 0.5834, 0.6890,\n",
            "        0.7375, 0.6464, 0.5305, 0.2348, 0.5875, 0.3522, 0.5794, 0.5959, 0.5875,\n",
            "        0.8950, 0.6178, 0.2532, 0.3081, 0.6031, 0.4129, 0.5754, 0.5638, 0.5875,\n",
            "        0.5676, 0.5638, 0.6002, 0.6271, 0.4605, 0.5834, 0.6318, 0.5676, 0.5959,\n",
            "        0.5676, 0.7859, 0.5834, 0.4555, 0.5638, 0.5821, 0.7353, 0.5959, 0.8139,\n",
            "        0.8009, 0.7984, 0.8763, 0.5834, 0.3151, 0.7310, 0.8300, 0.7064, 0.6833,\n",
            "        0.9112, 0.7507, 0.4276, 0.6089, 0.5917, 0.4129, 0.9562, 0.6089, 0.2075,\n",
            "        0.5781, 0.5626, 0.5754, 0.7124, 0.4030, 0.7005, 0.6566, 0.3880, 0.5754,\n",
            "        0.5875, 0.5715, 0.5676, 0.6464, 0.8583, 0.6670, 0.5111, 0.7908, 0.2861,\n",
            "        0.8165, 0.5638, 0.8918, 0.4049, 0.6890, 0.3127, 0.7353, 0.8583, 0.5638,\n",
            "        0.6224, 0.9527, 0.5676, 0.9562, 0.6303, 0.6002, 0.2284, 0.3249, 0.6164,\n",
            "        0.3139, 0.6670, 0.8300, 0.3507, 0.4931, 0.5638, 0.2579, 0.7104, 0.6890,\n",
            "        0.3725, 0.7644, 0.3435, 0.5638, 0.2322, 0.4555, 0.6045, 0.6256, 0.6778,\n",
            "        0.6815, 0.7005, 0.6209, 0.6890, 0.6515, 0.6566, 0.5741, 0.8855, 0.5875,\n",
            "        0.7714, 0.8642, 0.7247, 0.6399, 0.5754, 0.5875, 0.2652, 0.6271, 0.8219,\n",
            "        0.3880, 0.5875, 0.7691, 0.6653, 0.8855, 0.9673, 0.6133, 0.5638, 0.7044,\n",
            "        0.6133, 0.7005, 0.7933, 0.7786, 0.3492, 0.4580, 0.4845, 0.6464, 0.5945,\n",
            "        0.6515, 0.7835, 0.7005, 0.7908, 0.5715, 0.9349, 0.5019])\n"
          ]
        }
      ]
    },
    {
      "cell_type": "code",
      "source": [
        "def edge_importance(user_importance, edge_index,labels):\n",
        "    \"\"\"\n",
        "    Calculates the importance score for each edge based on the user importance scores.\n",
        "\n",
        "    Parameters:\n",
        "    user_importance_scores (Tensor): 1D tensor of user importance scores.\n",
        "    edge_index (Tensor): 2D tensor of edge indices with shape [2, num_edges].\n",
        "\n",
        "    Returns:\n",
        "    Tensor: 1D tensor of importance scores for each edge.\n",
        "    \"\"\"\n",
        "    # Number of edges is the size of the second dimension of edge_index\n",
        "    num_edges = edge_index.size(1)\n",
        "\n",
        "    # Initialize a tensor to hold the importance scores for each edge\n",
        "    edge_scores = torch.zeros(num_edges, dtype=torch.float32)\n",
        "\n",
        "    # Assign each edge the importance score of the user it involves\n",
        "    for i in range(num_edges):\n",
        "        if(labels[i]==1):\n",
        "            user = edge_index[0, i]\n",
        "            edge_scores[i] = user_importance[user]\n",
        "        else:\n",
        "            edge_scores[i] = user_importance.max()\n",
        "\n",
        "\n",
        "\n",
        "    return edge_scores"
      ],
      "metadata": {
        "id": "n34ghdgzZwHV"
      },
      "execution_count": 13,
      "outputs": []
    },
    {
      "cell_type": "code",
      "source": [
        "import sys\n",
        "import torch_geometric\n",
        "from torch_geometric.nn import GCNConv, SAGEConv, GATConv, GINConv\n",
        "from torch_geometric.nn import BatchNorm, LayerNorm, HeteroBatchNorm, HeteroLayerNorm\n",
        "from torch_geometric.nn import to_hetero\n",
        "\n",
        "class SAGE(torch.nn.Module):\n",
        "    def __init__(self, in_channels, hidden_channels, out_channels):\n",
        "        super().__init__()\n",
        "\n",
        "        self.relu = torch.nn.ReLU()\n",
        "        self.conv1 = SAGEConv(in_channels, hidden_channels)\n",
        "        self.conv2 = SAGEConv(hidden_channels, hidden_channels)\n",
        "        self.conv3 = SAGEConv(hidden_channels, out_channels)\n",
        "\n",
        "    def forward(self, node_feature, edge_index):\n",
        "\n",
        "        output1 = self.relu(self.conv1(node_feature, edge_index))\n",
        "        output2 = self.relu(self.conv2(output1, edge_index))\n",
        "        output = self.conv3(output2, edge_index)\n",
        "        return output\n",
        "\n",
        "class SAGE_RES(torch.nn.Module):\n",
        "    def __init__(self, in_channels, hidden_channels, out_channels):\n",
        "        super().__init__()\n",
        "\n",
        "        self.relu = torch.nn.ReLU()\n",
        "        self.conv1 = SAGEConv(in_channels, hidden_channels)\n",
        "        self.conv2 = SAGEConv(hidden_channels, hidden_channels)\n",
        "        self.conv3 = SAGEConv(hidden_channels, out_channels)\n",
        "        self.res = torch.nn.Linear(in_channels, out_channels)\n",
        "        # self.norm1 = BatchNorm(hidden_channels, 2)\n",
        "        # self.norm2 = BatchNorm(hidden_channels, 2)\n",
        "\n",
        "    def forward(self, node_feature, edge_index):\n",
        "\n",
        "        output1 = self.relu(self.conv1(node_feature, edge_index))\n",
        "        # output1 = self.norm1(output1)\n",
        "        output2 = self.relu(self.conv2(output1, edge_index))\n",
        "        # output2 = self.norm2(output2)\n",
        "        output3 = self.conv3(output2, edge_index)\n",
        "        output_res = self.res(node_feature)\n",
        "        return (output3 + output_res) * 0.5\n",
        "\n",
        "class GAT(torch.nn.Module):\n",
        "    def __init__(self, in_channels, hidden_channels, out_channels):\n",
        "        super().__init__()\n",
        "\n",
        "        self.relu = torch.nn.ReLU()\n",
        "        self.conv1 = GATConv(in_channels, hidden_channels, add_self_loops=False)\n",
        "        self.conv2 = GATConv(hidden_channels, hidden_channels, add_self_loops=False)\n",
        "        self.conv3 = GATConv(hidden_channels, out_channels, add_self_loops=False)\n",
        "\n",
        "    def forward(self, node_feature, edge_index):\n",
        "\n",
        "        output1 = self.relu(self.conv1(node_feature, edge_index))\n",
        "        output2 = self.relu(self.conv2(output1, edge_index))\n",
        "        output = self.conv3(output2, edge_index)\n",
        "        return output\n",
        "\n",
        "class GAT_RES(torch.nn.Module):\n",
        "    def __init__(self, in_channels, hidden_channels, out_channels):\n",
        "        super().__init__()\n",
        "\n",
        "        self.relu = torch.nn.ReLU()\n",
        "        self.conv1 = GATConv(in_channels, hidden_channels, add_self_loops=False)\n",
        "        self.conv2 = GATConv(hidden_channels, hidden_channels, add_self_loops=False)\n",
        "        self.conv3 = GATConv(hidden_channels, out_channels, add_self_loops=False)\n",
        "        self.res = torch.nn.Linear(in_channels, out_channels)\n",
        "\n",
        "    def forward(self, node_feature, edge_index):\n",
        "\n",
        "        output1 = self.relu(self.conv1(node_feature, edge_index))\n",
        "        output2 = self.relu(self.conv2(output1, edge_index))\n",
        "        output3 = self.conv3(output2, edge_index)\n",
        "        output_res = self.res(node_feature)\n",
        "        return (output3 + output_res) * 0.5\n",
        "\n",
        "class Embedder(torch.nn.Module):\n",
        "    def __init__(self, in_channels, hidden_channels, out_channels):\n",
        "        super().__init__()\n",
        "        # [0]: movie, feature dim: 18\n",
        "        # [1]: user, feature dim: 24\n",
        "        movies = movielens_raw[node_types[0]]\n",
        "        users = movielens_raw[node_types[1]]\n",
        "        self.sage = SAGE(in_channels, hidden_channels, out_channels)\n",
        "        self.sage = to_hetero(self.sage, metadata=movielens_raw.metadata())\n",
        "        self.sage_res = SAGE_RES(in_channels, hidden_channels, out_channels)\n",
        "        self.sage_res = to_hetero(self.sage_res, metadata=movielens_raw.metadata())\n",
        "        self.gat = GAT(in_channels, hidden_channels, out_channels)\n",
        "        self.gat = to_hetero(self.gat, metadata=movielens_raw.metadata())\n",
        "        self.gat_res = GAT_RES(in_channels, hidden_channels, out_channels)\n",
        "        self.gat_res = to_hetero(self.gat_res, metadata=movielens_raw.metadata())\n",
        "        self.linear_movie = torch.nn.Linear(movies.num_node_features, in_channels)\n",
        "        self.linear_user = torch.nn.Linear(users.num_node_features, in_channels)\n",
        "        self.gnn = self.sage_res\n",
        "\n",
        "    def forward(self, hetero_data):\n",
        "        features = {\n",
        "            node_types[0]: self.linear_movie(hetero_data[node_types[0]].x),\n",
        "            node_types[1]: self.linear_user(hetero_data[node_types[1]].x)\n",
        "        }\n",
        "        embeddings = self.gnn(features, hetero_data.edge_index_dict)\n",
        "        return embeddings"
      ],
      "metadata": {
        "id": "fkPWCUxU4xwO"
      },
      "execution_count": 14,
      "outputs": []
    },
    {
      "cell_type": "code",
      "source": [
        "def calc_emb_similarity(node_embs, edge_index, method=\"cosine\"):\n",
        "    # node_types[1] = \"user\"\n",
        "    # node_types[0] = \"movie\"\n",
        "    if method == \"cosine\":\n",
        "        return torch.sum(node_embs[node_types[1]][edge_index[0]] * node_embs[node_types[0]][edge_index[1]], 1)"
      ],
      "metadata": {
        "id": "8msvKiiGVA41"
      },
      "execution_count": 15,
      "outputs": []
    },
    {
      "cell_type": "code",
      "source": [
        "from torch_geometric.loader import LinkNeighborLoader\n",
        "relation_rate = edge_types[0]\n",
        "train_loader = LinkNeighborLoader(\n",
        "    data=train_data,\n",
        "    num_neighbors=[40, 20, 10],\n",
        "    neg_sampling=\"binary\",\n",
        "    neg_sampling_ratio=1.0,\n",
        "    edge_label_index=(relation_rate, train_data[relation_rate].edge_label_index),\n",
        "    edge_label=train_data[relation_rate].edge_label,\n",
        "    batch_size=256,\n",
        "    shuffle=True\n",
        ")"
      ],
      "metadata": {
        "id": "VWJnR0mfKtl8",
        "colab": {
          "base_uri": "https://localhost:8080/"
        },
        "outputId": "42232a57-2731-4f55-a3fe-2d91aa734545"
      },
      "execution_count": 16,
      "outputs": [
        {
          "output_type": "stream",
          "name": "stderr",
          "text": [
            "/usr/local/lib/python3.10/dist-packages/torch_geometric/sampler/neighbor_sampler.py:60: UserWarning: Using 'NeighborSampler' without a 'pyg-lib' installation is deprecated and will be removed soon. Please install 'pyg-lib' for accelerated neighborhood sampling\n",
            "  warnings.warn(f\"Using '{self.__class__.__name__}' without a \"\n"
          ]
        }
      ]
    },
    {
      "cell_type": "code",
      "source": [
        "def get_loss(scores, labels,loss_fn,edge_weights,mode):\n",
        "\n",
        "    alpha=0.75\n",
        "    gamma=5\n",
        "    loss = loss_fn(scores, labels.float())\n",
        "\n",
        "    p_t = torch.exp(-loss)\n",
        "    alpha_tensor = (1 - alpha) + labels * (2 * alpha - 1)\n",
        "    # alpha_tensor = torch.where(labels == -1, 1 - alpha, alpha)\n",
        "    # print(\"alpha\",alpha_tensor.shape)\n",
        "    # print(\"p_t\",p_t.shape)\n",
        "    # print(\"loss\",loss.shape)\n",
        "    # print(\"edge\",edge_weights.shape)\n",
        "    if mode == 0:\n",
        "      f_loss = alpha_tensor * (1 - p_t) ** gamma * loss*edge_weights\n",
        "    elif mode == 1:\n",
        "      f_loss = alpha_tensor * (1 - p_t) ** gamma * loss+edge_weights*loss\n",
        "    elif mode == 2:\n",
        "      f_loss = alpha_tensor * (1 - p_t) ** gamma * loss\n",
        "    elif mode == 3:\n",
        "      f_loss = edge_weights*loss\n",
        "    elif mode ==4:\n",
        "      f_loss = loss\n",
        "\n",
        "    return f_loss.mean()"
      ],
      "metadata": {
        "id": "zwg1E0J3aRKM"
      },
      "execution_count": 17,
      "outputs": []
    },
    {
      "cell_type": "code",
      "source": [
        "from tqdm import tqdm\n",
        "from torch_geometric.utils import negative_sampling\n",
        "\n",
        "def train(model, dataloader, optimizer, loss_fn,user_importance,mode):\n",
        "    correct_count = 0\n",
        "    all_count = 0\n",
        "    loss = 0\n",
        "    model.train()\n",
        "    for batch in tqdm(dataloader):\n",
        "        optimizer.zero_grad()\n",
        "\n",
        "        node_embeddings = model(batch)\n",
        "        labels = batch[edge_types[0]].edge_label\n",
        "        similarities = calc_emb_similarity(node_embeddings, batch[edge_types[0]].edge_label_index)\n",
        "\n",
        "        predictions = similarities.sigmoid() > 0.5\n",
        "        correct_count += torch.sum(predictions == labels)\n",
        "        all_count += len(labels)\n",
        "\n",
        "        edge_weights = edge_importance(user_importance,batch[edge_types[0]].edge_label_index,labels)\n",
        "        loss = get_loss(similarities, labels,loss_fn,edge_weights,mode)\n",
        "\n",
        "        loss.backward()\n",
        "        optimizer.step()\n",
        "    return model, (float(correct_count) / float(all_count))\n"
      ],
      "metadata": {
        "id": "_oilXQ9CbGqX"
      },
      "execution_count": 18,
      "outputs": []
    },
    {
      "cell_type": "code",
      "source": [
        "from sklearn.metrics import roc_auc_score\n",
        "\n",
        "@torch.no_grad()\n",
        "def test(model, hetero_data):\n",
        "    model.eval()\n",
        "    node_embs = model(hetero_data)\n",
        "    node_embs = calc_emb_similarity(node_embs, hetero_data[edge_types[0]].edge_label_index).view(-1).sigmoid()\n",
        "    return roc_auc_score(hetero_data[edge_types[0]].edge_label.cpu().numpy(), node_embs.cpu().numpy())"
      ],
      "metadata": {
        "id": "ZwXXNeJ7hRwu"
      },
      "execution_count": 19,
      "outputs": []
    },
    {
      "cell_type": "code",
      "source": [
        "# import pandas as pd\n",
        "# import matplotlib.pyplot as plt"
      ],
      "metadata": {
        "id": "xM1Qlmuo1kQp"
      },
      "execution_count": 20,
      "outputs": []
    },
    {
      "cell_type": "code",
      "source": [
        "# columns = ['Training Acc', 'Validation Acc', 'Test Acc']\n",
        "# results_df = pd.DataFrame(columns=columns)"
      ],
      "metadata": {
        "id": "zU5RuiaK1pgy"
      },
      "execution_count": 21,
      "outputs": []
    },
    {
      "cell_type": "code",
      "source": [
        "epochs = 30\n",
        "\n",
        "val_acc = []\n",
        "test_acc = []\n",
        "for i in range(3):\n",
        "    best_val_auc = final_test_auc = 0\n",
        "    model = Embedder(movielens_raw[node_types[0]].num_node_features, hidden_channels=128, out_channels=64)\n",
        "    optimizer = torch.optim.Adam(params=model.parameters(), lr=1e-2)\n",
        "    loss_fn = torch.nn.BCEWithLogitsLoss(reduction='none')\n",
        "    for epoch in range(1, epochs + 1):\n",
        "\n",
        "      model, acc = train(model, train_loader, optimizer, loss_fn,user_score,0)\n",
        "      val_auc = test(model, val_data)\n",
        "      test_auc = test(model, test_data)\n",
        "      if val_auc > best_val_auc:\n",
        "          best_val_auc = val_auc\n",
        "      final_test_auc = test_auc\n",
        "      print(f'Epoch: {epoch:03d}, Training Accuracy: {acc:.4f}, Val AUC: {val_auc:.4f}, Test AUC: {test_auc:.4f}')\n",
        "      # results_df = results_df.append({'Training Acc': acc,\n",
        "      #                                 'Validation Acc': val_auc,\n",
        "      #                                 'Test Acc': test_auc},\n",
        "      #                                ignore_index=True)\n",
        "    val_acc.append(best_val_auc)\n",
        "    test_acc.append(final_test_auc)\n",
        "\n"
      ],
      "metadata": {
        "colab": {
          "base_uri": "https://localhost:8080/"
        },
        "id": "BUhIZHoRhJTk",
        "outputId": "eb2f5678-a993-4863-c9c3-95243a50624d"
      },
      "execution_count": 22,
      "outputs": [
        {
          "output_type": "stream",
          "name": "stderr",
          "text": [
            "100%|██████████| 54/54 [00:05<00:00,  9.92it/s]\n"
          ]
        },
        {
          "output_type": "stream",
          "name": "stdout",
          "text": [
            "Epoch: 001, Training Accuracy: 0.5354, Val AUC: 0.7042, Test AUC: 0.6954\n"
          ]
        },
        {
          "output_type": "stream",
          "name": "stderr",
          "text": [
            "100%|██████████| 54/54 [00:06<00:00,  8.86it/s]\n"
          ]
        },
        {
          "output_type": "stream",
          "name": "stdout",
          "text": [
            "Epoch: 002, Training Accuracy: 0.6334, Val AUC: 0.7877, Test AUC: 0.7797\n"
          ]
        },
        {
          "output_type": "stream",
          "name": "stderr",
          "text": [
            "100%|██████████| 54/54 [00:05<00:00,  9.43it/s]\n"
          ]
        },
        {
          "output_type": "stream",
          "name": "stdout",
          "text": [
            "Epoch: 003, Training Accuracy: 0.6844, Val AUC: 0.8343, Test AUC: 0.8252\n"
          ]
        },
        {
          "output_type": "stream",
          "name": "stderr",
          "text": [
            "100%|██████████| 54/54 [00:04<00:00, 10.90it/s]\n"
          ]
        },
        {
          "output_type": "stream",
          "name": "stdout",
          "text": [
            "Epoch: 004, Training Accuracy: 0.7066, Val AUC: 0.8446, Test AUC: 0.8378\n"
          ]
        },
        {
          "output_type": "stream",
          "name": "stderr",
          "text": [
            "100%|██████████| 54/54 [00:05<00:00, 10.55it/s]\n"
          ]
        },
        {
          "output_type": "stream",
          "name": "stdout",
          "text": [
            "Epoch: 005, Training Accuracy: 0.7235, Val AUC: 0.8574, Test AUC: 0.8552\n"
          ]
        },
        {
          "output_type": "stream",
          "name": "stderr",
          "text": [
            "100%|██████████| 54/54 [00:05<00:00, 10.68it/s]\n"
          ]
        },
        {
          "output_type": "stream",
          "name": "stdout",
          "text": [
            "Epoch: 006, Training Accuracy: 0.7371, Val AUC: 0.8574, Test AUC: 0.8554\n"
          ]
        },
        {
          "output_type": "stream",
          "name": "stderr",
          "text": [
            "100%|██████████| 54/54 [00:05<00:00, 10.09it/s]\n"
          ]
        },
        {
          "output_type": "stream",
          "name": "stdout",
          "text": [
            "Epoch: 007, Training Accuracy: 0.7447, Val AUC: 0.8650, Test AUC: 0.8658\n"
          ]
        },
        {
          "output_type": "stream",
          "name": "stderr",
          "text": [
            "100%|██████████| 54/54 [00:04<00:00, 10.90it/s]\n"
          ]
        },
        {
          "output_type": "stream",
          "name": "stdout",
          "text": [
            "Epoch: 008, Training Accuracy: 0.7513, Val AUC: 0.8699, Test AUC: 0.8708\n"
          ]
        },
        {
          "output_type": "stream",
          "name": "stderr",
          "text": [
            "100%|██████████| 54/54 [00:05<00:00, 10.29it/s]\n"
          ]
        },
        {
          "output_type": "stream",
          "name": "stdout",
          "text": [
            "Epoch: 009, Training Accuracy: 0.7507, Val AUC: 0.8792, Test AUC: 0.8781\n"
          ]
        },
        {
          "output_type": "stream",
          "name": "stderr",
          "text": [
            "100%|██████████| 54/54 [00:05<00:00, 10.50it/s]\n"
          ]
        },
        {
          "output_type": "stream",
          "name": "stdout",
          "text": [
            "Epoch: 010, Training Accuracy: 0.7608, Val AUC: 0.8621, Test AUC: 0.8614\n"
          ]
        },
        {
          "output_type": "stream",
          "name": "stderr",
          "text": [
            "100%|██████████| 54/54 [00:05<00:00, 10.45it/s]\n"
          ]
        },
        {
          "output_type": "stream",
          "name": "stdout",
          "text": [
            "Epoch: 011, Training Accuracy: 0.7669, Val AUC: 0.8881, Test AUC: 0.8844\n"
          ]
        },
        {
          "output_type": "stream",
          "name": "stderr",
          "text": [
            "100%|██████████| 54/54 [00:05<00:00, 10.18it/s]\n"
          ]
        },
        {
          "output_type": "stream",
          "name": "stdout",
          "text": [
            "Epoch: 012, Training Accuracy: 0.7741, Val AUC: 0.8783, Test AUC: 0.8768\n"
          ]
        },
        {
          "output_type": "stream",
          "name": "stderr",
          "text": [
            "100%|██████████| 54/54 [00:04<00:00, 10.81it/s]\n"
          ]
        },
        {
          "output_type": "stream",
          "name": "stdout",
          "text": [
            "Epoch: 013, Training Accuracy: 0.7740, Val AUC: 0.8735, Test AUC: 0.8717\n"
          ]
        },
        {
          "output_type": "stream",
          "name": "stderr",
          "text": [
            "100%|██████████| 54/54 [00:05<00:00, 10.15it/s]\n"
          ]
        },
        {
          "output_type": "stream",
          "name": "stdout",
          "text": [
            "Epoch: 014, Training Accuracy: 0.7856, Val AUC: 0.8938, Test AUC: 0.8931\n"
          ]
        },
        {
          "output_type": "stream",
          "name": "stderr",
          "text": [
            "100%|██████████| 54/54 [00:05<00:00, 10.30it/s]\n"
          ]
        },
        {
          "output_type": "stream",
          "name": "stdout",
          "text": [
            "Epoch: 015, Training Accuracy: 0.7761, Val AUC: 0.8885, Test AUC: 0.8863\n"
          ]
        },
        {
          "output_type": "stream",
          "name": "stderr",
          "text": [
            "100%|██████████| 54/54 [00:05<00:00, 10.25it/s]\n"
          ]
        },
        {
          "output_type": "stream",
          "name": "stdout",
          "text": [
            "Epoch: 016, Training Accuracy: 0.7811, Val AUC: 0.8925, Test AUC: 0.8920\n"
          ]
        },
        {
          "output_type": "stream",
          "name": "stderr",
          "text": [
            "100%|██████████| 54/54 [00:05<00:00,  9.78it/s]\n"
          ]
        },
        {
          "output_type": "stream",
          "name": "stdout",
          "text": [
            "Epoch: 017, Training Accuracy: 0.7787, Val AUC: 0.8903, Test AUC: 0.8869\n"
          ]
        },
        {
          "output_type": "stream",
          "name": "stderr",
          "text": [
            "100%|██████████| 54/54 [00:05<00:00, 10.03it/s]\n"
          ]
        },
        {
          "output_type": "stream",
          "name": "stdout",
          "text": [
            "Epoch: 018, Training Accuracy: 0.7812, Val AUC: 0.8948, Test AUC: 0.8938\n"
          ]
        },
        {
          "output_type": "stream",
          "name": "stderr",
          "text": [
            "100%|██████████| 54/54 [00:05<00:00, 10.35it/s]\n"
          ]
        },
        {
          "output_type": "stream",
          "name": "stdout",
          "text": [
            "Epoch: 019, Training Accuracy: 0.7892, Val AUC: 0.8928, Test AUC: 0.8905\n"
          ]
        },
        {
          "output_type": "stream",
          "name": "stderr",
          "text": [
            "100%|██████████| 54/54 [00:04<00:00, 10.88it/s]\n"
          ]
        },
        {
          "output_type": "stream",
          "name": "stdout",
          "text": [
            "Epoch: 020, Training Accuracy: 0.7862, Val AUC: 0.8947, Test AUC: 0.8938\n"
          ]
        },
        {
          "output_type": "stream",
          "name": "stderr",
          "text": [
            "100%|██████████| 54/54 [00:05<00:00, 10.15it/s]\n"
          ]
        },
        {
          "output_type": "stream",
          "name": "stdout",
          "text": [
            "Epoch: 021, Training Accuracy: 0.7860, Val AUC: 0.8930, Test AUC: 0.8893\n"
          ]
        },
        {
          "output_type": "stream",
          "name": "stderr",
          "text": [
            "100%|██████████| 54/54 [00:05<00:00, 10.18it/s]\n"
          ]
        },
        {
          "output_type": "stream",
          "name": "stdout",
          "text": [
            "Epoch: 022, Training Accuracy: 0.7827, Val AUC: 0.8957, Test AUC: 0.8961\n"
          ]
        },
        {
          "output_type": "stream",
          "name": "stderr",
          "text": [
            "100%|██████████| 54/54 [00:05<00:00, 10.45it/s]\n"
          ]
        },
        {
          "output_type": "stream",
          "name": "stdout",
          "text": [
            "Epoch: 023, Training Accuracy: 0.7835, Val AUC: 0.8898, Test AUC: 0.8932\n"
          ]
        },
        {
          "output_type": "stream",
          "name": "stderr",
          "text": [
            "100%|██████████| 54/54 [00:05<00:00, 10.54it/s]\n"
          ]
        },
        {
          "output_type": "stream",
          "name": "stdout",
          "text": [
            "Epoch: 024, Training Accuracy: 0.7855, Val AUC: 0.8950, Test AUC: 0.8929\n"
          ]
        },
        {
          "output_type": "stream",
          "name": "stderr",
          "text": [
            "100%|██████████| 54/54 [00:05<00:00, 10.40it/s]\n"
          ]
        },
        {
          "output_type": "stream",
          "name": "stdout",
          "text": [
            "Epoch: 025, Training Accuracy: 0.7913, Val AUC: 0.8961, Test AUC: 0.8970\n"
          ]
        },
        {
          "output_type": "stream",
          "name": "stderr",
          "text": [
            "100%|██████████| 54/54 [00:05<00:00,  9.92it/s]\n"
          ]
        },
        {
          "output_type": "stream",
          "name": "stdout",
          "text": [
            "Epoch: 026, Training Accuracy: 0.7908, Val AUC: 0.8941, Test AUC: 0.8933\n"
          ]
        },
        {
          "output_type": "stream",
          "name": "stderr",
          "text": [
            "100%|██████████| 54/54 [00:05<00:00, 10.41it/s]\n"
          ]
        },
        {
          "output_type": "stream",
          "name": "stdout",
          "text": [
            "Epoch: 027, Training Accuracy: 0.7900, Val AUC: 0.8921, Test AUC: 0.8937\n"
          ]
        },
        {
          "output_type": "stream",
          "name": "stderr",
          "text": [
            "100%|██████████| 54/54 [00:05<00:00,  9.65it/s]\n"
          ]
        },
        {
          "output_type": "stream",
          "name": "stdout",
          "text": [
            "Epoch: 028, Training Accuracy: 0.7924, Val AUC: 0.8972, Test AUC: 0.8962\n"
          ]
        },
        {
          "output_type": "stream",
          "name": "stderr",
          "text": [
            "100%|██████████| 54/54 [00:05<00:00, 10.27it/s]\n"
          ]
        },
        {
          "output_type": "stream",
          "name": "stdout",
          "text": [
            "Epoch: 029, Training Accuracy: 0.7943, Val AUC: 0.8941, Test AUC: 0.8923\n"
          ]
        },
        {
          "output_type": "stream",
          "name": "stderr",
          "text": [
            "100%|██████████| 54/54 [00:05<00:00, 10.18it/s]\n"
          ]
        },
        {
          "output_type": "stream",
          "name": "stdout",
          "text": [
            "Epoch: 030, Training Accuracy: 0.7956, Val AUC: 0.9022, Test AUC: 0.9012\n"
          ]
        },
        {
          "output_type": "stream",
          "name": "stderr",
          "text": [
            "100%|██████████| 54/54 [00:05<00:00, 10.59it/s]\n"
          ]
        },
        {
          "output_type": "stream",
          "name": "stdout",
          "text": [
            "Epoch: 001, Training Accuracy: 0.5887, Val AUC: 0.7967, Test AUC: 0.7945\n"
          ]
        },
        {
          "output_type": "stream",
          "name": "stderr",
          "text": [
            "100%|██████████| 54/54 [00:05<00:00, 10.60it/s]\n"
          ]
        },
        {
          "output_type": "stream",
          "name": "stdout",
          "text": [
            "Epoch: 002, Training Accuracy: 0.6947, Val AUC: 0.8147, Test AUC: 0.8134\n"
          ]
        },
        {
          "output_type": "stream",
          "name": "stderr",
          "text": [
            "100%|██████████| 54/54 [00:05<00:00, 10.23it/s]\n"
          ]
        },
        {
          "output_type": "stream",
          "name": "stdout",
          "text": [
            "Epoch: 003, Training Accuracy: 0.7190, Val AUC: 0.8541, Test AUC: 0.8510\n"
          ]
        },
        {
          "output_type": "stream",
          "name": "stderr",
          "text": [
            "100%|██████████| 54/54 [00:04<00:00, 10.95it/s]\n"
          ]
        },
        {
          "output_type": "stream",
          "name": "stdout",
          "text": [
            "Epoch: 004, Training Accuracy: 0.7374, Val AUC: 0.8577, Test AUC: 0.8582\n"
          ]
        },
        {
          "output_type": "stream",
          "name": "stderr",
          "text": [
            "100%|██████████| 54/54 [00:05<00:00, 10.65it/s]\n"
          ]
        },
        {
          "output_type": "stream",
          "name": "stdout",
          "text": [
            "Epoch: 005, Training Accuracy: 0.7512, Val AUC: 0.8720, Test AUC: 0.8688\n"
          ]
        },
        {
          "output_type": "stream",
          "name": "stderr",
          "text": [
            "100%|██████████| 54/54 [00:05<00:00, 10.33it/s]\n"
          ]
        },
        {
          "output_type": "stream",
          "name": "stdout",
          "text": [
            "Epoch: 006, Training Accuracy: 0.7558, Val AUC: 0.8765, Test AUC: 0.8737\n"
          ]
        },
        {
          "output_type": "stream",
          "name": "stderr",
          "text": [
            "100%|██████████| 54/54 [00:05<00:00, 10.05it/s]\n"
          ]
        },
        {
          "output_type": "stream",
          "name": "stdout",
          "text": [
            "Epoch: 007, Training Accuracy: 0.7619, Val AUC: 0.8778, Test AUC: 0.8777\n"
          ]
        },
        {
          "output_type": "stream",
          "name": "stderr",
          "text": [
            "100%|██████████| 54/54 [00:05<00:00, 10.53it/s]\n"
          ]
        },
        {
          "output_type": "stream",
          "name": "stdout",
          "text": [
            "Epoch: 008, Training Accuracy: 0.7663, Val AUC: 0.8855, Test AUC: 0.8828\n"
          ]
        },
        {
          "output_type": "stream",
          "name": "stderr",
          "text": [
            "100%|██████████| 54/54 [00:05<00:00, 10.67it/s]\n"
          ]
        },
        {
          "output_type": "stream",
          "name": "stdout",
          "text": [
            "Epoch: 009, Training Accuracy: 0.7665, Val AUC: 0.8830, Test AUC: 0.8794\n"
          ]
        },
        {
          "output_type": "stream",
          "name": "stderr",
          "text": [
            "100%|██████████| 54/54 [00:05<00:00,  9.99it/s]\n"
          ]
        },
        {
          "output_type": "stream",
          "name": "stdout",
          "text": [
            "Epoch: 010, Training Accuracy: 0.7682, Val AUC: 0.8812, Test AUC: 0.8761\n"
          ]
        },
        {
          "output_type": "stream",
          "name": "stderr",
          "text": [
            "100%|██████████| 54/54 [00:04<00:00, 10.88it/s]\n"
          ]
        },
        {
          "output_type": "stream",
          "name": "stdout",
          "text": [
            "Epoch: 011, Training Accuracy: 0.7739, Val AUC: 0.8810, Test AUC: 0.8781\n"
          ]
        },
        {
          "output_type": "stream",
          "name": "stderr",
          "text": [
            "100%|██████████| 54/54 [00:05<00:00, 10.23it/s]\n"
          ]
        },
        {
          "output_type": "stream",
          "name": "stdout",
          "text": [
            "Epoch: 012, Training Accuracy: 0.7781, Val AUC: 0.8863, Test AUC: 0.8834\n"
          ]
        },
        {
          "output_type": "stream",
          "name": "stderr",
          "text": [
            "100%|██████████| 54/54 [00:05<00:00, 10.49it/s]\n"
          ]
        },
        {
          "output_type": "stream",
          "name": "stdout",
          "text": [
            "Epoch: 013, Training Accuracy: 0.7769, Val AUC: 0.8892, Test AUC: 0.8873\n"
          ]
        },
        {
          "output_type": "stream",
          "name": "stderr",
          "text": [
            "100%|██████████| 54/54 [00:05<00:00, 10.40it/s]\n"
          ]
        },
        {
          "output_type": "stream",
          "name": "stdout",
          "text": [
            "Epoch: 014, Training Accuracy: 0.7773, Val AUC: 0.8896, Test AUC: 0.8872\n"
          ]
        },
        {
          "output_type": "stream",
          "name": "stderr",
          "text": [
            "100%|██████████| 54/54 [00:05<00:00, 10.25it/s]\n"
          ]
        },
        {
          "output_type": "stream",
          "name": "stdout",
          "text": [
            "Epoch: 015, Training Accuracy: 0.7777, Val AUC: 0.8857, Test AUC: 0.8827\n"
          ]
        },
        {
          "output_type": "stream",
          "name": "stderr",
          "text": [
            "100%|██████████| 54/54 [00:05<00:00, 10.15it/s]\n"
          ]
        },
        {
          "output_type": "stream",
          "name": "stdout",
          "text": [
            "Epoch: 016, Training Accuracy: 0.7829, Val AUC: 0.8933, Test AUC: 0.8898\n"
          ]
        },
        {
          "output_type": "stream",
          "name": "stderr",
          "text": [
            "100%|██████████| 54/54 [00:05<00:00,  9.72it/s]\n"
          ]
        },
        {
          "output_type": "stream",
          "name": "stdout",
          "text": [
            "Epoch: 017, Training Accuracy: 0.7844, Val AUC: 0.8888, Test AUC: 0.8887\n"
          ]
        },
        {
          "output_type": "stream",
          "name": "stderr",
          "text": [
            "100%|██████████| 54/54 [00:05<00:00,  9.93it/s]\n"
          ]
        },
        {
          "output_type": "stream",
          "name": "stdout",
          "text": [
            "Epoch: 018, Training Accuracy: 0.7856, Val AUC: 0.8939, Test AUC: 0.8923\n"
          ]
        },
        {
          "output_type": "stream",
          "name": "stderr",
          "text": [
            "100%|██████████| 54/54 [00:05<00:00,  9.95it/s]\n"
          ]
        },
        {
          "output_type": "stream",
          "name": "stdout",
          "text": [
            "Epoch: 019, Training Accuracy: 0.7838, Val AUC: 0.8924, Test AUC: 0.8922\n"
          ]
        },
        {
          "output_type": "stream",
          "name": "stderr",
          "text": [
            "100%|██████████| 54/54 [00:04<00:00, 10.84it/s]\n"
          ]
        },
        {
          "output_type": "stream",
          "name": "stdout",
          "text": [
            "Epoch: 020, Training Accuracy: 0.7888, Val AUC: 0.8906, Test AUC: 0.8872\n"
          ]
        },
        {
          "output_type": "stream",
          "name": "stderr",
          "text": [
            "100%|██████████| 54/54 [00:05<00:00, 10.09it/s]\n"
          ]
        },
        {
          "output_type": "stream",
          "name": "stdout",
          "text": [
            "Epoch: 021, Training Accuracy: 0.7880, Val AUC: 0.8856, Test AUC: 0.8848\n"
          ]
        },
        {
          "output_type": "stream",
          "name": "stderr",
          "text": [
            "100%|██████████| 54/54 [00:05<00:00, 10.06it/s]\n"
          ]
        },
        {
          "output_type": "stream",
          "name": "stdout",
          "text": [
            "Epoch: 022, Training Accuracy: 0.7932, Val AUC: 0.8935, Test AUC: 0.8920\n"
          ]
        },
        {
          "output_type": "stream",
          "name": "stderr",
          "text": [
            "100%|██████████| 54/54 [00:05<00:00, 10.44it/s]\n"
          ]
        },
        {
          "output_type": "stream",
          "name": "stdout",
          "text": [
            "Epoch: 023, Training Accuracy: 0.7893, Val AUC: 0.8879, Test AUC: 0.8880\n"
          ]
        },
        {
          "output_type": "stream",
          "name": "stderr",
          "text": [
            "100%|██████████| 54/54 [00:05<00:00, 10.57it/s]\n"
          ]
        },
        {
          "output_type": "stream",
          "name": "stdout",
          "text": [
            "Epoch: 024, Training Accuracy: 0.7892, Val AUC: 0.8864, Test AUC: 0.8871\n"
          ]
        },
        {
          "output_type": "stream",
          "name": "stderr",
          "text": [
            "100%|██████████| 54/54 [00:05<00:00, 10.76it/s]\n"
          ]
        },
        {
          "output_type": "stream",
          "name": "stdout",
          "text": [
            "Epoch: 025, Training Accuracy: 0.7888, Val AUC: 0.9015, Test AUC: 0.8977\n"
          ]
        },
        {
          "output_type": "stream",
          "name": "stderr",
          "text": [
            "100%|██████████| 54/54 [00:05<00:00, 10.57it/s]\n"
          ]
        },
        {
          "output_type": "stream",
          "name": "stdout",
          "text": [
            "Epoch: 026, Training Accuracy: 0.7953, Val AUC: 0.8962, Test AUC: 0.8956\n"
          ]
        },
        {
          "output_type": "stream",
          "name": "stderr",
          "text": [
            "100%|██████████| 54/54 [00:04<00:00, 10.90it/s]\n"
          ]
        },
        {
          "output_type": "stream",
          "name": "stdout",
          "text": [
            "Epoch: 027, Training Accuracy: 0.7969, Val AUC: 0.8935, Test AUC: 0.8957\n"
          ]
        },
        {
          "output_type": "stream",
          "name": "stderr",
          "text": [
            "100%|██████████| 54/54 [00:05<00:00, 10.25it/s]\n"
          ]
        },
        {
          "output_type": "stream",
          "name": "stdout",
          "text": [
            "Epoch: 028, Training Accuracy: 0.7934, Val AUC: 0.8943, Test AUC: 0.8960\n"
          ]
        },
        {
          "output_type": "stream",
          "name": "stderr",
          "text": [
            "100%|██████████| 54/54 [00:05<00:00, 10.52it/s]\n"
          ]
        },
        {
          "output_type": "stream",
          "name": "stdout",
          "text": [
            "Epoch: 029, Training Accuracy: 0.7928, Val AUC: 0.9017, Test AUC: 0.8993\n"
          ]
        },
        {
          "output_type": "stream",
          "name": "stderr",
          "text": [
            "100%|██████████| 54/54 [00:05<00:00,  9.91it/s]\n"
          ]
        },
        {
          "output_type": "stream",
          "name": "stdout",
          "text": [
            "Epoch: 030, Training Accuracy: 0.7947, Val AUC: 0.8922, Test AUC: 0.8922\n"
          ]
        },
        {
          "output_type": "stream",
          "name": "stderr",
          "text": [
            "100%|██████████| 54/54 [00:05<00:00, 10.52it/s]\n"
          ]
        },
        {
          "output_type": "stream",
          "name": "stdout",
          "text": [
            "Epoch: 001, Training Accuracy: 0.6028, Val AUC: 0.8004, Test AUC: 0.7933\n"
          ]
        },
        {
          "output_type": "stream",
          "name": "stderr",
          "text": [
            "100%|██████████| 54/54 [00:05<00:00, 10.72it/s]\n"
          ]
        },
        {
          "output_type": "stream",
          "name": "stdout",
          "text": [
            "Epoch: 002, Training Accuracy: 0.6960, Val AUC: 0.8112, Test AUC: 0.8079\n"
          ]
        },
        {
          "output_type": "stream",
          "name": "stderr",
          "text": [
            "100%|██████████| 54/54 [00:05<00:00, 10.70it/s]\n"
          ]
        },
        {
          "output_type": "stream",
          "name": "stdout",
          "text": [
            "Epoch: 003, Training Accuracy: 0.7153, Val AUC: 0.8461, Test AUC: 0.8367\n"
          ]
        },
        {
          "output_type": "stream",
          "name": "stderr",
          "text": [
            "100%|██████████| 54/54 [00:04<00:00, 10.82it/s]\n"
          ]
        },
        {
          "output_type": "stream",
          "name": "stdout",
          "text": [
            "Epoch: 004, Training Accuracy: 0.7286, Val AUC: 0.8549, Test AUC: 0.8485\n"
          ]
        },
        {
          "output_type": "stream",
          "name": "stderr",
          "text": [
            "100%|██████████| 54/54 [00:05<00:00, 10.14it/s]\n"
          ]
        },
        {
          "output_type": "stream",
          "name": "stdout",
          "text": [
            "Epoch: 005, Training Accuracy: 0.7356, Val AUC: 0.8663, Test AUC: 0.8582\n"
          ]
        },
        {
          "output_type": "stream",
          "name": "stderr",
          "text": [
            "100%|██████████| 54/54 [00:05<00:00, 10.50it/s]\n"
          ]
        },
        {
          "output_type": "stream",
          "name": "stdout",
          "text": [
            "Epoch: 006, Training Accuracy: 0.7559, Val AUC: 0.8718, Test AUC: 0.8684\n"
          ]
        },
        {
          "output_type": "stream",
          "name": "stderr",
          "text": [
            "100%|██████████| 54/54 [00:04<00:00, 10.81it/s]\n"
          ]
        },
        {
          "output_type": "stream",
          "name": "stdout",
          "text": [
            "Epoch: 007, Training Accuracy: 0.7527, Val AUC: 0.8729, Test AUC: 0.8700\n"
          ]
        },
        {
          "output_type": "stream",
          "name": "stderr",
          "text": [
            "100%|██████████| 54/54 [00:05<00:00, 10.29it/s]\n"
          ]
        },
        {
          "output_type": "stream",
          "name": "stdout",
          "text": [
            "Epoch: 008, Training Accuracy: 0.7628, Val AUC: 0.8800, Test AUC: 0.8761\n"
          ]
        },
        {
          "output_type": "stream",
          "name": "stderr",
          "text": [
            "100%|██████████| 54/54 [00:05<00:00, 10.59it/s]\n"
          ]
        },
        {
          "output_type": "stream",
          "name": "stdout",
          "text": [
            "Epoch: 009, Training Accuracy: 0.7733, Val AUC: 0.8791, Test AUC: 0.8778\n"
          ]
        },
        {
          "output_type": "stream",
          "name": "stderr",
          "text": [
            "100%|██████████| 54/54 [00:05<00:00, 10.63it/s]\n"
          ]
        },
        {
          "output_type": "stream",
          "name": "stdout",
          "text": [
            "Epoch: 010, Training Accuracy: 0.7724, Val AUC: 0.8807, Test AUC: 0.8779\n"
          ]
        },
        {
          "output_type": "stream",
          "name": "stderr",
          "text": [
            "100%|██████████| 54/54 [00:04<00:00, 10.93it/s]\n"
          ]
        },
        {
          "output_type": "stream",
          "name": "stdout",
          "text": [
            "Epoch: 011, Training Accuracy: 0.7721, Val AUC: 0.8840, Test AUC: 0.8841\n"
          ]
        },
        {
          "output_type": "stream",
          "name": "stderr",
          "text": [
            "100%|██████████| 54/54 [00:05<00:00, 10.24it/s]\n"
          ]
        },
        {
          "output_type": "stream",
          "name": "stdout",
          "text": [
            "Epoch: 012, Training Accuracy: 0.7788, Val AUC: 0.8828, Test AUC: 0.8825\n"
          ]
        },
        {
          "output_type": "stream",
          "name": "stderr",
          "text": [
            "100%|██████████| 54/54 [00:05<00:00, 10.70it/s]\n"
          ]
        },
        {
          "output_type": "stream",
          "name": "stdout",
          "text": [
            "Epoch: 013, Training Accuracy: 0.7774, Val AUC: 0.8917, Test AUC: 0.8889\n"
          ]
        },
        {
          "output_type": "stream",
          "name": "stderr",
          "text": [
            "100%|██████████| 54/54 [00:05<00:00, 10.72it/s]\n"
          ]
        },
        {
          "output_type": "stream",
          "name": "stdout",
          "text": [
            "Epoch: 014, Training Accuracy: 0.7779, Val AUC: 0.8858, Test AUC: 0.8838\n"
          ]
        },
        {
          "output_type": "stream",
          "name": "stderr",
          "text": [
            "100%|██████████| 54/54 [00:05<00:00, 10.49it/s]\n"
          ]
        },
        {
          "output_type": "stream",
          "name": "stdout",
          "text": [
            "Epoch: 015, Training Accuracy: 0.7781, Val AUC: 0.8865, Test AUC: 0.8851\n"
          ]
        },
        {
          "output_type": "stream",
          "name": "stderr",
          "text": [
            "100%|██████████| 54/54 [00:05<00:00, 10.47it/s]\n"
          ]
        },
        {
          "output_type": "stream",
          "name": "stdout",
          "text": [
            "Epoch: 016, Training Accuracy: 0.7829, Val AUC: 0.8827, Test AUC: 0.8818\n"
          ]
        },
        {
          "output_type": "stream",
          "name": "stderr",
          "text": [
            "100%|██████████| 54/54 [00:05<00:00, 10.34it/s]\n"
          ]
        },
        {
          "output_type": "stream",
          "name": "stdout",
          "text": [
            "Epoch: 017, Training Accuracy: 0.7815, Val AUC: 0.8812, Test AUC: 0.8831\n"
          ]
        },
        {
          "output_type": "stream",
          "name": "stderr",
          "text": [
            "100%|██████████| 54/54 [00:05<00:00, 10.80it/s]\n"
          ]
        },
        {
          "output_type": "stream",
          "name": "stdout",
          "text": [
            "Epoch: 018, Training Accuracy: 0.7831, Val AUC: 0.8904, Test AUC: 0.8907\n"
          ]
        },
        {
          "output_type": "stream",
          "name": "stderr",
          "text": [
            "100%|██████████| 54/54 [00:05<00:00, 10.59it/s]\n"
          ]
        },
        {
          "output_type": "stream",
          "name": "stdout",
          "text": [
            "Epoch: 019, Training Accuracy: 0.7851, Val AUC: 0.8941, Test AUC: 0.8924\n"
          ]
        },
        {
          "output_type": "stream",
          "name": "stderr",
          "text": [
            "100%|██████████| 54/54 [00:04<00:00, 10.80it/s]\n"
          ]
        },
        {
          "output_type": "stream",
          "name": "stdout",
          "text": [
            "Epoch: 020, Training Accuracy: 0.7918, Val AUC: 0.8938, Test AUC: 0.8956\n"
          ]
        },
        {
          "output_type": "stream",
          "name": "stderr",
          "text": [
            "100%|██████████| 54/54 [00:05<00:00, 10.51it/s]\n"
          ]
        },
        {
          "output_type": "stream",
          "name": "stdout",
          "text": [
            "Epoch: 021, Training Accuracy: 0.7885, Val AUC: 0.8895, Test AUC: 0.8899\n"
          ]
        },
        {
          "output_type": "stream",
          "name": "stderr",
          "text": [
            "100%|██████████| 54/54 [00:05<00:00, 10.59it/s]\n"
          ]
        },
        {
          "output_type": "stream",
          "name": "stdout",
          "text": [
            "Epoch: 022, Training Accuracy: 0.7900, Val AUC: 0.8934, Test AUC: 0.8910\n"
          ]
        },
        {
          "output_type": "stream",
          "name": "stderr",
          "text": [
            "100%|██████████| 54/54 [00:04<00:00, 10.81it/s]\n"
          ]
        },
        {
          "output_type": "stream",
          "name": "stdout",
          "text": [
            "Epoch: 023, Training Accuracy: 0.7933, Val AUC: 0.8966, Test AUC: 0.8983\n"
          ]
        },
        {
          "output_type": "stream",
          "name": "stderr",
          "text": [
            "100%|██████████| 54/54 [00:05<00:00, 10.38it/s]\n"
          ]
        },
        {
          "output_type": "stream",
          "name": "stdout",
          "text": [
            "Epoch: 024, Training Accuracy: 0.7875, Val AUC: 0.8905, Test AUC: 0.8911\n"
          ]
        },
        {
          "output_type": "stream",
          "name": "stderr",
          "text": [
            "100%|██████████| 54/54 [00:05<00:00,  9.82it/s]\n"
          ]
        },
        {
          "output_type": "stream",
          "name": "stdout",
          "text": [
            "Epoch: 025, Training Accuracy: 0.7852, Val AUC: 0.8922, Test AUC: 0.8929\n"
          ]
        },
        {
          "output_type": "stream",
          "name": "stderr",
          "text": [
            "100%|██████████| 54/54 [00:05<00:00, 10.58it/s]\n"
          ]
        },
        {
          "output_type": "stream",
          "name": "stdout",
          "text": [
            "Epoch: 026, Training Accuracy: 0.7944, Val AUC: 0.8882, Test AUC: 0.8923\n"
          ]
        },
        {
          "output_type": "stream",
          "name": "stderr",
          "text": [
            "100%|██████████| 54/54 [00:05<00:00, 10.35it/s]\n"
          ]
        },
        {
          "output_type": "stream",
          "name": "stdout",
          "text": [
            "Epoch: 027, Training Accuracy: 0.7925, Val AUC: 0.8884, Test AUC: 0.8879\n"
          ]
        },
        {
          "output_type": "stream",
          "name": "stderr",
          "text": [
            "100%|██████████| 54/54 [00:05<00:00, 10.35it/s]\n"
          ]
        },
        {
          "output_type": "stream",
          "name": "stdout",
          "text": [
            "Epoch: 028, Training Accuracy: 0.7866, Val AUC: 0.8953, Test AUC: 0.8984\n"
          ]
        },
        {
          "output_type": "stream",
          "name": "stderr",
          "text": [
            "100%|██████████| 54/54 [00:05<00:00, 10.70it/s]\n"
          ]
        },
        {
          "output_type": "stream",
          "name": "stdout",
          "text": [
            "Epoch: 029, Training Accuracy: 0.7858, Val AUC: 0.8878, Test AUC: 0.8871\n"
          ]
        },
        {
          "output_type": "stream",
          "name": "stderr",
          "text": [
            "100%|██████████| 54/54 [00:05<00:00, 10.67it/s]\n"
          ]
        },
        {
          "output_type": "stream",
          "name": "stdout",
          "text": [
            "Epoch: 030, Training Accuracy: 0.7877, Val AUC: 0.8924, Test AUC: 0.8944\n"
          ]
        }
      ]
    },
    {
      "cell_type": "code",
      "source": [
        "def calculate_standard_error(tensor):\n",
        "    mean = torch.mean(tensor)\n",
        "    std_dev = torch.std(tensor, unbiased=True)\n",
        "    n = torch.numel(tensor)\n",
        "    standard_error = std_dev / torch.sqrt(torch.tensor(n, dtype=torch.float))\n",
        "\n",
        "    return standard_error"
      ],
      "metadata": {
        "id": "b0jJG9d83m6L"
      },
      "execution_count": 23,
      "outputs": []
    },
    {
      "cell_type": "code",
      "source": [
        "print(f'Mean Validation AUC: {torch.mean(torch.tensor(val_acc)):.4f} +/- {calculate_standard_error(torch.tensor(val_acc)):.4f}')\n",
        "print(f'Mean Test AUC: {torch.mean(torch.tensor(test_acc)):.4f} +/- {calculate_standard_error(torch.tensor(test_acc)):.4f}')"
      ],
      "metadata": {
        "colab": {
          "base_uri": "https://localhost:8080/"
        },
        "id": "Gy_CVmKl3y4-",
        "outputId": "e7b72ceb-5a8a-41cb-a974-d55aa995e325"
      },
      "execution_count": 24,
      "outputs": [
        {
          "output_type": "stream",
          "name": "stdout",
          "text": [
            "Mean Validation AUC: 0.9002 +/- 0.0018\n",
            "Mean Test AUC: 0.8959 +/- 0.0027\n"
          ]
        }
      ]
    },
    {
      "cell_type": "code",
      "source": [],
      "metadata": {
        "id": "D6mpCtp63_Rp"
      },
      "execution_count": 24,
      "outputs": []
    }
  ]
}