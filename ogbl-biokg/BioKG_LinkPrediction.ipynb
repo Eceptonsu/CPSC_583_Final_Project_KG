{
  "cells": [
    {
      "cell_type": "code",
      "execution_count": 1,
      "metadata": {
        "colab": {
          "base_uri": "https://localhost:8080/"
        },
        "id": "O2FxO45siN-k",
        "outputId": "89397c70-624f-46e3-ba97-ff86f54dcab0"
      },
      "outputs": [
        {
          "name": "stdout",
          "output_type": "stream",
          "text": [
            "Using torch 2.1.0+cu118\n"
          ]
        }
      ],
      "source": [
        "import os\n",
        "import torch\n",
        "print(\"Using torch\", torch.__version__)"
      ]
    },
    {
      "cell_type": "code",
      "execution_count": 2,
      "metadata": {
        "colab": {
          "base_uri": "https://localhost:8080/"
        },
        "id": "8NsaGZNFiS7X",
        "outputId": "1ef65ec6-dad8-42a8-f750-240f2773bcc0"
      },
      "outputs": [
        {
          "name": "stdout",
          "output_type": "stream",
          "text": [
            "Looking in links: https://data.pyg.org/whl/torch-2.1.0+cu118.html\n",
            "Requirement already satisfied: torch-scatter in /usr/local/lib/python3.10/dist-packages (2.1.2+pt21cu118)\n",
            "Requirement already satisfied: torch-sparse in /usr/local/lib/python3.10/dist-packages (0.6.18+pt21cu118)\n",
            "Requirement already satisfied: torch-cluster in /usr/local/lib/python3.10/dist-packages (1.6.3+pt21cu118)\n",
            "Requirement already satisfied: torch-spline-conv in /usr/local/lib/python3.10/dist-packages (1.2.2+pt21cu118)\n",
            "Requirement already satisfied: torch-geometric in /usr/local/lib/python3.10/dist-packages (2.4.0)\n",
            "Requirement already satisfied: scipy in /usr/local/lib/python3.10/dist-packages (from torch-sparse) (1.11.4)\n",
            "Requirement already satisfied: tqdm in /usr/local/lib/python3.10/dist-packages (from torch-geometric) (4.66.1)\n",
            "Requirement already satisfied: numpy in /usr/local/lib/python3.10/dist-packages (from torch-geometric) (1.23.5)\n",
            "Requirement already satisfied: jinja2 in /usr/local/lib/python3.10/dist-packages (from torch-geometric) (3.1.2)\n",
            "Requirement already satisfied: requests in /usr/local/lib/python3.10/dist-packages (from torch-geometric) (2.31.0)\n",
            "Requirement already satisfied: pyparsing in /usr/local/lib/python3.10/dist-packages (from torch-geometric) (3.1.1)\n",
            "Requirement already satisfied: scikit-learn in /usr/local/lib/python3.10/dist-packages (from torch-geometric) (1.2.2)\n",
            "Requirement already satisfied: psutil>=5.8.0 in /usr/local/lib/python3.10/dist-packages (from torch-geometric) (5.9.5)\n",
            "Requirement already satisfied: MarkupSafe>=2.0 in /usr/local/lib/python3.10/dist-packages (from jinja2->torch-geometric) (2.1.3)\n",
            "Requirement already satisfied: charset-normalizer<4,>=2 in /usr/local/lib/python3.10/dist-packages (from requests->torch-geometric) (3.3.2)\n",
            "Requirement already satisfied: idna<4,>=2.5 in /usr/local/lib/python3.10/dist-packages (from requests->torch-geometric) (3.6)\n",
            "Requirement already satisfied: urllib3<3,>=1.21.1 in /usr/local/lib/python3.10/dist-packages (from requests->torch-geometric) (2.0.7)\n",
            "Requirement already satisfied: certifi>=2017.4.17 in /usr/local/lib/python3.10/dist-packages (from requests->torch-geometric) (2023.11.17)\n",
            "Requirement already satisfied: joblib>=1.1.1 in /usr/local/lib/python3.10/dist-packages (from scikit-learn->torch-geometric) (1.3.2)\n",
            "Requirement already satisfied: threadpoolctl>=2.0.0 in /usr/local/lib/python3.10/dist-packages (from scikit-learn->torch-geometric) (3.2.0)\n",
            "Requirement already satisfied: pyg-library in /usr/local/lib/python3.10/dist-packages (0.2.0)\n"
          ]
        }
      ],
      "source": [
        "!pip install torch-scatter torch-sparse torch-cluster torch-spline-conv torch-geometric -f https://data.pyg.org/whl/torch-2.1.0+cu118.html\n",
        "!pip install pyg-library"
      ]
    },
    {
      "cell_type": "code",
      "execution_count": 3,
      "metadata": {
        "colab": {
          "base_uri": "https://localhost:8080/"
        },
        "id": "Sr9odCetpEZv",
        "outputId": "175298ef-62dc-4aa8-ed85-fda8839bcfad"
      },
      "outputs": [
        {
          "name": "stdout",
          "output_type": "stream",
          "text": [
            "Requirement already satisfied: ogb in /usr/local/lib/python3.10/dist-packages (1.3.6)\n",
            "Requirement already satisfied: torch>=1.6.0 in /usr/local/lib/python3.10/dist-packages (from ogb) (2.1.0+cu118)\n",
            "Requirement already satisfied: numpy>=1.16.0 in /usr/local/lib/python3.10/dist-packages (from ogb) (1.23.5)\n",
            "Requirement already satisfied: tqdm>=4.29.0 in /usr/local/lib/python3.10/dist-packages (from ogb) (4.66.1)\n",
            "Requirement already satisfied: scikit-learn>=0.20.0 in /usr/local/lib/python3.10/dist-packages (from ogb) (1.2.2)\n",
            "Requirement already satisfied: pandas>=0.24.0 in /usr/local/lib/python3.10/dist-packages (from ogb) (1.5.3)\n",
            "Requirement already satisfied: six>=1.12.0 in /usr/local/lib/python3.10/dist-packages (from ogb) (1.16.0)\n",
            "Requirement already satisfied: urllib3>=1.24.0 in /usr/local/lib/python3.10/dist-packages (from ogb) (2.0.7)\n",
            "Requirement already satisfied: outdated>=0.2.0 in /usr/local/lib/python3.10/dist-packages (from ogb) (0.2.2)\n",
            "Requirement already satisfied: setuptools>=44 in /usr/local/lib/python3.10/dist-packages (from outdated>=0.2.0->ogb) (67.7.2)\n",
            "Requirement already satisfied: littleutils in /usr/local/lib/python3.10/dist-packages (from outdated>=0.2.0->ogb) (0.2.2)\n",
            "Requirement already satisfied: requests in /usr/local/lib/python3.10/dist-packages (from outdated>=0.2.0->ogb) (2.31.0)\n",
            "Requirement already satisfied: python-dateutil>=2.8.1 in /usr/local/lib/python3.10/dist-packages (from pandas>=0.24.0->ogb) (2.8.2)\n",
            "Requirement already satisfied: pytz>=2020.1 in /usr/local/lib/python3.10/dist-packages (from pandas>=0.24.0->ogb) (2023.3.post1)\n",
            "Requirement already satisfied: scipy>=1.3.2 in /usr/local/lib/python3.10/dist-packages (from scikit-learn>=0.20.0->ogb) (1.11.4)\n",
            "Requirement already satisfied: joblib>=1.1.1 in /usr/local/lib/python3.10/dist-packages (from scikit-learn>=0.20.0->ogb) (1.3.2)\n",
            "Requirement already satisfied: threadpoolctl>=2.0.0 in /usr/local/lib/python3.10/dist-packages (from scikit-learn>=0.20.0->ogb) (3.2.0)\n",
            "Requirement already satisfied: filelock in /usr/local/lib/python3.10/dist-packages (from torch>=1.6.0->ogb) (3.13.1)\n",
            "Requirement already satisfied: typing-extensions in /usr/local/lib/python3.10/dist-packages (from torch>=1.6.0->ogb) (4.5.0)\n",
            "Requirement already satisfied: sympy in /usr/local/lib/python3.10/dist-packages (from torch>=1.6.0->ogb) (1.12)\n",
            "Requirement already satisfied: networkx in /usr/local/lib/python3.10/dist-packages (from torch>=1.6.0->ogb) (3.2.1)\n",
            "Requirement already satisfied: jinja2 in /usr/local/lib/python3.10/dist-packages (from torch>=1.6.0->ogb) (3.1.2)\n",
            "Requirement already satisfied: fsspec in /usr/local/lib/python3.10/dist-packages (from torch>=1.6.0->ogb) (2023.6.0)\n",
            "Requirement already satisfied: triton==2.1.0 in /usr/local/lib/python3.10/dist-packages (from torch>=1.6.0->ogb) (2.1.0)\n",
            "Requirement already satisfied: MarkupSafe>=2.0 in /usr/local/lib/python3.10/dist-packages (from jinja2->torch>=1.6.0->ogb) (2.1.3)\n",
            "Requirement already satisfied: charset-normalizer<4,>=2 in /usr/local/lib/python3.10/dist-packages (from requests->outdated>=0.2.0->ogb) (3.3.2)\n",
            "Requirement already satisfied: idna<4,>=2.5 in /usr/local/lib/python3.10/dist-packages (from requests->outdated>=0.2.0->ogb) (3.6)\n",
            "Requirement already satisfied: certifi>=2017.4.17 in /usr/local/lib/python3.10/dist-packages (from requests->outdated>=0.2.0->ogb) (2023.11.17)\n",
            "Requirement already satisfied: mpmath>=0.19 in /usr/local/lib/python3.10/dist-packages (from sympy->torch>=1.6.0->ogb) (1.3.0)\n"
          ]
        }
      ],
      "source": [
        "!pip install ogb"
      ]
    },
    {
      "cell_type": "code",
      "execution_count": 4,
      "metadata": {
        "id": "6qIvPcJKiBrk"
      },
      "outputs": [],
      "source": [
        "from torch_geometric.data import Data\n",
        "from ogb.linkproppred import PygLinkPropPredDataset\n",
        "from torch_geometric import nn\n",
        "import torch_geometric.transforms as T"
      ]
    },
    {
      "cell_type": "code",
      "execution_count": 5,
      "metadata": {
        "colab": {
          "base_uri": "https://localhost:8080/"
        },
        "id": "lLL0SQpViz3E",
        "outputId": "21d12e11-0add-436b-e873-640c2a9854b6"
      },
      "outputs": [
        {
          "name": "stdout",
          "output_type": "stream",
          "text": [
            "Data(\n",
            "  num_nodes_dict={\n",
            "    disease=10687,\n",
            "    drug=10533,\n",
            "    function=45085,\n",
            "    protein=17499,\n",
            "    sideeffect=9969,\n",
            "  },\n",
            "  edge_index_dict={\n",
            "    (disease, disease-protein, protein)=[2, 73547],\n",
            "    (drug, drug-disease, disease)=[2, 5147],\n",
            "    (drug, drug-drug_acquired_metabolic_disease, drug)=[2, 63430],\n",
            "    (drug, drug-drug_bacterial_infectious_disease, drug)=[2, 18554],\n",
            "    (drug, drug-drug_benign_neoplasm, drug)=[2, 30348],\n",
            "    (drug, drug-drug_cancer, drug)=[2, 48514],\n",
            "    (drug, drug-drug_cardiovascular_system_disease, drug)=[2, 94842],\n",
            "    (drug, drug-drug_chromosomal_disease, drug)=[2, 316],\n",
            "    (drug, drug-drug_cognitive_disorder, drug)=[2, 34660],\n",
            "    (drug, drug-drug_cryptorchidism, drug)=[2, 128],\n",
            "    (drug, drug-drug_developmental_disorder_of_mental_health, drug)=[2, 14314],\n",
            "    (drug, drug-drug_endocrine_system_disease, drug)=[2, 55994],\n",
            "    (drug, drug-drug_fungal_infectious_disease, drug)=[2, 36114],\n",
            "    (drug, drug-drug_gastrointestinal_system_disease, drug)=[2, 83210],\n",
            "    (drug, drug-drug_hematopoietic_system_disease, drug)=[2, 79202],\n",
            "    (drug, drug-drug_hematopoietic_system_diseases, drug)=[2, 3006],\n",
            "    (drug, drug-drug_hypospadias, drug)=[2, 292],\n",
            "    (drug, drug-drug_immune_system_disease, drug)=[2, 34242],\n",
            "    (drug, drug-drug_inherited_metabolic_disorder, drug)=[2, 36492],\n",
            "    (drug, drug-drug_integumentary_system_disease, drug)=[2, 73902],\n",
            "    (drug, drug-drug_irritable_bowel_syndrome, drug)=[2, 8528],\n",
            "    (drug, drug-drug_monogenic_disease, drug)=[2, 600],\n",
            "    (drug, drug-drug_musculoskeletal_system_disease, drug)=[2, 57926],\n",
            "    (drug, drug-drug_nervous_system_disease, drug)=[2, 80208],\n",
            "    (drug, drug-drug_orofacial_cleft, drug)=[2, 380],\n",
            "    (drug, drug-drug_parasitic_infectious_disease, drug)=[2, 1680],\n",
            "    (drug, drug-drug_personality_disorder, drug)=[2, 972],\n",
            "    (drug, drug-drug_polycystic_ovary_syndrome, drug)=[2, 514],\n",
            "    (drug, drug-drug_pre-malignant_neoplasm, drug)=[2, 3224],\n",
            "    (drug, drug-drug_psoriatic_arthritis, drug)=[2, 2014],\n",
            "    (drug, drug-drug_reproductive_system_disease, drug)=[2, 17006],\n",
            "    (drug, drug-drug_respiratory_system_disease, drug)=[2, 82168],\n",
            "    (drug, drug-drug_sexual_disorder, drug)=[2, 1260],\n",
            "    (drug, drug-drug_sleep_disorder, drug)=[2, 25860],\n",
            "    (drug, drug-drug_somatoform_disorder, drug)=[2, 2214],\n",
            "    (drug, drug-drug_struct_sim, drug)=[2, 26348],\n",
            "    (drug, drug-drug_substance-related_disorder, drug)=[2, 4392],\n",
            "    (drug, drug-drug_thoracic_disease, drug)=[2, 4660],\n",
            "    (drug, drug-drug_urinary_system_disease, drug)=[2, 67326],\n",
            "    (drug, drug-drug_viral_infectious_disease, drug)=[2, 38846],\n",
            "    (drug, drug-protein, protein)=[2, 117930],\n",
            "    (drug, drug-sideeffect, sideeffect)=[2, 157479],\n",
            "    (function, function-function, function)=[2, 1433230],\n",
            "    (protein, protein-function, function)=[2, 777577],\n",
            "    (protein, protein-protein_activation, protein)=[2, 73044],\n",
            "    (protein, protein-protein_binding, protein)=[2, 292254],\n",
            "    (protein, protein-protein_catalysis, protein)=[2, 303434],\n",
            "    (protein, protein-protein_expression, protein)=[2, 1952],\n",
            "    (protein, protein-protein_inhibition, protein)=[2, 25732],\n",
            "    (protein, protein-protein_ptmod, protein)=[2, 15120],\n",
            "    (protein, protein-protein_reaction, protein)=[2, 352546],\n",
            "  },\n",
            "  edge_reltype={\n",
            "    (disease, disease-protein, protein)=[73547, 1],\n",
            "    (drug, drug-disease, disease)=[5147, 1],\n",
            "    (drug, drug-drug_acquired_metabolic_disease, drug)=[63430, 1],\n",
            "    (drug, drug-drug_bacterial_infectious_disease, drug)=[18554, 1],\n",
            "    (drug, drug-drug_benign_neoplasm, drug)=[30348, 1],\n",
            "    (drug, drug-drug_cancer, drug)=[48514, 1],\n",
            "    (drug, drug-drug_cardiovascular_system_disease, drug)=[94842, 1],\n",
            "    (drug, drug-drug_chromosomal_disease, drug)=[316, 1],\n",
            "    (drug, drug-drug_cognitive_disorder, drug)=[34660, 1],\n",
            "    (drug, drug-drug_cryptorchidism, drug)=[128, 1],\n",
            "    (drug, drug-drug_developmental_disorder_of_mental_health, drug)=[14314, 1],\n",
            "    (drug, drug-drug_endocrine_system_disease, drug)=[55994, 1],\n",
            "    (drug, drug-drug_fungal_infectious_disease, drug)=[36114, 1],\n",
            "    (drug, drug-drug_gastrointestinal_system_disease, drug)=[83210, 1],\n",
            "    (drug, drug-drug_hematopoietic_system_disease, drug)=[79202, 1],\n",
            "    (drug, drug-drug_hematopoietic_system_diseases, drug)=[3006, 1],\n",
            "    (drug, drug-drug_hypospadias, drug)=[292, 1],\n",
            "    (drug, drug-drug_immune_system_disease, drug)=[34242, 1],\n",
            "    (drug, drug-drug_inherited_metabolic_disorder, drug)=[36492, 1],\n",
            "    (drug, drug-drug_integumentary_system_disease, drug)=[73902, 1],\n",
            "    (drug, drug-drug_irritable_bowel_syndrome, drug)=[8528, 1],\n",
            "    (drug, drug-drug_monogenic_disease, drug)=[600, 1],\n",
            "    (drug, drug-drug_musculoskeletal_system_disease, drug)=[57926, 1],\n",
            "    (drug, drug-drug_nervous_system_disease, drug)=[80208, 1],\n",
            "    (drug, drug-drug_orofacial_cleft, drug)=[380, 1],\n",
            "    (drug, drug-drug_parasitic_infectious_disease, drug)=[1680, 1],\n",
            "    (drug, drug-drug_personality_disorder, drug)=[972, 1],\n",
            "    (drug, drug-drug_polycystic_ovary_syndrome, drug)=[514, 1],\n",
            "    (drug, drug-drug_pre-malignant_neoplasm, drug)=[3224, 1],\n",
            "    (drug, drug-drug_psoriatic_arthritis, drug)=[2014, 1],\n",
            "    (drug, drug-drug_reproductive_system_disease, drug)=[17006, 1],\n",
            "    (drug, drug-drug_respiratory_system_disease, drug)=[82168, 1],\n",
            "    (drug, drug-drug_sexual_disorder, drug)=[1260, 1],\n",
            "    (drug, drug-drug_sleep_disorder, drug)=[25860, 1],\n",
            "    (drug, drug-drug_somatoform_disorder, drug)=[2214, 1],\n",
            "    (drug, drug-drug_struct_sim, drug)=[26348, 1],\n",
            "    (drug, drug-drug_substance-related_disorder, drug)=[4392, 1],\n",
            "    (drug, drug-drug_thoracic_disease, drug)=[4660, 1],\n",
            "    (drug, drug-drug_urinary_system_disease, drug)=[67326, 1],\n",
            "    (drug, drug-drug_viral_infectious_disease, drug)=[38846, 1],\n",
            "    (drug, drug-protein, protein)=[117930, 1],\n",
            "    (drug, drug-sideeffect, sideeffect)=[157479, 1],\n",
            "    (function, function-function, function)=[1433230, 1],\n",
            "    (protein, protein-function, function)=[777577, 1],\n",
            "    (protein, protein-protein_activation, protein)=[73044, 1],\n",
            "    (protein, protein-protein_binding, protein)=[292254, 1],\n",
            "    (protein, protein-protein_catalysis, protein)=[303434, 1],\n",
            "    (protein, protein-protein_expression, protein)=[1952, 1],\n",
            "    (protein, protein-protein_inhibition, protein)=[25732, 1],\n",
            "    (protein, protein-protein_ptmod, protein)=[15120, 1],\n",
            "    (protein, protein-protein_reaction, protein)=[352546, 1],\n",
            "  }\n",
            ")\n"
          ]
        }
      ],
      "source": [
        "dataset = PygLinkPropPredDataset(name=\"ogbl-biokg\", root='dataset/')\n",
        "\n",
        "split_edge = dataset.get_edge_split()\n",
        "train_edge, valid_edge, test_edge = split_edge[\"train\"], split_edge[\"valid\"], split_edge[\"test\"]\n",
        "biokg_raw = dataset[0]\n",
        "\n",
        "print(biokg_raw)"
      ]
    },
    {
      "cell_type": "code",
      "execution_count": 6,
      "metadata": {
        "id": "ceTXkEA-jLzv"
      },
      "outputs": [],
      "source": [
        "from torch_geometric.data import HeteroData\n",
        "biokg = HeteroData()\n",
        "for node_type, num_nodes in biokg_raw.num_nodes_dict.items():\n",
        "    biokg[node_type].num_nodes = num_nodes\n",
        "for edge_type, edge_index in biokg_raw.edge_index_dict.items():\n",
        "    biokg[edge_type].edge_index = edge_index"
      ]
    },
    {
      "cell_type": "code",
      "execution_count": 7,
      "metadata": {
        "colab": {
          "base_uri": "https://localhost:8080/"
        },
        "id": "9GbpRkBUqxVr",
        "outputId": "52d703ce-8231-4e0e-e155-33115b79bffe"
      },
      "outputs": [
        {
          "data": {
            "text/plain": [
              "HeteroData(\n",
              "  disease={ num_nodes=10687 },\n",
              "  drug={ num_nodes=10533 },\n",
              "  function={ num_nodes=45085 },\n",
              "  protein={ num_nodes=17499 },\n",
              "  sideeffect={ num_nodes=9969 },\n",
              "  (disease, disease-protein, protein)={ edge_index=[2, 73547] },\n",
              "  (drug, drug-disease, disease)={ edge_index=[2, 5147] },\n",
              "  (drug, drug-drug_acquired_metabolic_disease, drug)={ edge_index=[2, 63430] },\n",
              "  (drug, drug-drug_bacterial_infectious_disease, drug)={ edge_index=[2, 18554] },\n",
              "  (drug, drug-drug_benign_neoplasm, drug)={ edge_index=[2, 30348] },\n",
              "  (drug, drug-drug_cancer, drug)={ edge_index=[2, 48514] },\n",
              "  (drug, drug-drug_cardiovascular_system_disease, drug)={ edge_index=[2, 94842] },\n",
              "  (drug, drug-drug_chromosomal_disease, drug)={ edge_index=[2, 316] },\n",
              "  (drug, drug-drug_cognitive_disorder, drug)={ edge_index=[2, 34660] },\n",
              "  (drug, drug-drug_cryptorchidism, drug)={ edge_index=[2, 128] },\n",
              "  (drug, drug-drug_developmental_disorder_of_mental_health, drug)={ edge_index=[2, 14314] },\n",
              "  (drug, drug-drug_endocrine_system_disease, drug)={ edge_index=[2, 55994] },\n",
              "  (drug, drug-drug_fungal_infectious_disease, drug)={ edge_index=[2, 36114] },\n",
              "  (drug, drug-drug_gastrointestinal_system_disease, drug)={ edge_index=[2, 83210] },\n",
              "  (drug, drug-drug_hematopoietic_system_disease, drug)={ edge_index=[2, 79202] },\n",
              "  (drug, drug-drug_hematopoietic_system_diseases, drug)={ edge_index=[2, 3006] },\n",
              "  (drug, drug-drug_hypospadias, drug)={ edge_index=[2, 292] },\n",
              "  (drug, drug-drug_immune_system_disease, drug)={ edge_index=[2, 34242] },\n",
              "  (drug, drug-drug_inherited_metabolic_disorder, drug)={ edge_index=[2, 36492] },\n",
              "  (drug, drug-drug_integumentary_system_disease, drug)={ edge_index=[2, 73902] },\n",
              "  (drug, drug-drug_irritable_bowel_syndrome, drug)={ edge_index=[2, 8528] },\n",
              "  (drug, drug-drug_monogenic_disease, drug)={ edge_index=[2, 600] },\n",
              "  (drug, drug-drug_musculoskeletal_system_disease, drug)={ edge_index=[2, 57926] },\n",
              "  (drug, drug-drug_nervous_system_disease, drug)={ edge_index=[2, 80208] },\n",
              "  (drug, drug-drug_orofacial_cleft, drug)={ edge_index=[2, 380] },\n",
              "  (drug, drug-drug_parasitic_infectious_disease, drug)={ edge_index=[2, 1680] },\n",
              "  (drug, drug-drug_personality_disorder, drug)={ edge_index=[2, 972] },\n",
              "  (drug, drug-drug_polycystic_ovary_syndrome, drug)={ edge_index=[2, 514] },\n",
              "  (drug, drug-drug_pre-malignant_neoplasm, drug)={ edge_index=[2, 3224] },\n",
              "  (drug, drug-drug_psoriatic_arthritis, drug)={ edge_index=[2, 2014] },\n",
              "  (drug, drug-drug_reproductive_system_disease, drug)={ edge_index=[2, 17006] },\n",
              "  (drug, drug-drug_respiratory_system_disease, drug)={ edge_index=[2, 82168] },\n",
              "  (drug, drug-drug_sexual_disorder, drug)={ edge_index=[2, 1260] },\n",
              "  (drug, drug-drug_sleep_disorder, drug)={ edge_index=[2, 25860] },\n",
              "  (drug, drug-drug_somatoform_disorder, drug)={ edge_index=[2, 2214] },\n",
              "  (drug, drug-drug_struct_sim, drug)={ edge_index=[2, 26348] },\n",
              "  (drug, drug-drug_substance-related_disorder, drug)={ edge_index=[2, 4392] },\n",
              "  (drug, drug-drug_thoracic_disease, drug)={ edge_index=[2, 4660] },\n",
              "  (drug, drug-drug_urinary_system_disease, drug)={ edge_index=[2, 67326] },\n",
              "  (drug, drug-drug_viral_infectious_disease, drug)={ edge_index=[2, 38846] },\n",
              "  (drug, drug-protein, protein)={ edge_index=[2, 117930] },\n",
              "  (drug, drug-sideeffect, sideeffect)={ edge_index=[2, 157479] },\n",
              "  (function, function-function, function)={ edge_index=[2, 1433230] },\n",
              "  (protein, protein-function, function)={ edge_index=[2, 777577] },\n",
              "  (protein, protein-protein_activation, protein)={ edge_index=[2, 73044] },\n",
              "  (protein, protein-protein_binding, protein)={ edge_index=[2, 292254] },\n",
              "  (protein, protein-protein_catalysis, protein)={ edge_index=[2, 303434] },\n",
              "  (protein, protein-protein_expression, protein)={ edge_index=[2, 1952] },\n",
              "  (protein, protein-protein_inhibition, protein)={ edge_index=[2, 25732] },\n",
              "  (protein, protein-protein_ptmod, protein)={ edge_index=[2, 15120] },\n",
              "  (protein, protein-protein_reaction, protein)={ edge_index=[2, 352546] }\n",
              ")"
            ]
          },
          "execution_count": 7,
          "metadata": {},
          "output_type": "execute_result"
        }
      ],
      "source": [
        "biokg"
      ]
    },
    {
      "cell_type": "code",
      "execution_count": 8,
      "metadata": {
        "colab": {
          "base_uri": "https://localhost:8080/"
        },
        "id": "qqjzd6yneJtt",
        "outputId": "148c2031-3c76-4dc0-eddf-b504c9fea265"
      },
      "outputs": [
        {
          "name": "stdout",
          "output_type": "stream",
          "text": [
            "93773\n",
            "4762678\n"
          ]
        }
      ],
      "source": [
        "print(biokg.num_nodes)\n",
        "print(biokg.num_edges)\n",
        "# print(biokg.edge_index_dict)"
      ]
    },
    {
      "cell_type": "code",
      "execution_count": 9,
      "metadata": {
        "colab": {
          "base_uri": "https://localhost:8080/"
        },
        "id": "rU4Y8rtJlAcK",
        "outputId": "3da5dcea-3370-43a2-b97c-b3795229f2a9"
      },
      "outputs": [
        {
          "name": "stdout",
          "output_type": "stream",
          "text": [
            "['disease', 'drug', 'function', 'protein', 'sideeffect']\n",
            "[('disease', 'disease-protein', 'protein'), ('drug', 'drug-disease', 'disease'), ('drug', 'drug-drug_acquired_metabolic_disease', 'drug'), ('drug', 'drug-drug_bacterial_infectious_disease', 'drug'), ('drug', 'drug-drug_benign_neoplasm', 'drug'), ('drug', 'drug-drug_cancer', 'drug'), ('drug', 'drug-drug_cardiovascular_system_disease', 'drug'), ('drug', 'drug-drug_chromosomal_disease', 'drug'), ('drug', 'drug-drug_cognitive_disorder', 'drug'), ('drug', 'drug-drug_cryptorchidism', 'drug'), ('drug', 'drug-drug_developmental_disorder_of_mental_health', 'drug'), ('drug', 'drug-drug_endocrine_system_disease', 'drug'), ('drug', 'drug-drug_fungal_infectious_disease', 'drug'), ('drug', 'drug-drug_gastrointestinal_system_disease', 'drug'), ('drug', 'drug-drug_hematopoietic_system_disease', 'drug'), ('drug', 'drug-drug_hematopoietic_system_diseases', 'drug'), ('drug', 'drug-drug_hypospadias', 'drug'), ('drug', 'drug-drug_immune_system_disease', 'drug'), ('drug', 'drug-drug_inherited_metabolic_disorder', 'drug'), ('drug', 'drug-drug_integumentary_system_disease', 'drug'), ('drug', 'drug-drug_irritable_bowel_syndrome', 'drug'), ('drug', 'drug-drug_monogenic_disease', 'drug'), ('drug', 'drug-drug_musculoskeletal_system_disease', 'drug'), ('drug', 'drug-drug_nervous_system_disease', 'drug'), ('drug', 'drug-drug_orofacial_cleft', 'drug'), ('drug', 'drug-drug_parasitic_infectious_disease', 'drug'), ('drug', 'drug-drug_personality_disorder', 'drug'), ('drug', 'drug-drug_polycystic_ovary_syndrome', 'drug'), ('drug', 'drug-drug_pre-malignant_neoplasm', 'drug'), ('drug', 'drug-drug_psoriatic_arthritis', 'drug'), ('drug', 'drug-drug_reproductive_system_disease', 'drug'), ('drug', 'drug-drug_respiratory_system_disease', 'drug'), ('drug', 'drug-drug_sexual_disorder', 'drug'), ('drug', 'drug-drug_sleep_disorder', 'drug'), ('drug', 'drug-drug_somatoform_disorder', 'drug'), ('drug', 'drug-drug_struct_sim', 'drug'), ('drug', 'drug-drug_substance-related_disorder', 'drug'), ('drug', 'drug-drug_thoracic_disease', 'drug'), ('drug', 'drug-drug_urinary_system_disease', 'drug'), ('drug', 'drug-drug_viral_infectious_disease', 'drug'), ('drug', 'drug-protein', 'protein'), ('drug', 'drug-sideeffect', 'sideeffect'), ('function', 'function-function', 'function'), ('protein', 'protein-function', 'function'), ('protein', 'protein-protein_activation', 'protein'), ('protein', 'protein-protein_binding', 'protein'), ('protein', 'protein-protein_catalysis', 'protein'), ('protein', 'protein-protein_expression', 'protein'), ('protein', 'protein-protein_inhibition', 'protein'), ('protein', 'protein-protein_ptmod', 'protein'), ('protein', 'protein-protein_reaction', 'protein')]\n"
          ]
        }
      ],
      "source": [
        "node_types, edge_types = biokg.metadata()\n",
        "print(node_types)\n",
        "print(edge_types)"
      ]
    },
    {
      "cell_type": "code",
      "execution_count": 10,
      "metadata": {
        "colab": {
          "base_uri": "https://localhost:8080/"
        },
        "id": "Cw3jWIaxLkFR",
        "outputId": "bdf819c3-a074-4215-85b4-81b74f6d2fcf"
      },
      "outputs": [
        {
          "name": "stdout",
          "output_type": "stream",
          "text": [
            "10687\n",
            "10533\n",
            "45085\n",
            "17499\n",
            "9969\n"
          ]
        }
      ],
      "source": [
        "print(biokg[\"disease\"].num_nodes)\n",
        "print(biokg[\"drug\"].num_nodes)\n",
        "print(biokg[\"function\"].num_nodes)\n",
        "print(biokg[\"protein\"].num_nodes)\n",
        "print(biokg[\"sideeffect\"].num_nodes)"
      ]
    },
    {
      "cell_type": "code",
      "execution_count": 11,
      "metadata": {
        "colab": {
          "base_uri": "https://localhost:8080/"
        },
        "id": "WxWuDJrPkao3",
        "outputId": "42313a4d-0fef-459f-a8d4-151606b97fdf"
      },
      "outputs": [
        {
          "name": "stdout",
          "output_type": "stream",
          "text": [
            "('disease', 'disease-protein', 'protein'): 73547\n",
            "('drug', 'drug-disease', 'disease'): 5147\n",
            "('drug', 'drug-drug_acquired_metabolic_disease', 'drug'): 63430\n",
            "('drug', 'drug-drug_bacterial_infectious_disease', 'drug'): 18554\n",
            "('drug', 'drug-drug_benign_neoplasm', 'drug'): 30348\n",
            "('drug', 'drug-drug_cancer', 'drug'): 48514\n",
            "('drug', 'drug-drug_cardiovascular_system_disease', 'drug'): 94842\n",
            "('drug', 'drug-drug_chromosomal_disease', 'drug'): 316\n",
            "('drug', 'drug-drug_cognitive_disorder', 'drug'): 34660\n",
            "('drug', 'drug-drug_cryptorchidism', 'drug'): 128\n",
            "('drug', 'drug-drug_developmental_disorder_of_mental_health', 'drug'): 14314\n",
            "('drug', 'drug-drug_endocrine_system_disease', 'drug'): 55994\n",
            "('drug', 'drug-drug_fungal_infectious_disease', 'drug'): 36114\n",
            "('drug', 'drug-drug_gastrointestinal_system_disease', 'drug'): 83210\n",
            "('drug', 'drug-drug_hematopoietic_system_disease', 'drug'): 79202\n",
            "('drug', 'drug-drug_hematopoietic_system_diseases', 'drug'): 3006\n",
            "('drug', 'drug-drug_hypospadias', 'drug'): 292\n",
            "('drug', 'drug-drug_immune_system_disease', 'drug'): 34242\n",
            "('drug', 'drug-drug_inherited_metabolic_disorder', 'drug'): 36492\n",
            "('drug', 'drug-drug_integumentary_system_disease', 'drug'): 73902\n",
            "('drug', 'drug-drug_irritable_bowel_syndrome', 'drug'): 8528\n",
            "('drug', 'drug-drug_monogenic_disease', 'drug'): 600\n",
            "('drug', 'drug-drug_musculoskeletal_system_disease', 'drug'): 57926\n",
            "('drug', 'drug-drug_nervous_system_disease', 'drug'): 80208\n",
            "('drug', 'drug-drug_orofacial_cleft', 'drug'): 380\n",
            "('drug', 'drug-drug_parasitic_infectious_disease', 'drug'): 1680\n",
            "('drug', 'drug-drug_personality_disorder', 'drug'): 972\n",
            "('drug', 'drug-drug_polycystic_ovary_syndrome', 'drug'): 514\n",
            "('drug', 'drug-drug_pre-malignant_neoplasm', 'drug'): 3224\n",
            "('drug', 'drug-drug_psoriatic_arthritis', 'drug'): 2014\n",
            "('drug', 'drug-drug_reproductive_system_disease', 'drug'): 17006\n",
            "('drug', 'drug-drug_respiratory_system_disease', 'drug'): 82168\n",
            "('drug', 'drug-drug_sexual_disorder', 'drug'): 1260\n",
            "('drug', 'drug-drug_sleep_disorder', 'drug'): 25860\n",
            "('drug', 'drug-drug_somatoform_disorder', 'drug'): 2214\n",
            "('drug', 'drug-drug_struct_sim', 'drug'): 26348\n",
            "('drug', 'drug-drug_substance-related_disorder', 'drug'): 4392\n",
            "('drug', 'drug-drug_thoracic_disease', 'drug'): 4660\n",
            "('drug', 'drug-drug_urinary_system_disease', 'drug'): 67326\n",
            "('drug', 'drug-drug_viral_infectious_disease', 'drug'): 38846\n",
            "('drug', 'drug-protein', 'protein'): 117930\n",
            "('drug', 'drug-sideeffect', 'sideeffect'): 157479\n",
            "('function', 'function-function', 'function'): 1433230\n",
            "('protein', 'protein-function', 'function'): 777577\n",
            "('protein', 'protein-protein_activation', 'protein'): 73044\n",
            "('protein', 'protein-protein_binding', 'protein'): 292254\n",
            "('protein', 'protein-protein_catalysis', 'protein'): 303434\n",
            "('protein', 'protein-protein_expression', 'protein'): 1952\n",
            "('protein', 'protein-protein_inhibition', 'protein'): 25732\n",
            "('protein', 'protein-protein_ptmod', 'protein'): 15120\n",
            "('protein', 'protein-protein_reaction', 'protein'): 352546\n"
          ]
        }
      ],
      "source": [
        "for t in edge_types:\n",
        "    print(f\"{t}: {biokg[t].num_edges}\")"
      ]
    },
    {
      "cell_type": "code",
      "execution_count": 12,
      "metadata": {
        "id": "NcPnef51t0Ks"
      },
      "outputs": [],
      "source": [
        "nums_edge = [biokg[t].num_edges for t in edge_types]"
      ]
    },
    {
      "cell_type": "code",
      "execution_count": 13,
      "metadata": {
        "colab": {
          "base_uri": "https://localhost:8080/"
        },
        "id": "-x1l_AxQuR4L",
        "outputId": "e425fe53-e5cc-48b9-ac68-ee8b5165408a"
      },
      "outputs": [
        {
          "name": "stdout",
          "output_type": "stream",
          "text": [
            "('protein', 'protein-function', 'function')\n"
          ]
        }
      ],
      "source": [
        "print(edge_types[-8])\n",
        "relation_focus = edge_types[-8]\n",
        "relation_edges = biokg[relation_focus]"
      ]
    },
    {
      "cell_type": "code",
      "execution_count": 14,
      "metadata": {
        "id": "Um7TkWqup3e_"
      },
      "outputs": [],
      "source": [
        "transform = T.Compose([\n",
        "    T.RandomLinkSplit(\n",
        "        num_val=0.05,\n",
        "        num_test=0.1,\n",
        "        disjoint_train_ratio=0.2,   # supervision\n",
        "        add_negative_train_samples=False,\n",
        "        neg_sampling_ratio=1.0,\n",
        "        edge_types=edge_types\n",
        "    )\n",
        "])"
      ]
    },
    {
      "cell_type": "code",
      "execution_count": 15,
      "metadata": {
        "id": "mxXmL0gSrKT5"
      },
      "outputs": [],
      "source": [
        "train_data, val_data, test_data = transform(biokg)"
      ]
    },
    {
      "cell_type": "code",
      "execution_count": 16,
      "metadata": {
        "colab": {
          "base_uri": "https://localhost:8080/"
        },
        "id": "r40bwF8sykig",
        "outputId": "98920459-2d69-466f-e1f5-0f938c91845d"
      },
      "outputs": [
        {
          "name": "stdout",
          "output_type": "stream",
          "text": [
            "Train Data: HeteroData(\n",
            "  disease={ num_nodes=10687 },\n",
            "  drug={ num_nodes=10533 },\n",
            "  function={ num_nodes=45085 },\n",
            "  protein={ num_nodes=17499 },\n",
            "  sideeffect={ num_nodes=9969 },\n",
            "  (disease, disease-protein, protein)={\n",
            "    edge_index=[2, 50013],\n",
            "    edge_label=[12503],\n",
            "    edge_label_index=[2, 12503],\n",
            "  },\n",
            "  (drug, drug-disease, disease)={\n",
            "    edge_index=[2, 3501],\n",
            "    edge_label=[875],\n",
            "    edge_label_index=[2, 875],\n",
            "  },\n",
            "  (drug, drug-drug_acquired_metabolic_disease, drug)={\n",
            "    edge_index=[2, 43133],\n",
            "    edge_label=[10783],\n",
            "    edge_label_index=[2, 10783],\n",
            "  },\n",
            "  (drug, drug-drug_bacterial_infectious_disease, drug)={\n",
            "    edge_index=[2, 12618],\n",
            "    edge_label=[3154],\n",
            "    edge_label_index=[2, 3154],\n",
            "  },\n",
            "  (drug, drug-drug_benign_neoplasm, drug)={\n",
            "    edge_index=[2, 20638],\n",
            "    edge_label=[5159],\n",
            "    edge_label_index=[2, 5159],\n",
            "  },\n",
            "  (drug, drug-drug_cancer, drug)={\n",
            "    edge_index=[2, 32991],\n",
            "    edge_label=[8247],\n",
            "    edge_label_index=[2, 8247],\n",
            "  },\n",
            "  (drug, drug-drug_cardiovascular_system_disease, drug)={\n",
            "    edge_index=[2, 64493],\n",
            "    edge_label=[16123],\n",
            "    edge_label_index=[2, 16123],\n",
            "  },\n",
            "  (drug, drug-drug_chromosomal_disease, drug)={\n",
            "    edge_index=[2, 216],\n",
            "    edge_label=[54],\n",
            "    edge_label_index=[2, 54],\n",
            "  },\n",
            "  (drug, drug-drug_cognitive_disorder, drug)={\n",
            "    edge_index=[2, 23569],\n",
            "    edge_label=[5892],\n",
            "    edge_label_index=[2, 5892],\n",
            "  },\n",
            "  (drug, drug-drug_cryptorchidism, drug)={\n",
            "    edge_index=[2, 88],\n",
            "    edge_label=[22],\n",
            "    edge_label_index=[2, 22],\n",
            "  },\n",
            "  (drug, drug-drug_developmental_disorder_of_mental_health, drug)={\n",
            "    edge_index=[2, 9735],\n",
            "    edge_label=[2433],\n",
            "    edge_label_index=[2, 2433],\n",
            "  },\n",
            "  (drug, drug-drug_endocrine_system_disease, drug)={\n",
            "    edge_index=[2, 38077],\n",
            "    edge_label=[9519],\n",
            "    edge_label_index=[2, 9519],\n",
            "  },\n",
            "  (drug, drug-drug_fungal_infectious_disease, drug)={\n",
            "    edge_index=[2, 24559],\n",
            "    edge_label=[6139],\n",
            "    edge_label_index=[2, 6139],\n",
            "  },\n",
            "  (drug, drug-drug_gastrointestinal_system_disease, drug)={\n",
            "    edge_index=[2, 56584],\n",
            "    edge_label=[14145],\n",
            "    edge_label_index=[2, 14145],\n",
            "  },\n",
            "  (drug, drug-drug_hematopoietic_system_disease, drug)={\n",
            "    edge_index=[2, 53858],\n",
            "    edge_label=[13464],\n",
            "    edge_label_index=[2, 13464],\n",
            "  },\n",
            "  (drug, drug-drug_hematopoietic_system_diseases, drug)={\n",
            "    edge_index=[2, 2045],\n",
            "    edge_label=[511],\n",
            "    edge_label_index=[2, 511],\n",
            "  },\n",
            "  (drug, drug-drug_hypospadias, drug)={\n",
            "    edge_index=[2, 200],\n",
            "    edge_label=[49],\n",
            "    edge_label_index=[2, 49],\n",
            "  },\n",
            "  (drug, drug-drug_immune_system_disease, drug)={\n",
            "    edge_index=[2, 23285],\n",
            "    edge_label=[5821],\n",
            "    edge_label_index=[2, 5821],\n",
            "  },\n",
            "  (drug, drug-drug_inherited_metabolic_disorder, drug)={\n",
            "    edge_index=[2, 24816],\n",
            "    edge_label=[6203],\n",
            "    edge_label_index=[2, 6203],\n",
            "  },\n",
            "  (drug, drug-drug_integumentary_system_disease, drug)={\n",
            "    edge_index=[2, 50254],\n",
            "    edge_label=[12563],\n",
            "    edge_label_index=[2, 12563],\n",
            "  },\n",
            "  (drug, drug-drug_irritable_bowel_syndrome, drug)={\n",
            "    edge_index=[2, 5800],\n",
            "    edge_label=[1450],\n",
            "    edge_label_index=[2, 1450],\n",
            "  },\n",
            "  (drug, drug-drug_monogenic_disease, drug)={\n",
            "    edge_index=[2, 408],\n",
            "    edge_label=[102],\n",
            "    edge_label_index=[2, 102],\n",
            "  },\n",
            "  (drug, drug-drug_musculoskeletal_system_disease, drug)={\n",
            "    edge_index=[2, 39391],\n",
            "    edge_label=[9847],\n",
            "    edge_label_index=[2, 9847],\n",
            "  },\n",
            "  (drug, drug-drug_nervous_system_disease, drug)={\n",
            "    edge_index=[2, 54543],\n",
            "    edge_label=[13635],\n",
            "    edge_label_index=[2, 13635],\n",
            "  },\n",
            "  (drug, drug-drug_orofacial_cleft, drug)={\n",
            "    edge_index=[2, 259],\n",
            "    edge_label=[64],\n",
            "    edge_label_index=[2, 64],\n",
            "  },\n",
            "  (drug, drug-drug_parasitic_infectious_disease, drug)={\n",
            "    edge_index=[2, 1143],\n",
            "    edge_label=[285],\n",
            "    edge_label_index=[2, 285],\n",
            "  },\n",
            "  (drug, drug-drug_personality_disorder, drug)={\n",
            "    edge_index=[2, 662],\n",
            "    edge_label=[165],\n",
            "    edge_label_index=[2, 165],\n",
            "  },\n",
            "  (drug, drug-drug_polycystic_ovary_syndrome, drug)={\n",
            "    edge_index=[2, 351],\n",
            "    edge_label=[87],\n",
            "    edge_label_index=[2, 87],\n",
            "  },\n",
            "  (drug, drug-drug_pre-malignant_neoplasm, drug)={\n",
            "    edge_index=[2, 2193],\n",
            "    edge_label=[548],\n",
            "    edge_label_index=[2, 548],\n",
            "  },\n",
            "  (drug, drug-drug_psoriatic_arthritis, drug)={\n",
            "    edge_index=[2, 1371],\n",
            "    edge_label=[342],\n",
            "    edge_label_index=[2, 342],\n",
            "  },\n",
            "  (drug, drug-drug_reproductive_system_disease, drug)={\n",
            "    edge_index=[2, 11565],\n",
            "    edge_label=[2891],\n",
            "    edge_label_index=[2, 2891],\n",
            "  },\n",
            "  (drug, drug-drug_respiratory_system_disease, drug)={\n",
            "    edge_index=[2, 55876],\n",
            "    edge_label=[13968],\n",
            "    edge_label_index=[2, 13968],\n",
            "  },\n",
            "  (drug, drug-drug_sexual_disorder, drug)={\n",
            "    edge_index=[2, 857],\n",
            "    edge_label=[214],\n",
            "    edge_label_index=[2, 214],\n",
            "  },\n",
            "  (drug, drug-drug_sleep_disorder, drug)={\n",
            "    edge_index=[2, 17585],\n",
            "    edge_label=[4396],\n",
            "    edge_label_index=[2, 4396],\n",
            "  },\n",
            "  (drug, drug-drug_somatoform_disorder, drug)={\n",
            "    edge_index=[2, 1507],\n",
            "    edge_label=[376],\n",
            "    edge_label_index=[2, 376],\n",
            "  },\n",
            "  (drug, drug-drug_struct_sim, drug)={\n",
            "    edge_index=[2, 17918],\n",
            "    edge_label=[4479],\n",
            "    edge_label_index=[2, 4479],\n",
            "  },\n",
            "  (drug, drug-drug_substance-related_disorder, drug)={\n",
            "    edge_index=[2, 2988],\n",
            "    edge_label=[746],\n",
            "    edge_label_index=[2, 746],\n",
            "  },\n",
            "  (drug, drug-drug_thoracic_disease, drug)={\n",
            "    edge_index=[2, 3169],\n",
            "    edge_label=[792],\n",
            "    edge_label_index=[2, 792],\n",
            "  },\n",
            "  (drug, drug-drug_urinary_system_disease, drug)={\n",
            "    edge_index=[2, 45783],\n",
            "    edge_label=[11445],\n",
            "    edge_label_index=[2, 11445],\n",
            "  },\n",
            "  (drug, drug-drug_viral_infectious_disease, drug)={\n",
            "    edge_index=[2, 26416],\n",
            "    edge_label=[6604],\n",
            "    edge_label_index=[2, 6604],\n",
            "  },\n",
            "  (drug, drug-protein, protein)={\n",
            "    edge_index=[2, 80193],\n",
            "    edge_label=[20048],\n",
            "    edge_label_index=[2, 20048],\n",
            "  },\n",
            "  (drug, drug-sideeffect, sideeffect)={\n",
            "    edge_index=[2, 107088],\n",
            "    edge_label=[26771],\n",
            "    edge_label_index=[2, 26771],\n",
            "  },\n",
            "  (function, function-function, function)={\n",
            "    edge_index=[2, 974597],\n",
            "    edge_label=[243649],\n",
            "    edge_label_index=[2, 243649],\n",
            "  },\n",
            "  (protein, protein-function, function)={\n",
            "    edge_index=[2, 528754],\n",
            "    edge_label=[132188],\n",
            "    edge_label_index=[2, 132188],\n",
            "  },\n",
            "  (protein, protein-protein_activation, protein)={\n",
            "    edge_index=[2, 49671],\n",
            "    edge_label=[12417],\n",
            "    edge_label_index=[2, 12417],\n",
            "  },\n",
            "  (protein, protein-protein_binding, protein)={\n",
            "    edge_index=[2, 198734],\n",
            "    edge_label=[49683],\n",
            "    edge_label_index=[2, 49683],\n",
            "  },\n",
            "  (protein, protein-protein_catalysis, protein)={\n",
            "    edge_index=[2, 206336],\n",
            "    edge_label=[51584],\n",
            "    edge_label_index=[2, 51584],\n",
            "  },\n",
            "  (protein, protein-protein_expression, protein)={\n",
            "    edge_index=[2, 1328],\n",
            "    edge_label=[332],\n",
            "    edge_label_index=[2, 332],\n",
            "  },\n",
            "  (protein, protein-protein_inhibition, protein)={\n",
            "    edge_index=[2, 17499],\n",
            "    edge_label=[4374],\n",
            "    edge_label_index=[2, 4374],\n",
            "  },\n",
            "  (protein, protein-protein_ptmod, protein)={\n",
            "    edge_index=[2, 10282],\n",
            "    edge_label=[2570],\n",
            "    edge_label_index=[2, 2570],\n",
            "  },\n",
            "  (protein, protein-protein_reaction, protein)={\n",
            "    edge_index=[2, 239732],\n",
            "    edge_label=[59933],\n",
            "    edge_label_index=[2, 59933],\n",
            "  }\n",
            ")\n"
          ]
        }
      ],
      "source": [
        "print(f\"Train Data: {train_data}\")\n",
        "# print(f\"Val Data: {val_data}\")\n",
        "# print(f\"Test Data: {test_data}\")"
      ]
    },
    {
      "cell_type": "code",
      "execution_count": 17,
      "metadata": {
        "id": "fkPWCUxU4xwO"
      },
      "outputs": [],
      "source": [
        "import sys\n",
        "import torch_geometric\n",
        "from torch_geometric.nn import GCNConv, SAGEConv, GATConv, GINConv\n",
        "from torch_geometric.nn import BatchNorm, LayerNorm, HeteroBatchNorm, HeteroLayerNorm\n",
        "from torch_geometric.nn import to_hetero\n",
        "from torch.nn import Embedding\n",
        "\n",
        "class SAGE(torch.nn.Module):\n",
        "    def __init__(self, in_channels, hidden_channels, out_channels):\n",
        "        super().__init__()\n",
        "\n",
        "        self.relu = torch.nn.ReLU()\n",
        "        self.conv1 = SAGEConv(in_channels, hidden_channels)\n",
        "        self.conv2 = SAGEConv(hidden_channels, hidden_channels)\n",
        "        self.conv3 = SAGEConv(hidden_channels, out_channels)\n",
        "\n",
        "    def forward(self, node_feature, edge_index):\n",
        "\n",
        "        output1 = self.relu(self.conv1(node_feature, edge_index))\n",
        "        output2 = self.relu(self.conv2(output1, edge_index))\n",
        "        output = self.conv3(output2, edge_index)\n",
        "        return output\n",
        "\n",
        "class SAGE_RES(torch.nn.Module):\n",
        "    def __init__(self, in_channels, hidden_channels, out_channels):\n",
        "        super().__init__()\n",
        "\n",
        "        self.relu = torch.nn.ReLU()\n",
        "        self.conv1 = SAGEConv(in_channels, hidden_channels)\n",
        "        self.conv2 = SAGEConv(hidden_channels, hidden_channels)\n",
        "        self.conv3 = SAGEConv(hidden_channels, out_channels)\n",
        "        self.res = torch.nn.Linear(in_channels, out_channels)\n",
        "        # self.norm1 = BatchNorm(hidden_channels, 2)\n",
        "        # self.norm2 = BatchNorm(hidden_channels, 2)\n",
        "\n",
        "    def forward(self, node_feature, edge_index):\n",
        "\n",
        "        output1 = self.relu(self.conv1(node_feature, edge_index))\n",
        "        # output1 = self.norm1(output1)\n",
        "        output2 = self.relu(self.conv2(output1, edge_index))\n",
        "        # output2 = self.norm2(output2)\n",
        "        output3 = self.conv3(output2, edge_index)\n",
        "        output_res = self.res(node_feature)\n",
        "        return (output3 + output_res) * 0.5\n",
        "\n",
        "class GAT(torch.nn.Module):\n",
        "    def __init__(self, in_channels, hidden_channels, out_channels):\n",
        "        super().__init__()\n",
        "\n",
        "        self.relu = torch.nn.ReLU()\n",
        "        self.conv1 = GATConv(in_channels, hidden_channels, add_self_loops=False)\n",
        "        self.conv2 = GATConv(hidden_channels, hidden_channels, add_self_loops=False)\n",
        "        self.conv3 = GATConv(hidden_channels, out_channels, add_self_loops=False)\n",
        "\n",
        "    def forward(self, node_feature, edge_index):\n",
        "\n",
        "        output1 = self.relu(self.conv1(node_feature, edge_index))\n",
        "        output2 = self.relu(self.conv2(output1, edge_index))\n",
        "        output = self.conv3(output2, edge_index)\n",
        "        return output\n",
        "\n",
        "class GAT_RES(torch.nn.Module):\n",
        "    def __init__(self, in_channels, hidden_channels, out_channels):\n",
        "        super().__init__()\n",
        "\n",
        "        self.relu = torch.nn.ReLU()\n",
        "        self.conv1 = GATConv(in_channels, hidden_channels, add_self_loops=False)\n",
        "        self.conv2 = GATConv(hidden_channels, hidden_channels, add_self_loops=False)\n",
        "        self.conv3 = GATConv(hidden_channels, out_channels, add_self_loops=False)\n",
        "        self.res = torch.nn.Linear(in_channels, out_channels)\n",
        "\n",
        "    def forward(self, node_feature, edge_index):\n",
        "\n",
        "        output1 = self.relu(self.conv1(node_feature, edge_index))\n",
        "        output2 = self.relu(self.conv2(output1, edge_index))\n",
        "        output3 = self.conv3(output2, edge_index)\n",
        "        output_res = self.res(node_feature)\n",
        "        return (output3 + output_res) * 0.5\n",
        "\n",
        "class Embedder(torch.nn.Module):\n",
        "    def __init__(self, in_channels, hidden_channels, out_channels):\n",
        "        super().__init__()\n",
        "        # Embedding dim (in_channels): 20\n",
        "        proteins = biokg[\"protein\"]\n",
        "        functions = biokg[\"function\"]\n",
        "        self.sage = SAGE(in_channels, hidden_channels, out_channels)\n",
        "        self.sage = to_hetero(self.sage, metadata=biokg.metadata())\n",
        "        self.sage_res = SAGE_RES(in_channels, hidden_channels, out_channels)\n",
        "        self.sage_res = to_hetero(self.sage_res, metadata=biokg.metadata())\n",
        "        self.gat = GAT(in_channels, hidden_channels, out_channels)\n",
        "        self.gat = to_hetero(self.gat, metadata=biokg.metadata())\n",
        "        self.gat_res = GAT_RES(in_channels, hidden_channels, out_channels)\n",
        "        self.gat_res = to_hetero(self.gat_res, metadata=biokg.metadata())\n",
        "\n",
        "        self.emb_tr_protein = Embedding(proteins.num_nodes, in_channels)\n",
        "        self.emb_tr_function = Embedding(functions.num_nodes, in_channels)\n",
        "\n",
        "        self.gnn = self.gat_res\n",
        "\n",
        "    def forward(self, hetero_data):\n",
        "        features = {\n",
        "            \"protein\": self.emb_tr_function(torch.arange(biokg[\"protein\"].num_nodes)),\n",
        "            \"function\": self.emb_tr_function(torch.arange(biokg[\"function\"].num_nodes))\n",
        "        }\n",
        "        embeddings = self.gnn(features, hetero_data.edge_index_dict)\n",
        "        return embeddings"
      ]
    },
    {
      "cell_type": "code",
      "execution_count": 18,
      "metadata": {
        "id": "8msvKiiGVA41"
      },
      "outputs": [],
      "source": [
        "def calc_emb_similarity(node_embs, edge_index, method=\"cosine\"):\n",
        "    if method == \"cosine\":\n",
        "        return torch.sum(node_embs[\"protein\"][edge_index[0]] * node_embs[\"function\"][edge_index[1]], 1)"
      ]
    },
    {
      "cell_type": "code",
      "execution_count": 19,
      "metadata": {
        "colab": {
          "base_uri": "https://localhost:8080/"
        },
        "id": "VWJnR0mfKtl8",
        "outputId": "1d7de651-b095-4b13-eee1-a8ec702b490c"
      },
      "outputs": [
        {
          "name": "stderr",
          "output_type": "stream",
          "text": [
            "/usr/local/lib/python3.10/dist-packages/torch_geometric/sampler/neighbor_sampler.py:60: UserWarning: Using 'NeighborSampler' without a 'pyg-lib' installation is deprecated and will be removed soon. Please install 'pyg-lib' for accelerated neighborhood sampling\n",
            "  warnings.warn(f\"Using '{self.__class__.__name__}' without a \"\n"
          ]
        }
      ],
      "source": [
        "from torch_geometric.loader import LinkNeighborLoader\n",
        "train_loader = LinkNeighborLoader(\n",
        "    data=train_data,\n",
        "    num_neighbors=[40, 20, 10],\n",
        "    neg_sampling=\"binary\",\n",
        "    neg_sampling_ratio=1.0,\n",
        "    edge_label_index=(relation_focus, train_data[relation_focus].edge_label_index),\n",
        "    edge_label=train_data[relation_focus].edge_label,\n",
        "    batch_size=256,\n",
        "    shuffle=True\n",
        ")"
      ]
    },
    {
      "cell_type": "code",
      "execution_count": 20,
      "metadata": {
        "id": "_oilXQ9CbGqX"
      },
      "outputs": [],
      "source": [
        "from tqdm import tqdm\n",
        "from torch_geometric.utils import negative_sampling\n",
        "\n",
        "def train(model, dataloader, optimizer, loss_fn):\n",
        "    correct_count = 0\n",
        "    all_count = 0\n",
        "    loss = 0\n",
        "    model.train()\n",
        "    for batch in tqdm(dataloader):\n",
        "        optimizer.zero_grad()\n",
        "\n",
        "        node_embeddings = model(batch)\n",
        "\n",
        "        \"\"\"\n",
        "        neg_edge_index = negative_sampling(\n",
        "            edge_index=batch[edge_types[0]].edge_index,\n",
        "            num_nodes=batch.num_nodes,\n",
        "            num_neg_samples=batch[edge_types[0]].edge_label.shape\n",
        "        )\n",
        "\n",
        "        edges_all = torch.cat((batch[edge_types[0]].edge_label_index, neg_edge_index), dim=1)\n",
        "        labels_all = torch.cat((batch[edge_types[0]].edge_label, torch.zeros(batch[edge_types[0]].edge_label.shape)), dim=0)\n",
        "        \"\"\"\n",
        "\n",
        "        labels = batch[relation_focus].edge_label\n",
        "        similarities = calc_emb_similarity(node_embeddings, batch[relation_focus].edge_label_index)\n",
        "        predictions = similarities.sigmoid() > 0.5\n",
        "        correct_count += torch.sum(predictions == labels)\n",
        "        all_count += len(labels)\n",
        "\n",
        "        loss = loss_fn(similarities, labels)\n",
        "        loss.backward()\n",
        "        optimizer.step()\n",
        "    return model, (float(correct_count) / float(all_count))\n"
      ]
    },
    {
      "cell_type": "code",
      "execution_count": 21,
      "metadata": {
        "id": "ZwXXNeJ7hRwu"
      },
      "outputs": [],
      "source": [
        "from sklearn.metrics import roc_auc_score\n",
        "\n",
        "@torch.no_grad()\n",
        "def test(model, hetero_data):\n",
        "    model.eval()\n",
        "    node_embs = model(hetero_data)\n",
        "    node_embs = calc_emb_similarity(node_embs, hetero_data[relation_focus].edge_label_index).view(-1).sigmoid()\n",
        "    return roc_auc_score(hetero_data[relation_focus].edge_label.cpu().numpy(), node_embs.cpu().numpy())"
      ]
    },
    {
      "cell_type": "code",
      "execution_count": 24,
      "metadata": {
        "id": "BFABLk64GoJu"
      },
      "outputs": [],
      "source": [
        "model = Embedder(in_channels=20, hidden_channels=128, out_channels=64)\n",
        "optimizer = torch.optim.Adam(params=model.parameters(), lr=1e-2)\n",
        "loss_fn = torch.nn.BCEWithLogitsLoss()\n",
        "# print(model)"
      ]
    },
    {
      "cell_type": "code",
      "execution_count": 25,
      "metadata": {
        "colab": {
          "base_uri": "https://localhost:8080/",
          "height": 529
        },
        "id": "BUhIZHoRhJTk",
        "outputId": "0b516715-9a91-40cc-dfa1-672e09351559"
      },
      "outputs": [
        {
          "name": "stderr",
          "output_type": "stream",
          "text": [
            "  0%|          | 0/517 [00:01<?, ?it/s]\n"
          ]
        },
        {
          "ename": "AttributeError",
          "evalue": "ignored",
          "output_type": "error",
          "traceback": [
            "\u001b[0;31m---------------------------------------------------------------------------\u001b[0m",
            "\u001b[0;31mAttributeError\u001b[0m                            Traceback (most recent call last)",
            "\u001b[0;32m<ipython-input-25-f459d13a0472>\u001b[0m in \u001b[0;36m<cell line: 2>\u001b[0;34m()\u001b[0m\n\u001b[1;32m      1\u001b[0m \u001b[0mepochs\u001b[0m \u001b[0;34m=\u001b[0m \u001b[0;36m10\u001b[0m\u001b[0;34m\u001b[0m\u001b[0;34m\u001b[0m\u001b[0m\n\u001b[1;32m      2\u001b[0m \u001b[0;32mfor\u001b[0m \u001b[0mepoch\u001b[0m \u001b[0;32min\u001b[0m \u001b[0mrange\u001b[0m\u001b[0;34m(\u001b[0m\u001b[0;36m1\u001b[0m\u001b[0;34m,\u001b[0m \u001b[0mepochs\u001b[0m \u001b[0;34m+\u001b[0m \u001b[0;36m1\u001b[0m\u001b[0;34m)\u001b[0m\u001b[0;34m:\u001b[0m\u001b[0;34m\u001b[0m\u001b[0;34m\u001b[0m\u001b[0m\n\u001b[0;32m----> 3\u001b[0;31m     \u001b[0mmodel\u001b[0m\u001b[0;34m,\u001b[0m \u001b[0macc\u001b[0m \u001b[0;34m=\u001b[0m \u001b[0mtrain\u001b[0m\u001b[0;34m(\u001b[0m\u001b[0mmodel\u001b[0m\u001b[0;34m,\u001b[0m \u001b[0mtrain_loader\u001b[0m\u001b[0;34m,\u001b[0m \u001b[0moptimizer\u001b[0m\u001b[0;34m,\u001b[0m \u001b[0mloss_fn\u001b[0m\u001b[0;34m)\u001b[0m\u001b[0;34m\u001b[0m\u001b[0;34m\u001b[0m\u001b[0m\n\u001b[0m\u001b[1;32m      4\u001b[0m     \u001b[0mval_auc\u001b[0m \u001b[0;34m=\u001b[0m \u001b[0mtest\u001b[0m\u001b[0;34m(\u001b[0m\u001b[0mmodel\u001b[0m\u001b[0;34m,\u001b[0m \u001b[0mval_data\u001b[0m\u001b[0;34m)\u001b[0m\u001b[0;34m\u001b[0m\u001b[0;34m\u001b[0m\u001b[0m\n\u001b[1;32m      5\u001b[0m     \u001b[0mtest_auc\u001b[0m \u001b[0;34m=\u001b[0m \u001b[0mtest\u001b[0m\u001b[0;34m(\u001b[0m\u001b[0mmodel\u001b[0m\u001b[0;34m,\u001b[0m \u001b[0mtest_data\u001b[0m\u001b[0;34m)\u001b[0m\u001b[0;34m\u001b[0m\u001b[0;34m\u001b[0m\u001b[0m\n",
            "\u001b[0;32m<ipython-input-20-6623bf9bcb1b>\u001b[0m in \u001b[0;36mtrain\u001b[0;34m(model, dataloader, optimizer, loss_fn)\u001b[0m\n\u001b[1;32m     10\u001b[0m         \u001b[0moptimizer\u001b[0m\u001b[0;34m.\u001b[0m\u001b[0mzero_grad\u001b[0m\u001b[0;34m(\u001b[0m\u001b[0;34m)\u001b[0m\u001b[0;34m\u001b[0m\u001b[0;34m\u001b[0m\u001b[0m\n\u001b[1;32m     11\u001b[0m \u001b[0;34m\u001b[0m\u001b[0m\n\u001b[0;32m---> 12\u001b[0;31m         \u001b[0mnode_embeddings\u001b[0m \u001b[0;34m=\u001b[0m \u001b[0mmodel\u001b[0m\u001b[0;34m(\u001b[0m\u001b[0mbatch\u001b[0m\u001b[0;34m)\u001b[0m\u001b[0;34m\u001b[0m\u001b[0;34m\u001b[0m\u001b[0m\n\u001b[0m\u001b[1;32m     13\u001b[0m \u001b[0;34m\u001b[0m\u001b[0m\n\u001b[1;32m     14\u001b[0m         \"\"\"\n",
            "\u001b[0;32m/usr/local/lib/python3.10/dist-packages/torch/nn/modules/module.py\u001b[0m in \u001b[0;36m_wrapped_call_impl\u001b[0;34m(self, *args, **kwargs)\u001b[0m\n\u001b[1;32m   1516\u001b[0m             \u001b[0;32mreturn\u001b[0m \u001b[0mself\u001b[0m\u001b[0;34m.\u001b[0m\u001b[0m_compiled_call_impl\u001b[0m\u001b[0;34m(\u001b[0m\u001b[0;34m*\u001b[0m\u001b[0margs\u001b[0m\u001b[0;34m,\u001b[0m \u001b[0;34m**\u001b[0m\u001b[0mkwargs\u001b[0m\u001b[0;34m)\u001b[0m  \u001b[0;31m# type: ignore[misc]\u001b[0m\u001b[0;34m\u001b[0m\u001b[0;34m\u001b[0m\u001b[0m\n\u001b[1;32m   1517\u001b[0m         \u001b[0;32melse\u001b[0m\u001b[0;34m:\u001b[0m\u001b[0;34m\u001b[0m\u001b[0;34m\u001b[0m\u001b[0m\n\u001b[0;32m-> 1518\u001b[0;31m             \u001b[0;32mreturn\u001b[0m \u001b[0mself\u001b[0m\u001b[0;34m.\u001b[0m\u001b[0m_call_impl\u001b[0m\u001b[0;34m(\u001b[0m\u001b[0;34m*\u001b[0m\u001b[0margs\u001b[0m\u001b[0;34m,\u001b[0m \u001b[0;34m**\u001b[0m\u001b[0mkwargs\u001b[0m\u001b[0;34m)\u001b[0m\u001b[0;34m\u001b[0m\u001b[0;34m\u001b[0m\u001b[0m\n\u001b[0m\u001b[1;32m   1519\u001b[0m \u001b[0;34m\u001b[0m\u001b[0m\n\u001b[1;32m   1520\u001b[0m     \u001b[0;32mdef\u001b[0m \u001b[0m_call_impl\u001b[0m\u001b[0;34m(\u001b[0m\u001b[0mself\u001b[0m\u001b[0;34m,\u001b[0m \u001b[0;34m*\u001b[0m\u001b[0margs\u001b[0m\u001b[0;34m,\u001b[0m \u001b[0;34m**\u001b[0m\u001b[0mkwargs\u001b[0m\u001b[0;34m)\u001b[0m\u001b[0;34m:\u001b[0m\u001b[0;34m\u001b[0m\u001b[0;34m\u001b[0m\u001b[0m\n",
            "\u001b[0;32m/usr/local/lib/python3.10/dist-packages/torch/nn/modules/module.py\u001b[0m in \u001b[0;36m_call_impl\u001b[0;34m(self, *args, **kwargs)\u001b[0m\n\u001b[1;32m   1525\u001b[0m                 \u001b[0;32mor\u001b[0m \u001b[0m_global_backward_pre_hooks\u001b[0m \u001b[0;32mor\u001b[0m \u001b[0m_global_backward_hooks\u001b[0m\u001b[0;34m\u001b[0m\u001b[0;34m\u001b[0m\u001b[0m\n\u001b[1;32m   1526\u001b[0m                 or _global_forward_hooks or _global_forward_pre_hooks):\n\u001b[0;32m-> 1527\u001b[0;31m             \u001b[0;32mreturn\u001b[0m \u001b[0mforward_call\u001b[0m\u001b[0;34m(\u001b[0m\u001b[0;34m*\u001b[0m\u001b[0margs\u001b[0m\u001b[0;34m,\u001b[0m \u001b[0;34m**\u001b[0m\u001b[0mkwargs\u001b[0m\u001b[0;34m)\u001b[0m\u001b[0;34m\u001b[0m\u001b[0;34m\u001b[0m\u001b[0m\n\u001b[0m\u001b[1;32m   1528\u001b[0m \u001b[0;34m\u001b[0m\u001b[0m\n\u001b[1;32m   1529\u001b[0m         \u001b[0;32mtry\u001b[0m\u001b[0;34m:\u001b[0m\u001b[0;34m\u001b[0m\u001b[0;34m\u001b[0m\u001b[0m\n",
            "\u001b[0;32m<ipython-input-17-7725b8062f5c>\u001b[0m in \u001b[0;36mforward\u001b[0;34m(self, hetero_data)\u001b[0m\n\u001b[1;32m    104\u001b[0m             \u001b[0;34m\"function\"\u001b[0m\u001b[0;34m:\u001b[0m \u001b[0mself\u001b[0m\u001b[0;34m.\u001b[0m\u001b[0memb_tr_function\u001b[0m\u001b[0;34m(\u001b[0m\u001b[0mtorch\u001b[0m\u001b[0;34m.\u001b[0m\u001b[0marange\u001b[0m\u001b[0;34m(\u001b[0m\u001b[0mbiokg\u001b[0m\u001b[0;34m[\u001b[0m\u001b[0;34m\"function\"\u001b[0m\u001b[0;34m]\u001b[0m\u001b[0;34m.\u001b[0m\u001b[0mnum_nodes\u001b[0m\u001b[0;34m)\u001b[0m\u001b[0;34m)\u001b[0m\u001b[0;34m\u001b[0m\u001b[0;34m\u001b[0m\u001b[0m\n\u001b[1;32m    105\u001b[0m         }\n\u001b[0;32m--> 106\u001b[0;31m         \u001b[0membeddings\u001b[0m \u001b[0;34m=\u001b[0m \u001b[0mself\u001b[0m\u001b[0;34m.\u001b[0m\u001b[0mgnn\u001b[0m\u001b[0;34m(\u001b[0m\u001b[0mfeatures\u001b[0m\u001b[0;34m,\u001b[0m \u001b[0mhetero_data\u001b[0m\u001b[0;34m.\u001b[0m\u001b[0medge_index_dict\u001b[0m\u001b[0;34m)\u001b[0m\u001b[0;34m\u001b[0m\u001b[0;34m\u001b[0m\u001b[0m\n\u001b[0m\u001b[1;32m    107\u001b[0m         \u001b[0;32mreturn\u001b[0m \u001b[0membeddings\u001b[0m\u001b[0;34m\u001b[0m\u001b[0;34m\u001b[0m\u001b[0m\n",
            "\u001b[0;32m/usr/local/lib/python3.10/dist-packages/torch/fx/graph_module.py\u001b[0m in \u001b[0;36mcall_wrapped\u001b[0;34m(self, *args, **kwargs)\u001b[0m\n\u001b[1;32m    676\u001b[0m \u001b[0;34m\u001b[0m\u001b[0m\n\u001b[1;32m    677\u001b[0m         \u001b[0;32mdef\u001b[0m \u001b[0mcall_wrapped\u001b[0m\u001b[0;34m(\u001b[0m\u001b[0mself\u001b[0m\u001b[0;34m,\u001b[0m \u001b[0;34m*\u001b[0m\u001b[0margs\u001b[0m\u001b[0;34m,\u001b[0m \u001b[0;34m**\u001b[0m\u001b[0mkwargs\u001b[0m\u001b[0;34m)\u001b[0m\u001b[0;34m:\u001b[0m\u001b[0;34m\u001b[0m\u001b[0;34m\u001b[0m\u001b[0m\n\u001b[0;32m--> 678\u001b[0;31m             \u001b[0;32mreturn\u001b[0m \u001b[0mself\u001b[0m\u001b[0;34m.\u001b[0m\u001b[0m_wrapped_call\u001b[0m\u001b[0;34m(\u001b[0m\u001b[0mself\u001b[0m\u001b[0;34m,\u001b[0m \u001b[0;34m*\u001b[0m\u001b[0margs\u001b[0m\u001b[0;34m,\u001b[0m \u001b[0;34m**\u001b[0m\u001b[0mkwargs\u001b[0m\u001b[0;34m)\u001b[0m\u001b[0;34m\u001b[0m\u001b[0;34m\u001b[0m\u001b[0m\n\u001b[0m\u001b[1;32m    679\u001b[0m \u001b[0;34m\u001b[0m\u001b[0m\n\u001b[1;32m    680\u001b[0m         \u001b[0mcls\u001b[0m\u001b[0;34m.\u001b[0m\u001b[0m__call__\u001b[0m \u001b[0;34m=\u001b[0m \u001b[0mcall_wrapped\u001b[0m\u001b[0;34m\u001b[0m\u001b[0;34m\u001b[0m\u001b[0m\n",
            "\u001b[0;32m/usr/local/lib/python3.10/dist-packages/torch/fx/graph_module.py\u001b[0m in \u001b[0;36m__call__\u001b[0;34m(self, obj, *args, **kwargs)\u001b[0m\n\u001b[1;32m    282\u001b[0m                 \u001b[0;32mraise\u001b[0m \u001b[0me\u001b[0m\u001b[0;34m.\u001b[0m\u001b[0mwith_traceback\u001b[0m\u001b[0;34m(\u001b[0m\u001b[0;32mNone\u001b[0m\u001b[0;34m)\u001b[0m\u001b[0;34m\u001b[0m\u001b[0;34m\u001b[0m\u001b[0m\n\u001b[1;32m    283\u001b[0m             \u001b[0;32melse\u001b[0m\u001b[0;34m:\u001b[0m\u001b[0;34m\u001b[0m\u001b[0;34m\u001b[0m\u001b[0m\n\u001b[0;32m--> 284\u001b[0;31m                 \u001b[0;32mraise\u001b[0m \u001b[0me\u001b[0m\u001b[0;34m\u001b[0m\u001b[0;34m\u001b[0m\u001b[0m\n\u001b[0m\u001b[1;32m    285\u001b[0m \u001b[0;34m\u001b[0m\u001b[0m\n\u001b[1;32m    286\u001b[0m \u001b[0;34m@\u001b[0m\u001b[0mcompatibility\u001b[0m\u001b[0;34m(\u001b[0m\u001b[0mis_backward_compatible\u001b[0m\u001b[0;34m=\u001b[0m\u001b[0;32mTrue\u001b[0m\u001b[0;34m)\u001b[0m\u001b[0;34m\u001b[0m\u001b[0;34m\u001b[0m\u001b[0m\n",
            "\u001b[0;32m/usr/local/lib/python3.10/dist-packages/torch/fx/graph_module.py\u001b[0m in \u001b[0;36m__call__\u001b[0;34m(self, obj, *args, **kwargs)\u001b[0m\n\u001b[1;32m    272\u001b[0m                 \u001b[0;32mreturn\u001b[0m \u001b[0mself\u001b[0m\u001b[0;34m.\u001b[0m\u001b[0mcls_call\u001b[0m\u001b[0;34m(\u001b[0m\u001b[0mobj\u001b[0m\u001b[0;34m,\u001b[0m \u001b[0;34m*\u001b[0m\u001b[0margs\u001b[0m\u001b[0;34m,\u001b[0m \u001b[0;34m**\u001b[0m\u001b[0mkwargs\u001b[0m\u001b[0;34m)\u001b[0m\u001b[0;34m\u001b[0m\u001b[0;34m\u001b[0m\u001b[0m\n\u001b[1;32m    273\u001b[0m             \u001b[0;32melse\u001b[0m\u001b[0;34m:\u001b[0m\u001b[0;34m\u001b[0m\u001b[0;34m\u001b[0m\u001b[0m\n\u001b[0;32m--> 274\u001b[0;31m                 \u001b[0;32mreturn\u001b[0m \u001b[0msuper\u001b[0m\u001b[0;34m(\u001b[0m\u001b[0mself\u001b[0m\u001b[0;34m.\u001b[0m\u001b[0mcls\u001b[0m\u001b[0;34m,\u001b[0m \u001b[0mobj\u001b[0m\u001b[0;34m)\u001b[0m\u001b[0;34m.\u001b[0m\u001b[0m__call__\u001b[0m\u001b[0;34m(\u001b[0m\u001b[0;34m*\u001b[0m\u001b[0margs\u001b[0m\u001b[0;34m,\u001b[0m \u001b[0;34m**\u001b[0m\u001b[0mkwargs\u001b[0m\u001b[0;34m)\u001b[0m  \u001b[0;31m# type: ignore[misc]\u001b[0m\u001b[0;34m\u001b[0m\u001b[0;34m\u001b[0m\u001b[0m\n\u001b[0m\u001b[1;32m    275\u001b[0m         \u001b[0;32mexcept\u001b[0m \u001b[0mException\u001b[0m \u001b[0;32mas\u001b[0m \u001b[0me\u001b[0m\u001b[0;34m:\u001b[0m\u001b[0;34m\u001b[0m\u001b[0;34m\u001b[0m\u001b[0m\n\u001b[1;32m    276\u001b[0m             \u001b[0;32massert\u001b[0m \u001b[0me\u001b[0m\u001b[0;34m.\u001b[0m\u001b[0m__traceback__\u001b[0m\u001b[0;34m\u001b[0m\u001b[0;34m\u001b[0m\u001b[0m\n",
            "\u001b[0;32m/usr/local/lib/python3.10/dist-packages/torch/nn/modules/module.py\u001b[0m in \u001b[0;36m_wrapped_call_impl\u001b[0;34m(self, *args, **kwargs)\u001b[0m\n\u001b[1;32m   1516\u001b[0m             \u001b[0;32mreturn\u001b[0m \u001b[0mself\u001b[0m\u001b[0;34m.\u001b[0m\u001b[0m_compiled_call_impl\u001b[0m\u001b[0;34m(\u001b[0m\u001b[0;34m*\u001b[0m\u001b[0margs\u001b[0m\u001b[0;34m,\u001b[0m \u001b[0;34m**\u001b[0m\u001b[0mkwargs\u001b[0m\u001b[0;34m)\u001b[0m  \u001b[0;31m# type: ignore[misc]\u001b[0m\u001b[0;34m\u001b[0m\u001b[0;34m\u001b[0m\u001b[0m\n\u001b[1;32m   1517\u001b[0m         \u001b[0;32melse\u001b[0m\u001b[0;34m:\u001b[0m\u001b[0;34m\u001b[0m\u001b[0;34m\u001b[0m\u001b[0m\n\u001b[0;32m-> 1518\u001b[0;31m             \u001b[0;32mreturn\u001b[0m \u001b[0mself\u001b[0m\u001b[0;34m.\u001b[0m\u001b[0m_call_impl\u001b[0m\u001b[0;34m(\u001b[0m\u001b[0;34m*\u001b[0m\u001b[0margs\u001b[0m\u001b[0;34m,\u001b[0m \u001b[0;34m**\u001b[0m\u001b[0mkwargs\u001b[0m\u001b[0;34m)\u001b[0m\u001b[0;34m\u001b[0m\u001b[0;34m\u001b[0m\u001b[0m\n\u001b[0m\u001b[1;32m   1519\u001b[0m \u001b[0;34m\u001b[0m\u001b[0m\n\u001b[1;32m   1520\u001b[0m     \u001b[0;32mdef\u001b[0m \u001b[0m_call_impl\u001b[0m\u001b[0;34m(\u001b[0m\u001b[0mself\u001b[0m\u001b[0;34m,\u001b[0m \u001b[0;34m*\u001b[0m\u001b[0margs\u001b[0m\u001b[0;34m,\u001b[0m \u001b[0;34m**\u001b[0m\u001b[0mkwargs\u001b[0m\u001b[0;34m)\u001b[0m\u001b[0;34m:\u001b[0m\u001b[0;34m\u001b[0m\u001b[0;34m\u001b[0m\u001b[0m\n",
            "\u001b[0;32m/usr/local/lib/python3.10/dist-packages/torch/nn/modules/module.py\u001b[0m in \u001b[0;36m_call_impl\u001b[0;34m(self, *args, **kwargs)\u001b[0m\n\u001b[1;32m   1525\u001b[0m                 \u001b[0;32mor\u001b[0m \u001b[0m_global_backward_pre_hooks\u001b[0m \u001b[0;32mor\u001b[0m \u001b[0m_global_backward_hooks\u001b[0m\u001b[0;34m\u001b[0m\u001b[0;34m\u001b[0m\u001b[0m\n\u001b[1;32m   1526\u001b[0m                 or _global_forward_hooks or _global_forward_pre_hooks):\n\u001b[0;32m-> 1527\u001b[0;31m             \u001b[0;32mreturn\u001b[0m \u001b[0mforward_call\u001b[0m\u001b[0;34m(\u001b[0m\u001b[0;34m*\u001b[0m\u001b[0margs\u001b[0m\u001b[0;34m,\u001b[0m \u001b[0;34m**\u001b[0m\u001b[0mkwargs\u001b[0m\u001b[0;34m)\u001b[0m\u001b[0;34m\u001b[0m\u001b[0;34m\u001b[0m\u001b[0m\n\u001b[0m\u001b[1;32m   1528\u001b[0m \u001b[0;34m\u001b[0m\u001b[0m\n\u001b[1;32m   1529\u001b[0m         \u001b[0;32mtry\u001b[0m\u001b[0;34m:\u001b[0m\u001b[0;34m\u001b[0m\u001b[0;34m\u001b[0m\u001b[0m\n",
            "\u001b[0;32m<eval_with_key>.15\u001b[0m in \u001b[0;36mforward\u001b[0;34m(self, node_feature, edge_index)\u001b[0m\n\u001b[1;32m     61\u001b[0m     \u001b[0medge_index__protein__protein_protein_ptmod__protein\u001b[0m \u001b[0;34m=\u001b[0m \u001b[0medge_index_dict\u001b[0m\u001b[0;34m.\u001b[0m\u001b[0mget\u001b[0m\u001b[0;34m(\u001b[0m\u001b[0;34m(\u001b[0m\u001b[0;34m'protein'\u001b[0m\u001b[0;34m,\u001b[0m \u001b[0;34m'protein-protein_ptmod'\u001b[0m\u001b[0;34m,\u001b[0m \u001b[0;34m'protein'\u001b[0m\u001b[0;34m)\u001b[0m\u001b[0;34m,\u001b[0m \u001b[0;32mNone\u001b[0m\u001b[0;34m)\u001b[0m\u001b[0;34m\u001b[0m\u001b[0;34m\u001b[0m\u001b[0m\n\u001b[1;32m     62\u001b[0m     \u001b[0medge_index__protein__protein_protein_reaction__protein\u001b[0m \u001b[0;34m=\u001b[0m \u001b[0medge_index_dict\u001b[0m\u001b[0;34m.\u001b[0m\u001b[0mget\u001b[0m\u001b[0;34m(\u001b[0m\u001b[0;34m(\u001b[0m\u001b[0;34m'protein'\u001b[0m\u001b[0;34m,\u001b[0m \u001b[0;34m'protein-protein_reaction'\u001b[0m\u001b[0;34m,\u001b[0m \u001b[0;34m'protein'\u001b[0m\u001b[0;34m)\u001b[0m\u001b[0;34m,\u001b[0m \u001b[0;32mNone\u001b[0m\u001b[0;34m)\u001b[0m\u001b[0;34m;\u001b[0m  \u001b[0medge_index_dict\u001b[0m \u001b[0;34m=\u001b[0m \u001b[0;32mNone\u001b[0m\u001b[0;34m\u001b[0m\u001b[0;34m\u001b[0m\u001b[0m\n\u001b[0;32m---> 63\u001b[0;31m     \u001b[0mconv1__protein1\u001b[0m \u001b[0;34m=\u001b[0m \u001b[0mself\u001b[0m\u001b[0;34m.\u001b[0m\u001b[0mconv1\u001b[0m\u001b[0;34m.\u001b[0m\u001b[0mdisease__disease_protein__protein\u001b[0m\u001b[0;34m(\u001b[0m\u001b[0;34m(\u001b[0m\u001b[0mnode_feature__disease\u001b[0m\u001b[0;34m,\u001b[0m \u001b[0mnode_feature__protein\u001b[0m\u001b[0;34m)\u001b[0m\u001b[0;34m,\u001b[0m \u001b[0medge_index__disease__disease_protein__protein\u001b[0m\u001b[0;34m)\u001b[0m\u001b[0;34m\u001b[0m\u001b[0;34m\u001b[0m\u001b[0m\n\u001b[0m\u001b[1;32m     64\u001b[0m     \u001b[0mconv1__disease\u001b[0m \u001b[0;34m=\u001b[0m \u001b[0mself\u001b[0m\u001b[0;34m.\u001b[0m\u001b[0mconv1\u001b[0m\u001b[0;34m.\u001b[0m\u001b[0mdrug__drug_disease__disease\u001b[0m\u001b[0;34m(\u001b[0m\u001b[0;34m(\u001b[0m\u001b[0mnode_feature__drug\u001b[0m\u001b[0;34m,\u001b[0m \u001b[0mnode_feature__disease\u001b[0m\u001b[0;34m)\u001b[0m\u001b[0;34m,\u001b[0m \u001b[0medge_index__drug__drug_disease__disease\u001b[0m\u001b[0;34m)\u001b[0m\u001b[0;34m\u001b[0m\u001b[0;34m\u001b[0m\u001b[0m\n\u001b[1;32m     65\u001b[0m     \u001b[0mconv1__drug1\u001b[0m \u001b[0;34m=\u001b[0m \u001b[0mself\u001b[0m\u001b[0;34m.\u001b[0m\u001b[0mconv1\u001b[0m\u001b[0;34m.\u001b[0m\u001b[0mdrug__drug_drug_acquired_metabolic_disease__drug\u001b[0m\u001b[0;34m(\u001b[0m\u001b[0mnode_feature__drug\u001b[0m\u001b[0;34m,\u001b[0m \u001b[0medge_index__drug__drug_drug_acquired_metabolic_disease__drug\u001b[0m\u001b[0;34m)\u001b[0m\u001b[0;34m\u001b[0m\u001b[0;34m\u001b[0m\u001b[0m\n",
            "\u001b[0;32m/usr/local/lib/python3.10/dist-packages/torch/nn/modules/module.py\u001b[0m in \u001b[0;36m_wrapped_call_impl\u001b[0;34m(self, *args, **kwargs)\u001b[0m\n\u001b[1;32m   1516\u001b[0m             \u001b[0;32mreturn\u001b[0m \u001b[0mself\u001b[0m\u001b[0;34m.\u001b[0m\u001b[0m_compiled_call_impl\u001b[0m\u001b[0;34m(\u001b[0m\u001b[0;34m*\u001b[0m\u001b[0margs\u001b[0m\u001b[0;34m,\u001b[0m \u001b[0;34m**\u001b[0m\u001b[0mkwargs\u001b[0m\u001b[0;34m)\u001b[0m  \u001b[0;31m# type: ignore[misc]\u001b[0m\u001b[0;34m\u001b[0m\u001b[0;34m\u001b[0m\u001b[0m\n\u001b[1;32m   1517\u001b[0m         \u001b[0;32melse\u001b[0m\u001b[0;34m:\u001b[0m\u001b[0;34m\u001b[0m\u001b[0;34m\u001b[0m\u001b[0m\n\u001b[0;32m-> 1518\u001b[0;31m             \u001b[0;32mreturn\u001b[0m \u001b[0mself\u001b[0m\u001b[0;34m.\u001b[0m\u001b[0m_call_impl\u001b[0m\u001b[0;34m(\u001b[0m\u001b[0;34m*\u001b[0m\u001b[0margs\u001b[0m\u001b[0;34m,\u001b[0m \u001b[0;34m**\u001b[0m\u001b[0mkwargs\u001b[0m\u001b[0;34m)\u001b[0m\u001b[0;34m\u001b[0m\u001b[0;34m\u001b[0m\u001b[0m\n\u001b[0m\u001b[1;32m   1519\u001b[0m \u001b[0;34m\u001b[0m\u001b[0m\n\u001b[1;32m   1520\u001b[0m     \u001b[0;32mdef\u001b[0m \u001b[0m_call_impl\u001b[0m\u001b[0;34m(\u001b[0m\u001b[0mself\u001b[0m\u001b[0;34m,\u001b[0m \u001b[0;34m*\u001b[0m\u001b[0margs\u001b[0m\u001b[0;34m,\u001b[0m \u001b[0;34m**\u001b[0m\u001b[0mkwargs\u001b[0m\u001b[0;34m)\u001b[0m\u001b[0;34m:\u001b[0m\u001b[0;34m\u001b[0m\u001b[0;34m\u001b[0m\u001b[0m\n",
            "\u001b[0;32m/usr/local/lib/python3.10/dist-packages/torch/nn/modules/module.py\u001b[0m in \u001b[0;36m_call_impl\u001b[0;34m(self, *args, **kwargs)\u001b[0m\n\u001b[1;32m   1525\u001b[0m                 \u001b[0;32mor\u001b[0m \u001b[0m_global_backward_pre_hooks\u001b[0m \u001b[0;32mor\u001b[0m \u001b[0m_global_backward_hooks\u001b[0m\u001b[0;34m\u001b[0m\u001b[0;34m\u001b[0m\u001b[0m\n\u001b[1;32m   1526\u001b[0m                 or _global_forward_hooks or _global_forward_pre_hooks):\n\u001b[0;32m-> 1527\u001b[0;31m             \u001b[0;32mreturn\u001b[0m \u001b[0mforward_call\u001b[0m\u001b[0;34m(\u001b[0m\u001b[0;34m*\u001b[0m\u001b[0margs\u001b[0m\u001b[0;34m,\u001b[0m \u001b[0;34m**\u001b[0m\u001b[0mkwargs\u001b[0m\u001b[0;34m)\u001b[0m\u001b[0;34m\u001b[0m\u001b[0;34m\u001b[0m\u001b[0m\n\u001b[0m\u001b[1;32m   1528\u001b[0m \u001b[0;34m\u001b[0m\u001b[0m\n\u001b[1;32m   1529\u001b[0m         \u001b[0;32mtry\u001b[0m\u001b[0;34m:\u001b[0m\u001b[0;34m\u001b[0m\u001b[0;34m\u001b[0m\u001b[0m\n",
            "\u001b[0;32m/usr/local/lib/python3.10/dist-packages/torch_geometric/nn/conv/gat_conv.py\u001b[0m in \u001b[0;36mforward\u001b[0;34m(self, x, edge_index, edge_attr, size, return_attention_weights)\u001b[0m\n\u001b[1;32m    214\u001b[0m         \u001b[0;32melse\u001b[0m\u001b[0;34m:\u001b[0m  \u001b[0;31m# Tuple of source and target node features:\u001b[0m\u001b[0;34m\u001b[0m\u001b[0;34m\u001b[0m\u001b[0m\n\u001b[1;32m    215\u001b[0m             \u001b[0mx_src\u001b[0m\u001b[0;34m,\u001b[0m \u001b[0mx_dst\u001b[0m \u001b[0;34m=\u001b[0m \u001b[0mx\u001b[0m\u001b[0;34m\u001b[0m\u001b[0;34m\u001b[0m\u001b[0m\n\u001b[0;32m--> 216\u001b[0;31m             \u001b[0;32massert\u001b[0m \u001b[0mx_src\u001b[0m\u001b[0;34m.\u001b[0m\u001b[0mdim\u001b[0m\u001b[0;34m(\u001b[0m\u001b[0;34m)\u001b[0m \u001b[0;34m==\u001b[0m \u001b[0;36m2\u001b[0m\u001b[0;34m,\u001b[0m \u001b[0;34m\"Static graphs not supported in 'GATConv'\"\u001b[0m\u001b[0;34m\u001b[0m\u001b[0;34m\u001b[0m\u001b[0m\n\u001b[0m\u001b[1;32m    217\u001b[0m             \u001b[0mx_src\u001b[0m \u001b[0;34m=\u001b[0m \u001b[0mself\u001b[0m\u001b[0;34m.\u001b[0m\u001b[0mlin_src\u001b[0m\u001b[0;34m(\u001b[0m\u001b[0mx_src\u001b[0m\u001b[0;34m)\u001b[0m\u001b[0;34m.\u001b[0m\u001b[0mview\u001b[0m\u001b[0;34m(\u001b[0m\u001b[0;34m-\u001b[0m\u001b[0;36m1\u001b[0m\u001b[0;34m,\u001b[0m \u001b[0mH\u001b[0m\u001b[0;34m,\u001b[0m \u001b[0mC\u001b[0m\u001b[0;34m)\u001b[0m\u001b[0;34m\u001b[0m\u001b[0;34m\u001b[0m\u001b[0m\n\u001b[1;32m    218\u001b[0m             \u001b[0;32mif\u001b[0m \u001b[0mx_dst\u001b[0m \u001b[0;32mis\u001b[0m \u001b[0;32mnot\u001b[0m \u001b[0;32mNone\u001b[0m\u001b[0;34m:\u001b[0m\u001b[0;34m\u001b[0m\u001b[0;34m\u001b[0m\u001b[0m\n",
            "\u001b[0;31mAttributeError\u001b[0m: 'NoneType' object has no attribute 'dim'"
          ]
        }
      ],
      "source": [
        "epochs = 10\n",
        "for epoch in range(1, epochs + 1):\n",
        "    model, acc = train(model, train_loader, optimizer, loss_fn)\n",
        "    val_auc = test(model, val_data)\n",
        "    test_auc = test(model, test_data)\n",
        "    print(f'Epoch: {epoch:03d}, Training Accuracy: {acc:.4f}, Val AUC: {val_auc:.4f}, Test AUC: {test_auc:.4f}')"
      ]
    }
  ],
  "metadata": {
    "colab": {
      "provenance": []
    },
    "kernelspec": {
      "display_name": "Python 3",
      "name": "python3"
    },
    "language_info": {
      "name": "python"
    }
  },
  "nbformat": 4,
  "nbformat_minor": 0
}
