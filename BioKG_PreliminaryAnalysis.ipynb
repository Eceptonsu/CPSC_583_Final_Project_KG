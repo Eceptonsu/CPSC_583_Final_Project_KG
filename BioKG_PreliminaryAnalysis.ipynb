{
 "cells": [
  {
   "cell_type": "code",
   "execution_count": 1,
   "metadata": {},
   "outputs": [],
   "source": [
    "import torch\n",
    "import torch_geometric\n",
    "import networkx as nx\n",
    "from torch_geometric.utils import to_networkx\n",
    "from ogb.linkproppred import PygLinkPropPredDataset\n",
    "\n",
    "import numpy as np\n",
    "import matplotlib.pyplot as plt\n",
    "from tqdm import tqdm"
   ]
  },
  {
   "cell_type": "code",
   "execution_count": 2,
   "metadata": {},
   "outputs": [
    {
     "name": "stdout",
     "output_type": "stream",
     "text": [
      "Data(\n",
      "  num_nodes_dict={\n",
      "    disease=10687,\n",
      "    drug=10533,\n",
      "    function=45085,\n",
      "    protein=17499,\n",
      "    sideeffect=9969,\n",
      "  },\n",
      "  edge_index_dict={\n",
      "    (disease, disease-protein, protein)=[2, 73547],\n",
      "    (drug, drug-disease, disease)=[2, 5147],\n",
      "    (drug, drug-drug_acquired_metabolic_disease, drug)=[2, 63430],\n",
      "    (drug, drug-drug_bacterial_infectious_disease, drug)=[2, 18554],\n",
      "    (drug, drug-drug_benign_neoplasm, drug)=[2, 30348],\n",
      "    (drug, drug-drug_cancer, drug)=[2, 48514],\n",
      "    (drug, drug-drug_cardiovascular_system_disease, drug)=[2, 94842],\n",
      "    (drug, drug-drug_chromosomal_disease, drug)=[2, 316],\n",
      "    (drug, drug-drug_cognitive_disorder, drug)=[2, 34660],\n",
      "    (drug, drug-drug_cryptorchidism, drug)=[2, 128],\n",
      "    (drug, drug-drug_developmental_disorder_of_mental_health, drug)=[2, 14314],\n",
      "    (drug, drug-drug_endocrine_system_disease, drug)=[2, 55994],\n",
      "    (drug, drug-drug_fungal_infectious_disease, drug)=[2, 36114],\n",
      "    (drug, drug-drug_gastrointestinal_system_disease, drug)=[2, 83210],\n",
      "    (drug, drug-drug_hematopoietic_system_disease, drug)=[2, 79202],\n",
      "    (drug, drug-drug_hematopoietic_system_diseases, drug)=[2, 3006],\n",
      "    (drug, drug-drug_hypospadias, drug)=[2, 292],\n",
      "    (drug, drug-drug_immune_system_disease, drug)=[2, 34242],\n",
      "    (drug, drug-drug_inherited_metabolic_disorder, drug)=[2, 36492],\n",
      "    (drug, drug-drug_integumentary_system_disease, drug)=[2, 73902],\n",
      "    (drug, drug-drug_irritable_bowel_syndrome, drug)=[2, 8528],\n",
      "    (drug, drug-drug_monogenic_disease, drug)=[2, 600],\n",
      "    (drug, drug-drug_musculoskeletal_system_disease, drug)=[2, 57926],\n",
      "    (drug, drug-drug_nervous_system_disease, drug)=[2, 80208],\n",
      "    (drug, drug-drug_orofacial_cleft, drug)=[2, 380],\n",
      "    (drug, drug-drug_parasitic_infectious_disease, drug)=[2, 1680],\n",
      "    (drug, drug-drug_personality_disorder, drug)=[2, 972],\n",
      "    (drug, drug-drug_polycystic_ovary_syndrome, drug)=[2, 514],\n",
      "    (drug, drug-drug_pre-malignant_neoplasm, drug)=[2, 3224],\n",
      "    (drug, drug-drug_psoriatic_arthritis, drug)=[2, 2014],\n",
      "    (drug, drug-drug_reproductive_system_disease, drug)=[2, 17006],\n",
      "    (drug, drug-drug_respiratory_system_disease, drug)=[2, 82168],\n",
      "    (drug, drug-drug_sexual_disorder, drug)=[2, 1260],\n",
      "    (drug, drug-drug_sleep_disorder, drug)=[2, 25860],\n",
      "    (drug, drug-drug_somatoform_disorder, drug)=[2, 2214],\n",
      "    (drug, drug-drug_struct_sim, drug)=[2, 26348],\n",
      "    (drug, drug-drug_substance-related_disorder, drug)=[2, 4392],\n",
      "    (drug, drug-drug_thoracic_disease, drug)=[2, 4660],\n",
      "    (drug, drug-drug_urinary_system_disease, drug)=[2, 67326],\n",
      "    (drug, drug-drug_viral_infectious_disease, drug)=[2, 38846],\n",
      "    (drug, drug-protein, protein)=[2, 117930],\n",
      "    (drug, drug-sideeffect, sideeffect)=[2, 157479],\n",
      "    (function, function-function, function)=[2, 1433230],\n",
      "    (protein, protein-function, function)=[2, 777577],\n",
      "    (protein, protein-protein_activation, protein)=[2, 73044],\n",
      "    (protein, protein-protein_binding, protein)=[2, 292254],\n",
      "    (protein, protein-protein_catalysis, protein)=[2, 303434],\n",
      "    (protein, protein-protein_expression, protein)=[2, 1952],\n",
      "    (protein, protein-protein_inhibition, protein)=[2, 25732],\n",
      "    (protein, protein-protein_ptmod, protein)=[2, 15120],\n",
      "    (protein, protein-protein_reaction, protein)=[2, 352546],\n",
      "  },\n",
      "  edge_reltype={\n",
      "    (disease, disease-protein, protein)=[73547, 1],\n",
      "    (drug, drug-disease, disease)=[5147, 1],\n",
      "    (drug, drug-drug_acquired_metabolic_disease, drug)=[63430, 1],\n",
      "    (drug, drug-drug_bacterial_infectious_disease, drug)=[18554, 1],\n",
      "    (drug, drug-drug_benign_neoplasm, drug)=[30348, 1],\n",
      "    (drug, drug-drug_cancer, drug)=[48514, 1],\n",
      "    (drug, drug-drug_cardiovascular_system_disease, drug)=[94842, 1],\n",
      "    (drug, drug-drug_chromosomal_disease, drug)=[316, 1],\n",
      "    (drug, drug-drug_cognitive_disorder, drug)=[34660, 1],\n",
      "    (drug, drug-drug_cryptorchidism, drug)=[128, 1],\n",
      "    (drug, drug-drug_developmental_disorder_of_mental_health, drug)=[14314, 1],\n",
      "    (drug, drug-drug_endocrine_system_disease, drug)=[55994, 1],\n",
      "    (drug, drug-drug_fungal_infectious_disease, drug)=[36114, 1],\n",
      "    (drug, drug-drug_gastrointestinal_system_disease, drug)=[83210, 1],\n",
      "    (drug, drug-drug_hematopoietic_system_disease, drug)=[79202, 1],\n",
      "    (drug, drug-drug_hematopoietic_system_diseases, drug)=[3006, 1],\n",
      "    (drug, drug-drug_hypospadias, drug)=[292, 1],\n",
      "    (drug, drug-drug_immune_system_disease, drug)=[34242, 1],\n",
      "    (drug, drug-drug_inherited_metabolic_disorder, drug)=[36492, 1],\n",
      "    (drug, drug-drug_integumentary_system_disease, drug)=[73902, 1],\n",
      "    (drug, drug-drug_irritable_bowel_syndrome, drug)=[8528, 1],\n",
      "    (drug, drug-drug_monogenic_disease, drug)=[600, 1],\n",
      "    (drug, drug-drug_musculoskeletal_system_disease, drug)=[57926, 1],\n",
      "    (drug, drug-drug_nervous_system_disease, drug)=[80208, 1],\n",
      "    (drug, drug-drug_orofacial_cleft, drug)=[380, 1],\n",
      "    (drug, drug-drug_parasitic_infectious_disease, drug)=[1680, 1],\n",
      "    (drug, drug-drug_personality_disorder, drug)=[972, 1],\n",
      "    (drug, drug-drug_polycystic_ovary_syndrome, drug)=[514, 1],\n",
      "    (drug, drug-drug_pre-malignant_neoplasm, drug)=[3224, 1],\n",
      "    (drug, drug-drug_psoriatic_arthritis, drug)=[2014, 1],\n",
      "    (drug, drug-drug_reproductive_system_disease, drug)=[17006, 1],\n",
      "    (drug, drug-drug_respiratory_system_disease, drug)=[82168, 1],\n",
      "    (drug, drug-drug_sexual_disorder, drug)=[1260, 1],\n",
      "    (drug, drug-drug_sleep_disorder, drug)=[25860, 1],\n",
      "    (drug, drug-drug_somatoform_disorder, drug)=[2214, 1],\n",
      "    (drug, drug-drug_struct_sim, drug)=[26348, 1],\n",
      "    (drug, drug-drug_substance-related_disorder, drug)=[4392, 1],\n",
      "    (drug, drug-drug_thoracic_disease, drug)=[4660, 1],\n",
      "    (drug, drug-drug_urinary_system_disease, drug)=[67326, 1],\n",
      "    (drug, drug-drug_viral_infectious_disease, drug)=[38846, 1],\n",
      "    (drug, drug-protein, protein)=[117930, 1],\n",
      "    (drug, drug-sideeffect, sideeffect)=[157479, 1],\n",
      "    (function, function-function, function)=[1433230, 1],\n",
      "    (protein, protein-function, function)=[777577, 1],\n",
      "    (protein, protein-protein_activation, protein)=[73044, 1],\n",
      "    (protein, protein-protein_binding, protein)=[292254, 1],\n",
      "    (protein, protein-protein_catalysis, protein)=[303434, 1],\n",
      "    (protein, protein-protein_expression, protein)=[1952, 1],\n",
      "    (protein, protein-protein_inhibition, protein)=[25732, 1],\n",
      "    (protein, protein-protein_ptmod, protein)=[15120, 1],\n",
      "    (protein, protein-protein_reaction, protein)=[352546, 1],\n",
      "  }\n",
      ")\n"
     ]
    }
   ],
   "source": [
    "dataset = PygLinkPropPredDataset(name=\"ogbl-biokg\", root='dataset/')\n",
    "\n",
    "split_edge = dataset.get_edge_split()\n",
    "train_edge, valid_edge, test_edge = split_edge[\"train\"], split_edge[\"valid\"], split_edge[\"test\"]\n",
    "graph = dataset[0]\n",
    "\n",
    "print(graph)"
   ]
  },
  {
   "cell_type": "code",
   "execution_count": 7,
   "metadata": {},
   "outputs": [],
   "source": [
    "from torch_geometric.data import HeteroData\n",
    "data = HeteroData()\n",
    "for node_type, num_nodes in graph.num_nodes_dict.items():\n",
    "    data[node_type].num_nodes = num_nodes\n",
    "for edge_type, edge_index in graph.edge_index_dict.items():\n",
    "    data[edge_type].edge_index = edge_index"
   ]
  },
  {
   "cell_type": "code",
   "execution_count": 9,
   "metadata": {},
   "outputs": [
    {
     "name": "stdout",
     "output_type": "stream",
     "text": [
      "HeteroData(\n",
      "  disease={ num_nodes=10687 },\n",
      "  drug={ num_nodes=10533 },\n",
      "  function={ num_nodes=45085 },\n",
      "  protein={ num_nodes=17499 },\n",
      "  sideeffect={ num_nodes=9969 },\n",
      "  (disease, disease-protein, protein)={ edge_index=[2, 73547] },\n",
      "  (drug, drug-disease, disease)={ edge_index=[2, 5147] },\n",
      "  (drug, drug-drug_acquired_metabolic_disease, drug)={ edge_index=[2, 63430] },\n",
      "  (drug, drug-drug_bacterial_infectious_disease, drug)={ edge_index=[2, 18554] },\n",
      "  (drug, drug-drug_benign_neoplasm, drug)={ edge_index=[2, 30348] },\n",
      "  (drug, drug-drug_cancer, drug)={ edge_index=[2, 48514] },\n",
      "  (drug, drug-drug_cardiovascular_system_disease, drug)={ edge_index=[2, 94842] },\n",
      "  (drug, drug-drug_chromosomal_disease, drug)={ edge_index=[2, 316] },\n",
      "  (drug, drug-drug_cognitive_disorder, drug)={ edge_index=[2, 34660] },\n",
      "  (drug, drug-drug_cryptorchidism, drug)={ edge_index=[2, 128] },\n",
      "  (drug, drug-drug_developmental_disorder_of_mental_health, drug)={ edge_index=[2, 14314] },\n",
      "  (drug, drug-drug_endocrine_system_disease, drug)={ edge_index=[2, 55994] },\n",
      "  (drug, drug-drug_fungal_infectious_disease, drug)={ edge_index=[2, 36114] },\n",
      "  (drug, drug-drug_gastrointestinal_system_disease, drug)={ edge_index=[2, 83210] },\n",
      "  (drug, drug-drug_hematopoietic_system_disease, drug)={ edge_index=[2, 79202] },\n",
      "  (drug, drug-drug_hematopoietic_system_diseases, drug)={ edge_index=[2, 3006] },\n",
      "  (drug, drug-drug_hypospadias, drug)={ edge_index=[2, 292] },\n",
      "  (drug, drug-drug_immune_system_disease, drug)={ edge_index=[2, 34242] },\n",
      "  (drug, drug-drug_inherited_metabolic_disorder, drug)={ edge_index=[2, 36492] },\n",
      "  (drug, drug-drug_integumentary_system_disease, drug)={ edge_index=[2, 73902] },\n",
      "  (drug, drug-drug_irritable_bowel_syndrome, drug)={ edge_index=[2, 8528] },\n",
      "  (drug, drug-drug_monogenic_disease, drug)={ edge_index=[2, 600] },\n",
      "  (drug, drug-drug_musculoskeletal_system_disease, drug)={ edge_index=[2, 57926] },\n",
      "  (drug, drug-drug_nervous_system_disease, drug)={ edge_index=[2, 80208] },\n",
      "  (drug, drug-drug_orofacial_cleft, drug)={ edge_index=[2, 380] },\n",
      "  (drug, drug-drug_parasitic_infectious_disease, drug)={ edge_index=[2, 1680] },\n",
      "  (drug, drug-drug_personality_disorder, drug)={ edge_index=[2, 972] },\n",
      "  (drug, drug-drug_polycystic_ovary_syndrome, drug)={ edge_index=[2, 514] },\n",
      "  (drug, drug-drug_pre-malignant_neoplasm, drug)={ edge_index=[2, 3224] },\n",
      "  (drug, drug-drug_psoriatic_arthritis, drug)={ edge_index=[2, 2014] },\n",
      "  (drug, drug-drug_reproductive_system_disease, drug)={ edge_index=[2, 17006] },\n",
      "  (drug, drug-drug_respiratory_system_disease, drug)={ edge_index=[2, 82168] },\n",
      "  (drug, drug-drug_sexual_disorder, drug)={ edge_index=[2, 1260] },\n",
      "  (drug, drug-drug_sleep_disorder, drug)={ edge_index=[2, 25860] },\n",
      "  (drug, drug-drug_somatoform_disorder, drug)={ edge_index=[2, 2214] },\n",
      "  (drug, drug-drug_struct_sim, drug)={ edge_index=[2, 26348] },\n",
      "  (drug, drug-drug_substance-related_disorder, drug)={ edge_index=[2, 4392] },\n",
      "  (drug, drug-drug_thoracic_disease, drug)={ edge_index=[2, 4660] },\n",
      "  (drug, drug-drug_urinary_system_disease, drug)={ edge_index=[2, 67326] },\n",
      "  (drug, drug-drug_viral_infectious_disease, drug)={ edge_index=[2, 38846] },\n",
      "  (drug, drug-protein, protein)={ edge_index=[2, 117930] },\n",
      "  (drug, drug-sideeffect, sideeffect)={ edge_index=[2, 157479] },\n",
      "  (function, function-function, function)={ edge_index=[2, 1433230] },\n",
      "  (protein, protein-function, function)={ edge_index=[2, 777577] },\n",
      "  (protein, protein-protein_activation, protein)={ edge_index=[2, 73044] },\n",
      "  (protein, protein-protein_binding, protein)={ edge_index=[2, 292254] },\n",
      "  (protein, protein-protein_catalysis, protein)={ edge_index=[2, 303434] },\n",
      "  (protein, protein-protein_expression, protein)={ edge_index=[2, 1952] },\n",
      "  (protein, protein-protein_inhibition, protein)={ edge_index=[2, 25732] },\n",
      "  (protein, protein-protein_ptmod, protein)={ edge_index=[2, 15120] },\n",
      "  (protein, protein-protein_reaction, protein)={ edge_index=[2, 352546] }\n",
      ")\n"
     ]
    }
   ],
   "source": [
    "print(data)"
   ]
  },
  {
   "cell_type": "code",
   "execution_count": 4,
   "metadata": {},
   "outputs": [
    {
     "name": "stdout",
     "output_type": "stream",
     "text": [
      "{'disease': 10687, 'drug': 10533, 'function': 45085, 'protein': 17499, 'sideeffect': 9969}\n",
      "Total nodes: 93773\n"
     ]
    }
   ],
   "source": [
    "# Introductory Data Analysis\n",
    "\n",
    "print(graph.num_nodes_dict)\n",
    "total_nodes = sum(list(graph.num_nodes_dict.values()))\n",
    "print(f\"Total nodes: {total_nodes}\")\n"
   ]
  },
  {
   "cell_type": "code",
   "execution_count": 5,
   "metadata": {},
   "outputs": [
    {
     "name": "stdout",
     "output_type": "stream",
     "text": [
      "dict_keys([('disease', 'disease-protein', 'protein'), ('drug', 'drug-disease', 'disease'), ('drug', 'drug-drug_acquired_metabolic_disease', 'drug'), ('drug', 'drug-drug_bacterial_infectious_disease', 'drug'), ('drug', 'drug-drug_benign_neoplasm', 'drug'), ('drug', 'drug-drug_cancer', 'drug'), ('drug', 'drug-drug_cardiovascular_system_disease', 'drug'), ('drug', 'drug-drug_chromosomal_disease', 'drug'), ('drug', 'drug-drug_cognitive_disorder', 'drug'), ('drug', 'drug-drug_cryptorchidism', 'drug'), ('drug', 'drug-drug_developmental_disorder_of_mental_health', 'drug'), ('drug', 'drug-drug_endocrine_system_disease', 'drug'), ('drug', 'drug-drug_fungal_infectious_disease', 'drug'), ('drug', 'drug-drug_gastrointestinal_system_disease', 'drug'), ('drug', 'drug-drug_hematopoietic_system_disease', 'drug'), ('drug', 'drug-drug_hematopoietic_system_diseases', 'drug'), ('drug', 'drug-drug_hypospadias', 'drug'), ('drug', 'drug-drug_immune_system_disease', 'drug'), ('drug', 'drug-drug_inherited_metabolic_disorder', 'drug'), ('drug', 'drug-drug_integumentary_system_disease', 'drug'), ('drug', 'drug-drug_irritable_bowel_syndrome', 'drug'), ('drug', 'drug-drug_monogenic_disease', 'drug'), ('drug', 'drug-drug_musculoskeletal_system_disease', 'drug'), ('drug', 'drug-drug_nervous_system_disease', 'drug'), ('drug', 'drug-drug_orofacial_cleft', 'drug'), ('drug', 'drug-drug_parasitic_infectious_disease', 'drug'), ('drug', 'drug-drug_personality_disorder', 'drug'), ('drug', 'drug-drug_polycystic_ovary_syndrome', 'drug'), ('drug', 'drug-drug_pre-malignant_neoplasm', 'drug'), ('drug', 'drug-drug_psoriatic_arthritis', 'drug'), ('drug', 'drug-drug_reproductive_system_disease', 'drug'), ('drug', 'drug-drug_respiratory_system_disease', 'drug'), ('drug', 'drug-drug_sexual_disorder', 'drug'), ('drug', 'drug-drug_sleep_disorder', 'drug'), ('drug', 'drug-drug_somatoform_disorder', 'drug'), ('drug', 'drug-drug_struct_sim', 'drug'), ('drug', 'drug-drug_substance-related_disorder', 'drug'), ('drug', 'drug-drug_thoracic_disease', 'drug'), ('drug', 'drug-drug_urinary_system_disease', 'drug'), ('drug', 'drug-drug_viral_infectious_disease', 'drug'), ('drug', 'drug-protein', 'protein'), ('drug', 'drug-sideeffect', 'sideeffect'), ('function', 'function-function', 'function'), ('protein', 'protein-function', 'function'), ('protein', 'protein-protein_activation', 'protein'), ('protein', 'protein-protein_binding', 'protein'), ('protein', 'protein-protein_catalysis', 'protein'), ('protein', 'protein-protein_expression', 'protein'), ('protein', 'protein-protein_inhibition', 'protein'), ('protein', 'protein-protein_ptmod', 'protein'), ('protein', 'protein-protein_reaction', 'protein')])\n",
      "51\n",
      "dict_keys([('disease', 'disease-protein', 'protein'), ('drug', 'drug-disease', 'disease'), ('drug', 'drug-drug_acquired_metabolic_disease', 'drug'), ('drug', 'drug-drug_bacterial_infectious_disease', 'drug'), ('drug', 'drug-drug_benign_neoplasm', 'drug'), ('drug', 'drug-drug_cancer', 'drug'), ('drug', 'drug-drug_cardiovascular_system_disease', 'drug'), ('drug', 'drug-drug_chromosomal_disease', 'drug'), ('drug', 'drug-drug_cognitive_disorder', 'drug'), ('drug', 'drug-drug_cryptorchidism', 'drug'), ('drug', 'drug-drug_developmental_disorder_of_mental_health', 'drug'), ('drug', 'drug-drug_endocrine_system_disease', 'drug'), ('drug', 'drug-drug_fungal_infectious_disease', 'drug'), ('drug', 'drug-drug_gastrointestinal_system_disease', 'drug'), ('drug', 'drug-drug_hematopoietic_system_disease', 'drug'), ('drug', 'drug-drug_hematopoietic_system_diseases', 'drug'), ('drug', 'drug-drug_hypospadias', 'drug'), ('drug', 'drug-drug_immune_system_disease', 'drug'), ('drug', 'drug-drug_inherited_metabolic_disorder', 'drug'), ('drug', 'drug-drug_integumentary_system_disease', 'drug'), ('drug', 'drug-drug_irritable_bowel_syndrome', 'drug'), ('drug', 'drug-drug_monogenic_disease', 'drug'), ('drug', 'drug-drug_musculoskeletal_system_disease', 'drug'), ('drug', 'drug-drug_nervous_system_disease', 'drug'), ('drug', 'drug-drug_orofacial_cleft', 'drug'), ('drug', 'drug-drug_parasitic_infectious_disease', 'drug'), ('drug', 'drug-drug_personality_disorder', 'drug'), ('drug', 'drug-drug_polycystic_ovary_syndrome', 'drug'), ('drug', 'drug-drug_pre-malignant_neoplasm', 'drug'), ('drug', 'drug-drug_psoriatic_arthritis', 'drug'), ('drug', 'drug-drug_reproductive_system_disease', 'drug'), ('drug', 'drug-drug_respiratory_system_disease', 'drug'), ('drug', 'drug-drug_sexual_disorder', 'drug'), ('drug', 'drug-drug_sleep_disorder', 'drug'), ('drug', 'drug-drug_somatoform_disorder', 'drug'), ('drug', 'drug-drug_struct_sim', 'drug'), ('drug', 'drug-drug_substance-related_disorder', 'drug'), ('drug', 'drug-drug_thoracic_disease', 'drug'), ('drug', 'drug-drug_urinary_system_disease', 'drug'), ('drug', 'drug-drug_viral_infectious_disease', 'drug'), ('drug', 'drug-protein', 'protein'), ('drug', 'drug-sideeffect', 'sideeffect'), ('function', 'function-function', 'function'), ('protein', 'protein-function', 'function'), ('protein', 'protein-protein_activation', 'protein'), ('protein', 'protein-protein_binding', 'protein'), ('protein', 'protein-protein_catalysis', 'protein'), ('protein', 'protein-protein_expression', 'protein'), ('protein', 'protein-protein_inhibition', 'protein'), ('protein', 'protein-protein_ptmod', 'protein'), ('protein', 'protein-protein_reaction', 'protein')])\n",
      "51\n"
     ]
    }
   ],
   "source": [
    "print(graph.edge_index_dict.keys())\n",
    "print(len(graph.edge_index_dict.keys()))\n",
    "print(graph.edge_reltype.keys())\n",
    "print(len(graph.edge_reltype.keys()))"
   ]
  },
  {
   "cell_type": "code",
   "execution_count": 6,
   "metadata": {},
   "outputs": [
    {
     "name": "stdout",
     "output_type": "stream",
     "text": [
      "dict_keys(['head_type', 'head', 'relation', 'tail_type', 'tail'])\n",
      "['disease', 'disease', 'disease', 'disease', 'disease']\n",
      "tensor([ 1718,  4903,  5480,  3148, 10300])\n",
      "tensor([0, 0, 0, 0, 0])\n",
      "['protein', 'protein', 'protein', 'protein', 'protein']\n",
      "tensor([ 3207, 13662, 15999,  7247, 16202])\n"
     ]
    }
   ],
   "source": [
    "print(train_edge.keys())\n",
    "print(train_edge[\"head_type\"][:5])\n",
    "print(train_edge[\"head\"][:5])\n",
    "print(train_edge[\"relation\"][:5])\n",
    "print(train_edge[\"tail_type\"][:5])\n",
    "print(train_edge[\"tail\"][:5])\n"
   ]
  },
  {
   "cell_type": "code",
   "execution_count": 7,
   "metadata": {},
   "outputs": [
    {
     "name": "stdout",
     "output_type": "stream",
     "text": [
      "torch.Size([4762678])\n",
      "torch.Size([44639])\n",
      "tensor(45084)\n",
      "tensor(0)\n",
      "torch.Size([4762678])\n",
      "torch.Size([45085])\n",
      "tensor(45084)\n",
      "tensor(0)\n"
     ]
    }
   ],
   "source": [
    "print(train_edge[\"head\"].shape)\n",
    "print(train_edge[\"head\"].unique().shape)\n",
    "print(train_edge[\"head\"].max())\n",
    "print(train_edge[\"head\"].min())\n",
    "print(train_edge[\"tail\"].shape)\n",
    "print(train_edge[\"tail\"].unique().shape)\n",
    "print(train_edge[\"tail\"].max())\n",
    "print(train_edge[\"tail\"].min())"
   ]
  },
  {
   "cell_type": "code",
   "execution_count": 8,
   "metadata": {},
   "outputs": [
    {
     "name": "stdout",
     "output_type": "stream",
     "text": [
      "tensor(27)\n",
      "tensor(66)\n",
      "\n",
      "Outdegree Max: 26670\n",
      "Outdegree ArgMax: 6146\n",
      "Indegree Max: 36089\n",
      "Indegree ArgMax: 6146\n",
      "Outdegree Mean: 105.63775091493845\n",
      "Indegree_Mean: 105.63775091493845\n"
     ]
    }
   ],
   "source": [
    "def get_outdegree(edges, idx):\n",
    "    outdegree = torch.where(edges[\"head\"] == idx, 1, 0).sum()\n",
    "    return outdegree\n",
    "\n",
    "def get_indegree(edges, idx):\n",
    "    indegree = torch.where(edges[\"tail\"] == idx, 1, 0).sum()\n",
    "    return indegree\n",
    "\n",
    "outdegrees = train_edge[\"head\"].bincount()\n",
    "indegrees = train_edge[\"tail\"].bincount()\n",
    "\n",
    "print(outdegrees[0])\n",
    "print(indegrees[0])\n",
    "print()\n",
    "outdegree_max = torch.max(outdegrees)\n",
    "outdegree_argmax = torch.argmax(outdegrees)\n",
    "indegree_max = torch.max(indegrees)\n",
    "indegree_argmax = torch.argmax(indegrees)\n",
    "print(f\"Outdegree Max: {outdegree_max}\")\n",
    "print(f\"Outdegree ArgMax: {outdegree_argmax}\")\n",
    "print(f\"Indegree Max: {indegree_max}\")\n",
    "print(f\"Indegree ArgMax: {indegree_argmax}\")\n",
    "\n",
    "outdegree_mean = torch.mean(outdegrees.to(float))\n",
    "indegree_mean = torch.mean(indegrees.to(float))\n",
    "print(f\"Outdegree Mean: {outdegree_mean}\")\n",
    "print(f\"Indegree_Mean: {indegree_mean}\")\n"
   ]
  },
  {
   "cell_type": "code",
   "execution_count": 13,
   "metadata": {},
   "outputs": [
    {
     "data": {
      "image/png": "[encoded data removed]",
      "text/plain": [
       "<Figure size 640x480 with 1 Axes>"
      ]
     },
     "metadata": {},
     "output_type": "display_data"
    }
   ],
   "source": [
    "counts, bins = np.histogram(outdegrees, bins=np.logspace(np.log10(1), np.log10(outdegree_max), 25))\n",
    "plt.stairs(counts, bins)\n",
    "plt.xscale(\"log\")\n",
    "plt.yscale(\"log\")\n",
    "plt.title(\"Outdegree Distribution (obgl-biokg)\")\n",
    "plt.show()"
   ]
  },
  {
   "cell_type": "code",
   "execution_count": 14,
   "metadata": {},
   "outputs": [
    {
     "data": {
      "image/png": "[encoded data removed]",
      "text/plain": [
       "<Figure size 640x480 with 1 Axes>"
      ]
     },
     "metadata": {},
     "output_type": "display_data"
    }
   ],
   "source": [
    "counts, bins = np.histogram(indegrees, bins=np.logspace(np.log10(1), np.log10(indegree_max), 25))\n",
    "plt.stairs(counts, bins)\n",
    "plt.xscale(\"log\")\n",
    "plt.yscale(\"log\")\n",
    "plt.title(\"Indegree Distribution (obgl-biokg)\")\n",
    "plt.show()"
   ]
  },
  {
   "cell_type": "code",
   "execution_count": 11,
   "metadata": {},
   "outputs": [],
   "source": [
    "edge_list = torch.stack((train_edge[\"head\"], train_edge[\"tail\"]), dim=1)\n",
    "# edge_list = zip(train_edge[\"head\"], train_edge[\"tail\"])"
   ]
  },
  {
   "cell_type": "code",
   "execution_count": 12,
   "metadata": {},
   "outputs": [],
   "source": [
    "graph_nx = nx.from_edgelist(edge_list)"
   ]
  }
 ],
 "metadata": {
  "kernelspec": {
   "display_name": "Python 3 (ipykernel)",
   "language": "python",
   "name": "python3"
  },
  "language_info": {
   "codemirror_mode": {
    "name": "ipython",
    "version": 3
   },
   "file_extension": ".py",
   "mimetype": "text/x-python",
   "name": "python",
   "nbconvert_exporter": "python",
   "pygments_lexer": "ipython3",
   "version": "3.11.5"
  }
 },
 "nbformat": 4,
 "nbformat_minor": 4
}
